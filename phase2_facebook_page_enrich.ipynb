{
 "cells": [
  {
   "cell_type": "code",
   "execution_count": 3,
   "id": "fc5cf574",
   "metadata": {},
   "outputs": [],
   "source": [
    "import os\n",
    "import pandas as pd\n",
    "from dotenv import load_dotenv\n",
    "from apify_client import ApifyClient\n",
    "\n",
    "load_dotenv()\n",
    "token = os.getenv(\"APIFY_API_TOKEN\")\n",
    "if not token:\n",
    "    raise RuntimeError(\"🔥 Set APIFY_API_TOKEN in your .env\")\n",
    "\n",
    "client = ApifyClient(token)\n",
    "\n",
    "def enrich_page(page_name):\n",
    "    \"\"\"Searches Facebook via lexic scraper and returns top result or empty dict.\"\"\"\n",
    "    print(f\"🔍 Looking up '{page_name}' on Facebook...\")\n",
    "    run = client.actor(\"apify/facebook-search-scraper\").call(\n",
    "        run_input={\"searchQuery\": page_name}\n",
    "    )\n",
    "    did = run.get(\"defaultDatasetId\")\n",
    "    if not did:\n",
    "        return {}\n",
    "    items = list(client.dataset(did).iterate_items())\n",
    "    return items[0] if items else {}\n",
    "\n",
    "def main():\n",
    "    df = pd.read_csv(\"results/ads_cleaned.csv\")\n",
    "    enriched = []\n",
    "    seen_pages = set()\n",
    "\n",
    "    for _, row in df.iterrows():\n",
    "        page = row.get(\"page_name\", \"\").strip()\n",
    "        if not page or page in seen_pages:\n",
    "            continue\n",
    "        seen_pages.add(page)\n",
    "\n",
    "        data = enrich_page(page)\n",
    "        if data:\n",
    "            record = {**row, **{\n",
    "                \"fb_profile_url\": data.get(\"profileUrl\", \"\"),\n",
    "                \"name\": data.get(\"name\", \"\"),\n",
    "                \"email\": data.get(\"email\", \"\"),\n",
    "                \"phone\": data.get(\"phone\", \"\"),\n",
    "                \"work\": data.get(\"work\", []),\n",
    "                \"education\": data.get(\"education\", [])\n",
    "            }}\n",
    "            enriched.append(record)\n",
    "\n",
    "    out_df = pd.DataFrame(enriched)\n",
    "    out_df.to_csv(\"results/enriched_pages.csv\", index=False, encoding=\"utf-8\")\n",
    "    print(f\"✅ Enriched {len(out_df)} pages — saved to results/enriched_pages.csv\")\n",
    "\n",
    "\n"
   ]
  },
  {
   "cell_type": "code",
   "execution_count": 4,
   "id": "2707b740",
   "metadata": {},
   "outputs": [
    {
     "name": "stdout",
     "output_type": "stream",
     "text": [
      "🔍 Looking up 'All About Circuits' on Facebook...\n"
     ]
    },
    {
     "name": "stderr",
     "output_type": "stream",
     "text": [
      "\u001b[36m[apify.facebook-search-scraper runId:Cs3p0DMDa0ixRkXX5]\u001b[0m -> Status: RUNNING, Message: \n",
      "\u001b[36m[apify.facebook-search-scraper runId:Cs3p0DMDa0ixRkXX5]\u001b[0m -> 2025-06-20T17:57:05.163Z ACTOR: Pulling Docker image of build Zb454ZPJ6q5DPla0h from registry.\n",
      "\u001b[36m[apify.facebook-search-scraper runId:Cs3p0DMDa0ixRkXX5]\u001b[0m -> 2025-06-20T17:57:05.163Z ACTOR: Creating Docker container.\n",
      "\u001b[36m[apify.facebook-search-scraper runId:Cs3p0DMDa0ixRkXX5]\u001b[0m -> 2025-06-20T17:57:05.316Z ACTOR: Starting Docker container.\n",
      "\u001b[36m[apify.facebook-search-scraper runId:Cs3p0DMDa0ixRkXX5]\u001b[0m -> 2025-06-20T17:57:07.732Z \u001b[32mINFO\u001b[39m  System info\u001b[90m {\"apifyVersion\":\"3.2.6\",\"apifyClientVersion\":\"2.9.4\",\"crawleeVersion\":\"3.12.1\",\"osType\":\"Linux\",\"nodeVersion\":\"v20.19.2\"}\u001b[39m\n",
      "\u001b[36m[apify.facebook-search-scraper runId:Cs3p0DMDa0ixRkXX5]\u001b[0m -> 2025-06-20T17:57:07.828Z \u001b[32mINFO\u001b[39m  Results Limit 20\n",
      "\u001b[36m[apify.facebook-search-scraper runId:Cs3p0DMDa0ixRkXX5]\u001b[0m -> 2025-06-20T17:57:08.522Z \u001b[32mINFO\u001b[39m \u001b[33m CheerioCrawler:\u001b[39m Using the old RequestQueue implementation without request locking.\n",
      "\u001b[36m[apify.facebook-search-scraper runId:Cs3p0DMDa0ixRkXX5]\u001b[0m -> 2025-06-20T17:57:08.666Z \u001b[32mINFO\u001b[39m \u001b[33m CheerioCrawler:\u001b[39m Starting the crawler.\n",
      "\u001b[36m[apify.facebook-search-scraper runId:Cs3p0DMDa0ixRkXX5]\u001b[0m -> 2025-06-20T17:57:08.779Z \u001b[32mINFO\u001b[39m \u001b[33m CheerioCrawler:\u001b[39m All requests from the queue have been processed, the crawler will shut down.\n",
      "\u001b[36m[apify.facebook-search-scraper runId:Cs3p0DMDa0ixRkXX5]\u001b[0m -> 2025-06-20T17:57:08.981Z \u001b[32mINFO\u001b[39m \u001b[33m CheerioCrawler:\u001b[39m Final request statistics:\u001b[90m {\"requestsFinished\":0,\"requestsFailed\":0,\"retryHistogram\":[],\"requestAvgFailedDurationMillis\":null,\"requestAvgFinishedDurationMillis\":null,\"requestsFinishedPerMinute\":0,\"requestsFailedPerMinute\":0,\"requestTotalDurationMillis\":0,\"requestsTotal\":0,\"crawlerRuntimeMillis\":460}\u001b[39m\n",
      "\u001b[36m[apify.facebook-search-scraper runId:Cs3p0DMDa0ixRkXX5]\u001b[0m -> 2025-06-20T17:57:08.982Z \u001b[32mINFO\u001b[39m \u001b[33m CheerioCrawler:\u001b[39m Finished! Total 0 requests: 0 succeeded, 0 failed.\u001b[90m {\"terminal\":true}\u001b[39m\n",
      "\u001b[36m[apify.facebook-search-scraper runId:Cs3p0DMDa0ixRkXX5]\u001b[0m -> 2025-06-20T17:57:09.116Z \u001b[32mINFO\u001b[39m  *** DONE ***\n",
      "\u001b[36m[apify.facebook-search-scraper runId:Cs3p0DMDa0ixRkXX5]\u001b[0m -> Status: RUNNING, Message: Finished! Total 0 requests: 0 succeeded, 0 failed.\n"
     ]
    },
    {
     "name": "stdout",
     "output_type": "stream",
     "text": [
      "🔍 Looking up 'Stanly Community College SBC' on Facebook...\n"
     ]
    },
    {
     "name": "stderr",
     "output_type": "stream",
     "text": [
      "\u001b[36m[apify.facebook-search-scraper runId:3GhRHcmsuJvJHAdWw]\u001b[0m -> Status: RUNNING, Message: \n",
      "\u001b[36m[apify.facebook-search-scraper runId:3GhRHcmsuJvJHAdWw]\u001b[0m -> 2025-06-20T17:57:17.012Z ACTOR: Pulling Docker image of build Zb454ZPJ6q5DPla0h from registry.\n",
      "\u001b[36m[apify.facebook-search-scraper runId:3GhRHcmsuJvJHAdWw]\u001b[0m -> 2025-06-20T17:57:17.013Z ACTOR: Creating Docker container.\n",
      "\u001b[36m[apify.facebook-search-scraper runId:3GhRHcmsuJvJHAdWw]\u001b[0m -> 2025-06-20T17:57:17.145Z ACTOR: Starting Docker container.\n",
      "\u001b[36m[apify.facebook-search-scraper runId:3GhRHcmsuJvJHAdWw]\u001b[0m -> 2025-06-20T17:57:18.904Z \u001b[32mINFO\u001b[39m  System info\u001b[90m {\"apifyVersion\":\"3.2.6\",\"apifyClientVersion\":\"2.9.4\",\"crawleeVersion\":\"3.12.1\",\"osType\":\"Linux\",\"nodeVersion\":\"v20.19.2\"}\u001b[39m\n",
      "\u001b[36m[apify.facebook-search-scraper runId:3GhRHcmsuJvJHAdWw]\u001b[0m -> 2025-06-20T17:57:18.998Z \u001b[32mINFO\u001b[39m  Results Limit 20\n",
      "\u001b[36m[apify.facebook-search-scraper runId:3GhRHcmsuJvJHAdWw]\u001b[0m -> 2025-06-20T17:57:19.554Z \u001b[32mINFO\u001b[39m \u001b[33m CheerioCrawler:\u001b[39m Using the old RequestQueue implementation without request locking.\n",
      "\u001b[36m[apify.facebook-search-scraper runId:3GhRHcmsuJvJHAdWw]\u001b[0m -> 2025-06-20T17:57:19.667Z \u001b[32mINFO\u001b[39m \u001b[33m CheerioCrawler:\u001b[39m Starting the crawler.\n",
      "\u001b[36m[apify.facebook-search-scraper runId:3GhRHcmsuJvJHAdWw]\u001b[0m -> 2025-06-20T17:57:19.744Z \u001b[32mINFO\u001b[39m \u001b[33m CheerioCrawler:\u001b[39m All requests from the queue have been processed, the crawler will shut down.\n",
      "\u001b[36m[apify.facebook-search-scraper runId:3GhRHcmsuJvJHAdWw]\u001b[0m -> 2025-06-20T17:57:19.870Z \u001b[32mINFO\u001b[39m \u001b[33m CheerioCrawler:\u001b[39m Final request statistics:\u001b[90m {\"requestsFinished\":0,\"requestsFailed\":0,\"retryHistogram\":[],\"requestAvgFailedDurationMillis\":null,\"requestAvgFinishedDurationMillis\":null,\"requestsFinishedPerMinute\":0,\"requestsFailedPerMinute\":0,\"requestTotalDurationMillis\":0,\"requestsTotal\":0,\"crawlerRuntimeMillis\":317}\u001b[39m\n",
      "\u001b[36m[apify.facebook-search-scraper runId:3GhRHcmsuJvJHAdWw]\u001b[0m -> 2025-06-20T17:57:19.871Z \u001b[32mINFO\u001b[39m \u001b[33m CheerioCrawler:\u001b[39m Finished! Total 0 requests: 0 succeeded, 0 failed.\u001b[90m {\"terminal\":true}\u001b[39m\n",
      "\u001b[36m[apify.facebook-search-scraper runId:3GhRHcmsuJvJHAdWw]\u001b[0m -> 2025-06-20T17:57:20.007Z \u001b[32mINFO\u001b[39m  *** DONE ***\n",
      "\u001b[36m[apify.facebook-search-scraper runId:3GhRHcmsuJvJHAdWw]\u001b[0m -> Status: SUCCEEDED, Message: Finished! Total 0 requests: 0 succeeded, 0 failed.\n"
     ]
    },
    {
     "name": "stdout",
     "output_type": "stream",
     "text": [
      "🔍 Looking up 'Visionary Solutions Inc.' on Facebook...\n"
     ]
    },
    {
     "name": "stderr",
     "output_type": "stream",
     "text": [
      "\u001b[36m[apify.facebook-search-scraper runId:YxBO77yhOV07ZTRFr]\u001b[0m -> Status: RUNNING, Message: \n",
      "\u001b[36m[apify.facebook-search-scraper runId:YxBO77yhOV07ZTRFr]\u001b[0m -> 2025-06-20T17:57:28.041Z ACTOR: Pulling Docker image of build Zb454ZPJ6q5DPla0h from registry.\n",
      "\u001b[36m[apify.facebook-search-scraper runId:YxBO77yhOV07ZTRFr]\u001b[0m -> 2025-06-20T17:57:28.042Z ACTOR: Creating Docker container.\n",
      "\u001b[36m[apify.facebook-search-scraper runId:YxBO77yhOV07ZTRFr]\u001b[0m -> 2025-06-20T17:57:28.233Z ACTOR: Starting Docker container.\n",
      "\u001b[36m[apify.facebook-search-scraper runId:YxBO77yhOV07ZTRFr]\u001b[0m -> 2025-06-20T17:57:30.096Z \u001b[32mINFO\u001b[39m  System info\u001b[90m {\"apifyVersion\":\"3.2.6\",\"apifyClientVersion\":\"2.9.4\",\"crawleeVersion\":\"3.12.1\",\"osType\":\"Linux\",\"nodeVersion\":\"v20.19.2\"}\u001b[39m\n",
      "\u001b[36m[apify.facebook-search-scraper runId:YxBO77yhOV07ZTRFr]\u001b[0m -> 2025-06-20T17:57:30.179Z \u001b[32mINFO\u001b[39m  Results Limit 20\n",
      "\u001b[36m[apify.facebook-search-scraper runId:YxBO77yhOV07ZTRFr]\u001b[0m -> 2025-06-20T17:57:30.717Z \u001b[32mINFO\u001b[39m \u001b[33m CheerioCrawler:\u001b[39m Using the old RequestQueue implementation without request locking.\n",
      "\u001b[36m[apify.facebook-search-scraper runId:YxBO77yhOV07ZTRFr]\u001b[0m -> 2025-06-20T17:57:30.845Z \u001b[32mINFO\u001b[39m \u001b[33m CheerioCrawler:\u001b[39m Starting the crawler.\n",
      "\u001b[36m[apify.facebook-search-scraper runId:YxBO77yhOV07ZTRFr]\u001b[0m -> 2025-06-20T17:57:30.927Z \u001b[32mINFO\u001b[39m \u001b[33m CheerioCrawler:\u001b[39m All requests from the queue have been processed, the crawler will shut down.\n",
      "\u001b[36m[apify.facebook-search-scraper runId:YxBO77yhOV07ZTRFr]\u001b[0m -> 2025-06-20T17:57:31.036Z \u001b[32mINFO\u001b[39m \u001b[33m CheerioCrawler:\u001b[39m Final request statistics:\u001b[90m {\"requestsFinished\":0,\"requestsFailed\":0,\"retryHistogram\":[],\"requestAvgFailedDurationMillis\":null,\"requestAvgFinishedDurationMillis\":null,\"requestsFinishedPerMinute\":0,\"requestsFailedPerMinute\":0,\"requestTotalDurationMillis\":0,\"requestsTotal\":0,\"crawlerRuntimeMillis\":320}\u001b[39m\n",
      "\u001b[36m[apify.facebook-search-scraper runId:YxBO77yhOV07ZTRFr]\u001b[0m -> 2025-06-20T17:57:31.037Z \u001b[32mINFO\u001b[39m \u001b[33m CheerioCrawler:\u001b[39m Finished! Total 0 requests: 0 succeeded, 0 failed.\u001b[90m {\"terminal\":true}\u001b[39m\n",
      "\u001b[36m[apify.facebook-search-scraper runId:YxBO77yhOV07ZTRFr]\u001b[0m -> 2025-06-20T17:57:31.164Z \u001b[32mINFO\u001b[39m  *** DONE ***\n",
      "\u001b[36m[apify.facebook-search-scraper runId:YxBO77yhOV07ZTRFr]\u001b[0m -> Status: RUNNING, Message: Finished! Total 0 requests: 0 succeeded, 0 failed.\n"
     ]
    },
    {
     "name": "stdout",
     "output_type": "stream",
     "text": [
      "🔍 Looking up 'Smith Marketing Team' on Facebook...\n"
     ]
    },
    {
     "name": "stderr",
     "output_type": "stream",
     "text": [
      "\u001b[36m[apify.facebook-search-scraper runId:3W9HBtjR5r5wOBeLC]\u001b[0m -> Status: RUNNING, Message: \n",
      "\u001b[36m[apify.facebook-search-scraper runId:3W9HBtjR5r5wOBeLC]\u001b[0m -> 2025-06-20T17:57:38.928Z ACTOR: Pulling Docker image of build Zb454ZPJ6q5DPla0h from registry.\n",
      "\u001b[36m[apify.facebook-search-scraper runId:3W9HBtjR5r5wOBeLC]\u001b[0m -> 2025-06-20T17:57:38.930Z ACTOR: Creating Docker container.\n",
      "\u001b[36m[apify.facebook-search-scraper runId:3W9HBtjR5r5wOBeLC]\u001b[0m -> 2025-06-20T17:57:39.141Z ACTOR: Starting Docker container.\n",
      "\u001b[36m[apify.facebook-search-scraper runId:3W9HBtjR5r5wOBeLC]\u001b[0m -> 2025-06-20T17:57:40.811Z \u001b[32mINFO\u001b[39m  System info\u001b[90m {\"apifyVersion\":\"3.2.6\",\"apifyClientVersion\":\"2.9.4\",\"crawleeVersion\":\"3.12.1\",\"osType\":\"Linux\",\"nodeVersion\":\"v20.19.2\"}\u001b[39m\n",
      "\u001b[36m[apify.facebook-search-scraper runId:3W9HBtjR5r5wOBeLC]\u001b[0m -> 2025-06-20T17:57:41.019Z \u001b[32mINFO\u001b[39m  Results Limit 20\n",
      "\u001b[36m[apify.facebook-search-scraper runId:3W9HBtjR5r5wOBeLC]\u001b[0m -> 2025-06-20T17:57:41.723Z \u001b[32mINFO\u001b[39m \u001b[33m CheerioCrawler:\u001b[39m Using the old RequestQueue implementation without request locking.\n",
      "\u001b[36m[apify.facebook-search-scraper runId:3W9HBtjR5r5wOBeLC]\u001b[0m -> 2025-06-20T17:57:41.884Z \u001b[32mINFO\u001b[39m \u001b[33m CheerioCrawler:\u001b[39m Starting the crawler.\n",
      "\u001b[36m[apify.facebook-search-scraper runId:3W9HBtjR5r5wOBeLC]\u001b[0m -> 2025-06-20T17:57:41.977Z \u001b[32mINFO\u001b[39m \u001b[33m CheerioCrawler:\u001b[39m All requests from the queue have been processed, the crawler will shut down.\n",
      "\u001b[36m[apify.facebook-search-scraper runId:3W9HBtjR5r5wOBeLC]\u001b[0m -> 2025-06-20T17:57:42.094Z \u001b[32mINFO\u001b[39m \u001b[33m CheerioCrawler:\u001b[39m Final request statistics:\u001b[90m {\"requestsFinished\":0,\"requestsFailed\":0,\"retryHistogram\":[],\"requestAvgFailedDurationMillis\":null,\"requestAvgFinishedDurationMillis\":null,\"requestsFinishedPerMinute\":0,\"requestsFailedPerMinute\":0,\"requestTotalDurationMillis\":0,\"requestsTotal\":0,\"crawlerRuntimeMillis\":372}\u001b[39m\n",
      "\u001b[36m[apify.facebook-search-scraper runId:3W9HBtjR5r5wOBeLC]\u001b[0m -> Status: RUNNING, Message: Finished! Total 0 requests: 0 succeeded, 0 failed.\n",
      "\u001b[36m[apify.facebook-search-scraper runId:3W9HBtjR5r5wOBeLC]\u001b[0m -> 2025-06-20T17:57:42.096Z \u001b[32mINFO\u001b[39m \u001b[33m CheerioCrawler:\u001b[39m Finished! Total 0 requests: 0 succeeded, 0 failed.\u001b[90m {\"terminal\":true}\u001b[39m\n",
      "\u001b[36m[apify.facebook-search-scraper runId:3W9HBtjR5r5wOBeLC]\u001b[0m -> 2025-06-20T17:57:42.198Z \u001b[32mINFO\u001b[39m  *** DONE ***\n"
     ]
    },
    {
     "name": "stdout",
     "output_type": "stream",
     "text": [
      "🔍 Looking up 'Beth Powanda, P.A., Realtor at Re/Max Marketing Specialists' on Facebook...\n"
     ]
    },
    {
     "name": "stderr",
     "output_type": "stream",
     "text": [
      "\u001b[36m[apify.facebook-search-scraper runId:oAJCmVuL4jLwIphze]\u001b[0m -> Status: RUNNING, Message: \n",
      "\u001b[36m[apify.facebook-search-scraper runId:oAJCmVuL4jLwIphze]\u001b[0m -> 2025-06-20T17:57:50.523Z ACTOR: Pulling Docker image of build Zb454ZPJ6q5DPla0h from registry.\n",
      "\u001b[36m[apify.facebook-search-scraper runId:oAJCmVuL4jLwIphze]\u001b[0m -> 2025-06-20T17:57:53.628Z ACTOR: Creating Docker container.\n",
      "\u001b[36m[apify.facebook-search-scraper runId:oAJCmVuL4jLwIphze]\u001b[0m -> 2025-06-20T17:57:53.769Z ACTOR: Starting Docker container.\n",
      "\u001b[36m[apify.facebook-search-scraper runId:oAJCmVuL4jLwIphze]\u001b[0m -> 2025-06-20T17:57:55.379Z \u001b[32mINFO\u001b[39m  System info\u001b[90m {\"apifyVersion\":\"3.2.6\",\"apifyClientVersion\":\"2.9.4\",\"crawleeVersion\":\"3.12.1\",\"osType\":\"Linux\",\"nodeVersion\":\"v20.19.2\"}\u001b[39m\n",
      "\u001b[36m[apify.facebook-search-scraper runId:oAJCmVuL4jLwIphze]\u001b[0m -> 2025-06-20T17:57:55.496Z \u001b[32mINFO\u001b[39m  Results Limit 20\n",
      "\u001b[36m[apify.facebook-search-scraper runId:oAJCmVuL4jLwIphze]\u001b[0m -> 2025-06-20T17:57:56.056Z \u001b[32mINFO\u001b[39m \u001b[33m CheerioCrawler:\u001b[39m Using the old RequestQueue implementation without request locking.\n",
      "\u001b[36m[apify.facebook-search-scraper runId:oAJCmVuL4jLwIphze]\u001b[0m -> 2025-06-20T17:57:56.150Z \u001b[32mINFO\u001b[39m \u001b[33m CheerioCrawler:\u001b[39m Starting the crawler.\n",
      "\u001b[36m[apify.facebook-search-scraper runId:oAJCmVuL4jLwIphze]\u001b[0m -> 2025-06-20T17:57:56.252Z \u001b[32mINFO\u001b[39m \u001b[33m CheerioCrawler:\u001b[39m All requests from the queue have been processed, the crawler will shut down.\n",
      "\u001b[36m[apify.facebook-search-scraper runId:oAJCmVuL4jLwIphze]\u001b[0m -> 2025-06-20T17:57:56.386Z \u001b[32mINFO\u001b[39m \u001b[33m CheerioCrawler:\u001b[39m Final request statistics:\u001b[90m {\"requestsFinished\":0,\"requestsFailed\":0,\"retryHistogram\":[],\"requestAvgFailedDurationMillis\":null,\"requestAvgFinishedDurationMillis\":null,\"requestsFinishedPerMinute\":0,\"requestsFailedPerMinute\":0,\"requestTotalDurationMillis\":0,\"requestsTotal\":0,\"crawlerRuntimeMillis\":321}\u001b[39m\n",
      "\u001b[36m[apify.facebook-search-scraper runId:oAJCmVuL4jLwIphze]\u001b[0m -> 2025-06-20T17:57:56.390Z \u001b[32mINFO\u001b[39m \u001b[33m CheerioCrawler:\u001b[39m Finished! Total 0 requests: 0 succeeded, 0 failed.\u001b[90m {\"terminal\":true}\u001b[39m\n",
      "\u001b[36m[apify.facebook-search-scraper runId:oAJCmVuL4jLwIphze]\u001b[0m -> Status: RUNNING, Message: Finished! Total 0 requests: 0 succeeded, 0 failed.\n",
      "\u001b[36m[apify.facebook-search-scraper runId:oAJCmVuL4jLwIphze]\u001b[0m -> 2025-06-20T17:57:56.487Z \u001b[32mINFO\u001b[39m  *** DONE ***\n"
     ]
    },
    {
     "name": "stdout",
     "output_type": "stream",
     "text": [
      "🔍 Looking up 'The Business Revolution for Practitioners with Joanna Sapir' on Facebook...\n"
     ]
    },
    {
     "name": "stderr",
     "output_type": "stream",
     "text": [
      "\u001b[36m[apify.facebook-search-scraper runId:Z7fVYZXB20AOlavHH]\u001b[0m -> Status: RUNNING, Message: \n",
      "\u001b[36m[apify.facebook-search-scraper runId:Z7fVYZXB20AOlavHH]\u001b[0m -> 2025-06-20T17:58:04.552Z ACTOR: Pulling Docker image of build Zb454ZPJ6q5DPla0h from registry.\n",
      "\u001b[36m[apify.facebook-search-scraper runId:Z7fVYZXB20AOlavHH]\u001b[0m -> 2025-06-20T17:58:04.553Z ACTOR: Creating Docker container.\n",
      "\u001b[36m[apify.facebook-search-scraper runId:Z7fVYZXB20AOlavHH]\u001b[0m -> 2025-06-20T17:58:04.730Z ACTOR: Starting Docker container.\n",
      "\u001b[36m[apify.facebook-search-scraper runId:Z7fVYZXB20AOlavHH]\u001b[0m -> 2025-06-20T17:58:06.235Z \u001b[32mINFO\u001b[39m  System info\u001b[90m {\"apifyVersion\":\"3.2.6\",\"apifyClientVersion\":\"2.9.4\",\"crawleeVersion\":\"3.12.1\",\"osType\":\"Linux\",\"nodeVersion\":\"v20.19.2\"}\u001b[39m\n",
      "\u001b[36m[apify.facebook-search-scraper runId:Z7fVYZXB20AOlavHH]\u001b[0m -> 2025-06-20T17:58:06.314Z \u001b[32mINFO\u001b[39m  Results Limit 20\n",
      "\u001b[36m[apify.facebook-search-scraper runId:Z7fVYZXB20AOlavHH]\u001b[0m -> 2025-06-20T17:58:06.917Z \u001b[32mINFO\u001b[39m \u001b[33m CheerioCrawler:\u001b[39m Using the old RequestQueue implementation without request locking.\n",
      "\u001b[36m[apify.facebook-search-scraper runId:Z7fVYZXB20AOlavHH]\u001b[0m -> 2025-06-20T17:58:07.047Z \u001b[32mINFO\u001b[39m \u001b[33m CheerioCrawler:\u001b[39m Starting the crawler.\n",
      "\u001b[36m[apify.facebook-search-scraper runId:Z7fVYZXB20AOlavHH]\u001b[0m -> 2025-06-20T17:58:07.159Z \u001b[32mINFO\u001b[39m \u001b[33m CheerioCrawler:\u001b[39m All requests from the queue have been processed, the crawler will shut down.\n",
      "\u001b[36m[apify.facebook-search-scraper runId:Z7fVYZXB20AOlavHH]\u001b[0m -> 2025-06-20T17:58:07.316Z \u001b[32mINFO\u001b[39m \u001b[33m CheerioCrawler:\u001b[39m Final request statistics:\u001b[90m {\"requestsFinished\":0,\"requestsFailed\":0,\"retryHistogram\":[],\"requestAvgFailedDurationMillis\":null,\"requestAvgFinishedDurationMillis\":null,\"requestsFinishedPerMinute\":0,\"requestsFailedPerMinute\":0,\"requestTotalDurationMillis\":0,\"requestsTotal\":0,\"crawlerRuntimeMillis\":399}\u001b[39m\n",
      "\u001b[36m[apify.facebook-search-scraper runId:Z7fVYZXB20AOlavHH]\u001b[0m -> 2025-06-20T17:58:07.317Z \u001b[32mINFO\u001b[39m \u001b[33m CheerioCrawler:\u001b[39m Finished! Total 0 requests: 0 succeeded, 0 failed.\u001b[90m {\"terminal\":true}\u001b[39m\n",
      "\u001b[36m[apify.facebook-search-scraper runId:Z7fVYZXB20AOlavHH]\u001b[0m -> 2025-06-20T17:58:07.437Z \u001b[32mINFO\u001b[39m  *** DONE ***\n",
      "\u001b[36m[apify.facebook-search-scraper runId:Z7fVYZXB20AOlavHH]\u001b[0m -> Status: SUCCEEDED, Message: Finished! Total 0 requests: 0 succeeded, 0 failed.\n"
     ]
    },
    {
     "name": "stdout",
     "output_type": "stream",
     "text": [
      "🔍 Looking up 'The Marketing Ninja' on Facebook...\n"
     ]
    },
    {
     "name": "stderr",
     "output_type": "stream",
     "text": [
      "\u001b[36m[apify.facebook-search-scraper runId:7DRRrj8v0ZosLdN6T]\u001b[0m -> Status: RUNNING, Message: \n",
      "\u001b[36m[apify.facebook-search-scraper runId:7DRRrj8v0ZosLdN6T]\u001b[0m -> 2025-06-20T17:58:15.480Z ACTOR: Pulling Docker image of build Zb454ZPJ6q5DPla0h from registry.\n",
      "\u001b[36m[apify.facebook-search-scraper runId:7DRRrj8v0ZosLdN6T]\u001b[0m -> 2025-06-20T17:58:15.482Z ACTOR: Creating Docker container.\n",
      "\u001b[36m[apify.facebook-search-scraper runId:7DRRrj8v0ZosLdN6T]\u001b[0m -> 2025-06-20T17:58:15.547Z ACTOR: Starting Docker container.\n",
      "\u001b[36m[apify.facebook-search-scraper runId:7DRRrj8v0ZosLdN6T]\u001b[0m -> 2025-06-20T17:58:17.127Z \u001b[32mINFO\u001b[39m  System info\u001b[90m {\"apifyVersion\":\"3.2.6\",\"apifyClientVersion\":\"2.9.4\",\"crawleeVersion\":\"3.12.1\",\"osType\":\"Linux\",\"nodeVersion\":\"v20.19.2\"}\u001b[39m\n",
      "\u001b[36m[apify.facebook-search-scraper runId:7DRRrj8v0ZosLdN6T]\u001b[0m -> 2025-06-20T17:58:17.276Z \u001b[32mINFO\u001b[39m  Results Limit 20\n",
      "\u001b[36m[apify.facebook-search-scraper runId:7DRRrj8v0ZosLdN6T]\u001b[0m -> 2025-06-20T17:58:17.849Z \u001b[32mINFO\u001b[39m \u001b[33m CheerioCrawler:\u001b[39m Using the old RequestQueue implementation without request locking.\n",
      "\u001b[36m[apify.facebook-search-scraper runId:7DRRrj8v0ZosLdN6T]\u001b[0m -> 2025-06-20T17:58:17.983Z \u001b[32mINFO\u001b[39m \u001b[33m CheerioCrawler:\u001b[39m Starting the crawler.\n",
      "\u001b[36m[apify.facebook-search-scraper runId:7DRRrj8v0ZosLdN6T]\u001b[0m -> 2025-06-20T17:58:18.069Z \u001b[32mINFO\u001b[39m \u001b[33m CheerioCrawler:\u001b[39m All requests from the queue have been processed, the crawler will shut down.\n",
      "\u001b[36m[apify.facebook-search-scraper runId:7DRRrj8v0ZosLdN6T]\u001b[0m -> 2025-06-20T17:58:18.166Z \u001b[32mINFO\u001b[39m \u001b[33m CheerioCrawler:\u001b[39m Final request statistics:\u001b[90m {\"requestsFinished\":0,\"requestsFailed\":0,\"retryHistogram\":[],\"requestAvgFailedDurationMillis\":null,\"requestAvgFinishedDurationMillis\":null,\"requestsFinishedPerMinute\":0,\"requestsFailedPerMinute\":0,\"requestTotalDurationMillis\":0,\"requestsTotal\":0,\"crawlerRuntimeMillis\":318}\u001b[39m\n",
      "\u001b[36m[apify.facebook-search-scraper runId:7DRRrj8v0ZosLdN6T]\u001b[0m -> 2025-06-20T17:58:18.168Z \u001b[32mINFO\u001b[39m \u001b[33m CheerioCrawler:\u001b[39m Finished! Total 0 requests: 0 succeeded, 0 failed.\u001b[90m {\"terminal\":true}\u001b[39m\n",
      "\u001b[36m[apify.facebook-search-scraper runId:7DRRrj8v0ZosLdN6T]\u001b[0m -> 2025-06-20T17:58:18.313Z \u001b[32mINFO\u001b[39m  *** DONE ***\n",
      "\u001b[36m[apify.facebook-search-scraper runId:7DRRrj8v0ZosLdN6T]\u001b[0m -> Status: SUCCEEDED, Message: Finished! Total 0 requests: 0 succeeded, 0 failed.\n"
     ]
    },
    {
     "name": "stdout",
     "output_type": "stream",
     "text": [
      "🔍 Looking up 'UBD Marketing' on Facebook...\n"
     ]
    },
    {
     "name": "stderr",
     "output_type": "stream",
     "text": [
      "\u001b[36m[apify.facebook-search-scraper runId:6r9cpBpZbVjgcfzmn]\u001b[0m -> Status: RUNNING, Message: \n",
      "\u001b[36m[apify.facebook-search-scraper runId:6r9cpBpZbVjgcfzmn]\u001b[0m -> 2025-06-20T17:58:26.410Z ACTOR: Pulling Docker image of build Zb454ZPJ6q5DPla0h from registry.\n",
      "\u001b[36m[apify.facebook-search-scraper runId:6r9cpBpZbVjgcfzmn]\u001b[0m -> 2025-06-20T17:58:26.411Z ACTOR: Creating Docker container.\n",
      "\u001b[36m[apify.facebook-search-scraper runId:6r9cpBpZbVjgcfzmn]\u001b[0m -> 2025-06-20T17:58:26.572Z ACTOR: Starting Docker container.\n",
      "\u001b[36m[apify.facebook-search-scraper runId:6r9cpBpZbVjgcfzmn]\u001b[0m -> 2025-06-20T17:58:27.883Z \u001b[32mINFO\u001b[39m  System info\u001b[90m {\"apifyVersion\":\"3.2.6\",\"apifyClientVersion\":\"2.9.4\",\"crawleeVersion\":\"3.12.1\",\"osType\":\"Linux\",\"nodeVersion\":\"v20.19.2\"}\u001b[39m\n",
      "\u001b[36m[apify.facebook-search-scraper runId:6r9cpBpZbVjgcfzmn]\u001b[0m -> 2025-06-20T17:58:27.986Z \u001b[32mINFO\u001b[39m  Results Limit 20\n",
      "\u001b[36m[apify.facebook-search-scraper runId:6r9cpBpZbVjgcfzmn]\u001b[0m -> 2025-06-20T17:58:28.571Z \u001b[32mINFO\u001b[39m \u001b[33m CheerioCrawler:\u001b[39m Using the old RequestQueue implementation without request locking.\n",
      "\u001b[36m[apify.facebook-search-scraper runId:6r9cpBpZbVjgcfzmn]\u001b[0m -> 2025-06-20T17:58:28.716Z \u001b[32mINFO\u001b[39m \u001b[33m CheerioCrawler:\u001b[39m Starting the crawler.\n",
      "\u001b[36m[apify.facebook-search-scraper runId:6r9cpBpZbVjgcfzmn]\u001b[0m -> 2025-06-20T17:58:28.793Z \u001b[32mINFO\u001b[39m \u001b[33m CheerioCrawler:\u001b[39m All requests from the queue have been processed, the crawler will shut down.\n",
      "\u001b[36m[apify.facebook-search-scraper runId:6r9cpBpZbVjgcfzmn]\u001b[0m -> 2025-06-20T17:58:28.950Z \u001b[32mINFO\u001b[39m \u001b[33m CheerioCrawler:\u001b[39m Final request statistics:\u001b[90m {\"requestsFinished\":0,\"requestsFailed\":0,\"retryHistogram\":[],\"requestAvgFailedDurationMillis\":null,\"requestAvgFinishedDurationMillis\":null,\"requestsFinishedPerMinute\":0,\"requestsFailedPerMinute\":0,\"requestTotalDurationMillis\":0,\"requestsTotal\":0,\"crawlerRuntimeMillis\":380}\u001b[39m\n",
      "\u001b[36m[apify.facebook-search-scraper runId:6r9cpBpZbVjgcfzmn]\u001b[0m -> 2025-06-20T17:58:28.951Z \u001b[32mINFO\u001b[39m \u001b[33m CheerioCrawler:\u001b[39m Finished! Total 0 requests: 0 succeeded, 0 failed.\u001b[90m {\"terminal\":true}\u001b[39m\n",
      "\u001b[36m[apify.facebook-search-scraper runId:6r9cpBpZbVjgcfzmn]\u001b[0m -> 2025-06-20T17:58:29.091Z \u001b[32mINFO\u001b[39m  *** DONE ***\n",
      "\u001b[36m[apify.facebook-search-scraper runId:6r9cpBpZbVjgcfzmn]\u001b[0m -> Status: SUCCEEDED, Message: Finished! Total 0 requests: 0 succeeded, 0 failed.\n"
     ]
    },
    {
     "name": "stdout",
     "output_type": "stream",
     "text": [
      "🔍 Looking up 'programareclame' on Facebook...\n"
     ]
    },
    {
     "name": "stderr",
     "output_type": "stream",
     "text": [
      "\u001b[36m[apify.facebook-search-scraper runId:Mcc7DH96Cd8VIc9ar]\u001b[0m -> Status: RUNNING, Message: \n",
      "\u001b[36m[apify.facebook-search-scraper runId:Mcc7DH96Cd8VIc9ar]\u001b[0m -> 2025-06-20T17:58:36.952Z ACTOR: Pulling Docker image of build Zb454ZPJ6q5DPla0h from registry.\n",
      "\u001b[36m[apify.facebook-search-scraper runId:Mcc7DH96Cd8VIc9ar]\u001b[0m -> 2025-06-20T17:58:36.954Z ACTOR: Creating Docker container.\n",
      "\u001b[36m[apify.facebook-search-scraper runId:Mcc7DH96Cd8VIc9ar]\u001b[0m -> 2025-06-20T17:58:37.088Z ACTOR: Starting Docker container.\n",
      "\u001b[36m[apify.facebook-search-scraper runId:Mcc7DH96Cd8VIc9ar]\u001b[0m -> 2025-06-20T17:58:38.516Z \u001b[32mINFO\u001b[39m  System info\u001b[90m {\"apifyVersion\":\"3.2.6\",\"apifyClientVersion\":\"2.9.4\",\"crawleeVersion\":\"3.12.1\",\"osType\":\"Linux\",\"nodeVersion\":\"v20.19.2\"}\u001b[39m\n",
      "\u001b[36m[apify.facebook-search-scraper runId:Mcc7DH96Cd8VIc9ar]\u001b[0m -> 2025-06-20T17:58:38.606Z \u001b[32mINFO\u001b[39m  Results Limit 20\n",
      "\u001b[36m[apify.facebook-search-scraper runId:Mcc7DH96Cd8VIc9ar]\u001b[0m -> 2025-06-20T17:58:39.151Z \u001b[32mINFO\u001b[39m \u001b[33m CheerioCrawler:\u001b[39m Using the old RequestQueue implementation without request locking.\n",
      "\u001b[36m[apify.facebook-search-scraper runId:Mcc7DH96Cd8VIc9ar]\u001b[0m -> 2025-06-20T17:58:39.280Z \u001b[32mINFO\u001b[39m \u001b[33m CheerioCrawler:\u001b[39m Starting the crawler.\n",
      "\u001b[36m[apify.facebook-search-scraper runId:Mcc7DH96Cd8VIc9ar]\u001b[0m -> 2025-06-20T17:58:39.370Z \u001b[32mINFO\u001b[39m \u001b[33m CheerioCrawler:\u001b[39m All requests from the queue have been processed, the crawler will shut down.\n",
      "\u001b[36m[apify.facebook-search-scraper runId:Mcc7DH96Cd8VIc9ar]\u001b[0m -> 2025-06-20T17:58:39.518Z \u001b[32mINFO\u001b[39m \u001b[33m CheerioCrawler:\u001b[39m Final request statistics:\u001b[90m {\"requestsFinished\":0,\"requestsFailed\":0,\"retryHistogram\":[],\"requestAvgFailedDurationMillis\":null,\"requestAvgFinishedDurationMillis\":null,\"requestsFinishedPerMinute\":0,\"requestsFailedPerMinute\":0,\"requestTotalDurationMillis\":0,\"requestsTotal\":0,\"crawlerRuntimeMillis\":367}\u001b[39m\n",
      "\u001b[36m[apify.facebook-search-scraper runId:Mcc7DH96Cd8VIc9ar]\u001b[0m -> 2025-06-20T17:58:39.520Z \u001b[32mINFO\u001b[39m \u001b[33m CheerioCrawler:\u001b[39m Finished! Total 0 requests: 0 succeeded, 0 failed.\u001b[90m {\"terminal\":true}\u001b[39m\n",
      "\u001b[36m[apify.facebook-search-scraper runId:Mcc7DH96Cd8VIc9ar]\u001b[0m -> 2025-06-20T17:58:39.710Z \u001b[32mINFO\u001b[39m  *** DONE ***\n",
      "\u001b[36m[apify.facebook-search-scraper runId:Mcc7DH96Cd8VIc9ar]\u001b[0m -> Status: SUCCEEDED, Message: Finished! Total 0 requests: 0 succeeded, 0 failed.\n"
     ]
    },
    {
     "name": "stdout",
     "output_type": "stream",
     "text": [
      "🔍 Looking up 'Mail marketer' on Facebook...\n"
     ]
    },
    {
     "name": "stderr",
     "output_type": "stream",
     "text": [
      "\u001b[36m[apify.facebook-search-scraper runId:slBhD1BHV6rtCsGpf]\u001b[0m -> Status: RUNNING, Message: \n",
      "\u001b[36m[apify.facebook-search-scraper runId:slBhD1BHV6rtCsGpf]\u001b[0m -> 2025-06-20T17:58:47.478Z ACTOR: Pulling Docker image of build Zb454ZPJ6q5DPla0h from registry.\n",
      "\u001b[36m[apify.facebook-search-scraper runId:slBhD1BHV6rtCsGpf]\u001b[0m -> 2025-06-20T17:58:47.481Z ACTOR: Creating Docker container.\n",
      "\u001b[36m[apify.facebook-search-scraper runId:slBhD1BHV6rtCsGpf]\u001b[0m -> 2025-06-20T17:58:47.644Z ACTOR: Starting Docker container.\n",
      "\u001b[36m[apify.facebook-search-scraper runId:slBhD1BHV6rtCsGpf]\u001b[0m -> 2025-06-20T17:58:49.197Z \u001b[32mINFO\u001b[39m  System info\u001b[90m {\"apifyVersion\":\"3.2.6\",\"apifyClientVersion\":\"2.9.4\",\"crawleeVersion\":\"3.12.1\",\"osType\":\"Linux\",\"nodeVersion\":\"v20.19.2\"}\u001b[39m\n",
      "\u001b[36m[apify.facebook-search-scraper runId:slBhD1BHV6rtCsGpf]\u001b[0m -> 2025-06-20T17:58:49.294Z \u001b[32mINFO\u001b[39m  Results Limit 20\n",
      "\u001b[36m[apify.facebook-search-scraper runId:slBhD1BHV6rtCsGpf]\u001b[0m -> 2025-06-20T17:58:49.896Z \u001b[32mINFO\u001b[39m \u001b[33m CheerioCrawler:\u001b[39m Using the old RequestQueue implementation without request locking.\n",
      "\u001b[36m[apify.facebook-search-scraper runId:slBhD1BHV6rtCsGpf]\u001b[0m -> 2025-06-20T17:58:50.045Z \u001b[32mINFO\u001b[39m \u001b[33m CheerioCrawler:\u001b[39m Starting the crawler.\n",
      "\u001b[36m[apify.facebook-search-scraper runId:slBhD1BHV6rtCsGpf]\u001b[0m -> Status: RUNNING, Message: Starting the crawler.\n",
      "\u001b[36m[apify.facebook-search-scraper runId:slBhD1BHV6rtCsGpf]\u001b[0m -> 2025-06-20T17:58:50.148Z \u001b[32mINFO\u001b[39m \u001b[33m CheerioCrawler:\u001b[39m All requests from the queue have been processed, the crawler will shut down.\n",
      "\u001b[36m[apify.facebook-search-scraper runId:slBhD1BHV6rtCsGpf]\u001b[0m -> 2025-06-20T17:58:50.259Z \u001b[32mINFO\u001b[39m \u001b[33m CheerioCrawler:\u001b[39m Final request statistics:\u001b[90m {\"requestsFinished\":0,\"requestsFailed\":0,\"retryHistogram\":[],\"requestAvgFailedDurationMillis\":null,\"requestAvgFinishedDurationMillis\":null,\"requestsFinishedPerMinute\":0,\"requestsFailedPerMinute\":0,\"requestTotalDurationMillis\":0,\"requestsTotal\":0,\"crawlerRuntimeMillis\":363}\u001b[39m\n",
      "\u001b[36m[apify.facebook-search-scraper runId:slBhD1BHV6rtCsGpf]\u001b[0m -> 2025-06-20T17:58:50.261Z \u001b[32mINFO\u001b[39m \u001b[33m CheerioCrawler:\u001b[39m Finished! Total 0 requests: 0 succeeded, 0 failed.\u001b[90m {\"terminal\":true}\u001b[39m\n",
      "\u001b[36m[apify.facebook-search-scraper runId:slBhD1BHV6rtCsGpf]\u001b[0m -> 2025-06-20T17:58:50.378Z \u001b[32mINFO\u001b[39m  *** DONE ***\n",
      "\u001b[36m[apify.facebook-search-scraper runId:slBhD1BHV6rtCsGpf]\u001b[0m -> Status: SUCCEEDED, Message: Finished! Total 0 requests: 0 succeeded, 0 failed.\n"
     ]
    },
    {
     "name": "stdout",
     "output_type": "stream",
     "text": [
      "🔍 Looking up 'Formation en parapharmacie' on Facebook...\n"
     ]
    },
    {
     "name": "stderr",
     "output_type": "stream",
     "text": [
      "\u001b[36m[apify.facebook-search-scraper runId:y6D9Oqsfy0WR8A3SN]\u001b[0m -> Status: RUNNING, Message: \n",
      "\u001b[36m[apify.facebook-search-scraper runId:y6D9Oqsfy0WR8A3SN]\u001b[0m -> 2025-06-20T17:58:58.223Z ACTOR: Pulling Docker image of build Zb454ZPJ6q5DPla0h from registry.\n",
      "\u001b[36m[apify.facebook-search-scraper runId:y6D9Oqsfy0WR8A3SN]\u001b[0m -> 2025-06-20T17:58:58.225Z ACTOR: Creating Docker container.\n",
      "\u001b[36m[apify.facebook-search-scraper runId:y6D9Oqsfy0WR8A3SN]\u001b[0m -> 2025-06-20T17:58:58.368Z ACTOR: Starting Docker container.\n",
      "\u001b[36m[apify.facebook-search-scraper runId:y6D9Oqsfy0WR8A3SN]\u001b[0m -> 2025-06-20T17:58:59.847Z \u001b[32mINFO\u001b[39m  System info\u001b[90m {\"apifyVersion\":\"3.2.6\",\"apifyClientVersion\":\"2.9.4\",\"crawleeVersion\":\"3.12.1\",\"osType\":\"Linux\",\"nodeVersion\":\"v20.19.2\"}\u001b[39m\n",
      "\u001b[36m[apify.facebook-search-scraper runId:y6D9Oqsfy0WR8A3SN]\u001b[0m -> 2025-06-20T17:58:59.938Z \u001b[32mINFO\u001b[39m  Results Limit 20\n",
      "\u001b[36m[apify.facebook-search-scraper runId:y6D9Oqsfy0WR8A3SN]\u001b[0m -> 2025-06-20T17:59:00.493Z \u001b[32mINFO\u001b[39m \u001b[33m CheerioCrawler:\u001b[39m Using the old RequestQueue implementation without request locking.\n",
      "\u001b[36m[apify.facebook-search-scraper runId:y6D9Oqsfy0WR8A3SN]\u001b[0m -> 2025-06-20T17:59:00.587Z \u001b[32mINFO\u001b[39m \u001b[33m CheerioCrawler:\u001b[39m Starting the crawler.\n",
      "\u001b[36m[apify.facebook-search-scraper runId:y6D9Oqsfy0WR8A3SN]\u001b[0m -> 2025-06-20T17:59:00.666Z \u001b[32mINFO\u001b[39m \u001b[33m CheerioCrawler:\u001b[39m All requests from the queue have been processed, the crawler will shut down.\n",
      "\u001b[36m[apify.facebook-search-scraper runId:y6D9Oqsfy0WR8A3SN]\u001b[0m -> 2025-06-20T17:59:00.779Z \u001b[32mINFO\u001b[39m \u001b[33m CheerioCrawler:\u001b[39m Final request statistics:\u001b[90m {\"requestsFinished\":0,\"requestsFailed\":0,\"retryHistogram\":[],\"requestAvgFailedDurationMillis\":null,\"requestAvgFinishedDurationMillis\":null,\"requestsFinishedPerMinute\":0,\"requestsFailedPerMinute\":0,\"requestTotalDurationMillis\":0,\"requestsTotal\":0,\"crawlerRuntimeMillis\":287}\u001b[39m\n",
      "\u001b[36m[apify.facebook-search-scraper runId:y6D9Oqsfy0WR8A3SN]\u001b[0m -> 2025-06-20T17:59:00.780Z \u001b[32mINFO\u001b[39m \u001b[33m CheerioCrawler:\u001b[39m Finished! Total 0 requests: 0 succeeded, 0 failed.\u001b[90m {\"terminal\":true}\u001b[39m\n",
      "\u001b[36m[apify.facebook-search-scraper runId:y6D9Oqsfy0WR8A3SN]\u001b[0m -> Status: RUNNING, Message: Finished! Total 0 requests: 0 succeeded, 0 failed.\n",
      "\u001b[36m[apify.facebook-search-scraper runId:y6D9Oqsfy0WR8A3SN]\u001b[0m -> 2025-06-20T17:59:00.906Z \u001b[32mINFO\u001b[39m  *** DONE ***\n"
     ]
    },
    {
     "name": "stdout",
     "output_type": "stream",
     "text": [
      "🔍 Looking up 'Pudu Robotics' on Facebook...\n"
     ]
    },
    {
     "name": "stderr",
     "output_type": "stream",
     "text": [
      "\u001b[36m[apify.facebook-search-scraper runId:Zjb0Yql0LhfbA3wSQ]\u001b[0m -> Status: RUNNING, Message: \n",
      "\u001b[36m[apify.facebook-search-scraper runId:Zjb0Yql0LhfbA3wSQ]\u001b[0m -> 2025-06-20T17:59:08.885Z ACTOR: Pulling Docker image of build Zb454ZPJ6q5DPla0h from registry.\n",
      "\u001b[36m[apify.facebook-search-scraper runId:Zjb0Yql0LhfbA3wSQ]\u001b[0m -> 2025-06-20T17:59:08.886Z ACTOR: Creating Docker container.\n",
      "\u001b[36m[apify.facebook-search-scraper runId:Zjb0Yql0LhfbA3wSQ]\u001b[0m -> 2025-06-20T17:59:08.973Z ACTOR: Starting Docker container.\n",
      "\u001b[36m[apify.facebook-search-scraper runId:Zjb0Yql0LhfbA3wSQ]\u001b[0m -> 2025-06-20T17:59:11.362Z \u001b[32mINFO\u001b[39m  System info\u001b[90m {\"apifyVersion\":\"3.2.6\",\"apifyClientVersion\":\"2.9.4\",\"crawleeVersion\":\"3.12.1\",\"osType\":\"Linux\",\"nodeVersion\":\"v20.19.2\"}\u001b[39m\n",
      "\u001b[36m[apify.facebook-search-scraper runId:Zjb0Yql0LhfbA3wSQ]\u001b[0m -> 2025-06-20T17:59:11.472Z \u001b[32mINFO\u001b[39m  Results Limit 20\n",
      "\u001b[36m[apify.facebook-search-scraper runId:Zjb0Yql0LhfbA3wSQ]\u001b[0m -> 2025-06-20T17:59:12.141Z \u001b[32mINFO\u001b[39m \u001b[33m CheerioCrawler:\u001b[39m Using the old RequestQueue implementation without request locking.\n",
      "\u001b[36m[apify.facebook-search-scraper runId:Zjb0Yql0LhfbA3wSQ]\u001b[0m -> 2025-06-20T17:59:12.255Z \u001b[32mINFO\u001b[39m \u001b[33m CheerioCrawler:\u001b[39m Starting the crawler.\n",
      "\u001b[36m[apify.facebook-search-scraper runId:Zjb0Yql0LhfbA3wSQ]\u001b[0m -> 2025-06-20T17:59:12.336Z \u001b[32mINFO\u001b[39m \u001b[33m CheerioCrawler:\u001b[39m All requests from the queue have been processed, the crawler will shut down.\n",
      "\u001b[36m[apify.facebook-search-scraper runId:Zjb0Yql0LhfbA3wSQ]\u001b[0m -> 2025-06-20T17:59:12.483Z \u001b[32mINFO\u001b[39m \u001b[33m CheerioCrawler:\u001b[39m Final request statistics:\u001b[90m {\"requestsFinished\":0,\"requestsFailed\":0,\"retryHistogram\":[],\"requestAvgFailedDurationMillis\":null,\"requestAvgFinishedDurationMillis\":null,\"requestsFinishedPerMinute\":0,\"requestsFailedPerMinute\":0,\"requestTotalDurationMillis\":0,\"requestsTotal\":0,\"crawlerRuntimeMillis\":342}\u001b[39m\n",
      "\u001b[36m[apify.facebook-search-scraper runId:Zjb0Yql0LhfbA3wSQ]\u001b[0m -> 2025-06-20T17:59:12.484Z \u001b[32mINFO\u001b[39m \u001b[33m CheerioCrawler:\u001b[39m Finished! Total 0 requests: 0 succeeded, 0 failed.\u001b[90m {\"terminal\":true}\u001b[39m\n",
      "\u001b[36m[apify.facebook-search-scraper runId:Zjb0Yql0LhfbA3wSQ]\u001b[0m -> Status: RUNNING, Message: Finished! Total 0 requests: 0 succeeded, 0 failed.\n",
      "\u001b[36m[apify.facebook-search-scraper runId:Zjb0Yql0LhfbA3wSQ]\u001b[0m -> 2025-06-20T17:59:12.593Z \u001b[32mINFO\u001b[39m  *** DONE ***\n"
     ]
    },
    {
     "name": "stdout",
     "output_type": "stream",
     "text": [
      "🔍 Looking up 'The Salesmark' on Facebook...\n"
     ]
    },
    {
     "name": "stderr",
     "output_type": "stream",
     "text": [
      "\u001b[36m[apify.facebook-search-scraper runId:LeEhE0ANuEsSo8Gji]\u001b[0m -> Status: RUNNING, Message: \n",
      "\u001b[36m[apify.facebook-search-scraper runId:LeEhE0ANuEsSo8Gji]\u001b[0m -> 2025-06-20T17:59:20.317Z ACTOR: Pulling Docker image of build Zb454ZPJ6q5DPla0h from registry.\n",
      "\u001b[36m[apify.facebook-search-scraper runId:LeEhE0ANuEsSo8Gji]\u001b[0m -> 2025-06-20T17:59:20.319Z ACTOR: Creating Docker container.\n",
      "\u001b[36m[apify.facebook-search-scraper runId:LeEhE0ANuEsSo8Gji]\u001b[0m -> 2025-06-20T17:59:20.411Z ACTOR: Starting Docker container.\n",
      "\u001b[36m[apify.facebook-search-scraper runId:LeEhE0ANuEsSo8Gji]\u001b[0m -> 2025-06-20T17:59:23.000Z \u001b[32mINFO\u001b[39m  System info\u001b[90m {\"apifyVersion\":\"3.2.6\",\"apifyClientVersion\":\"2.9.4\",\"crawleeVersion\":\"3.12.1\",\"osType\":\"Linux\",\"nodeVersion\":\"v20.19.2\"}\u001b[39m\n",
      "\u001b[36m[apify.facebook-search-scraper runId:LeEhE0ANuEsSo8Gji]\u001b[0m -> 2025-06-20T17:59:23.102Z \u001b[32mINFO\u001b[39m  Results Limit 20\n",
      "\u001b[36m[apify.facebook-search-scraper runId:LeEhE0ANuEsSo8Gji]\u001b[0m -> 2025-06-20T17:59:23.685Z \u001b[32mINFO\u001b[39m \u001b[33m CheerioCrawler:\u001b[39m Using the old RequestQueue implementation without request locking.\n",
      "\u001b[36m[apify.facebook-search-scraper runId:LeEhE0ANuEsSo8Gji]\u001b[0m -> 2025-06-20T17:59:23.798Z \u001b[32mINFO\u001b[39m \u001b[33m CheerioCrawler:\u001b[39m Starting the crawler.\n",
      "\u001b[36m[apify.facebook-search-scraper runId:LeEhE0ANuEsSo8Gji]\u001b[0m -> 2025-06-20T17:59:23.863Z \u001b[32mINFO\u001b[39m \u001b[33m CheerioCrawler:\u001b[39m All requests from the queue have been processed, the crawler will shut down.\n",
      "\u001b[36m[apify.facebook-search-scraper runId:LeEhE0ANuEsSo8Gji]\u001b[0m -> 2025-06-20T17:59:23.981Z \u001b[32mINFO\u001b[39m \u001b[33m CheerioCrawler:\u001b[39m Final request statistics:\u001b[90m {\"requestsFinished\":0,\"requestsFailed\":0,\"retryHistogram\":[],\"requestAvgFailedDurationMillis\":null,\"requestAvgFinishedDurationMillis\":null,\"requestsFinishedPerMinute\":0,\"requestsFailedPerMinute\":0,\"requestTotalDurationMillis\":0,\"requestsTotal\":0,\"crawlerRuntimeMillis\":296}\u001b[39m\n",
      "\u001b[36m[apify.facebook-search-scraper runId:LeEhE0ANuEsSo8Gji]\u001b[0m -> 2025-06-20T17:59:23.986Z \u001b[32mINFO\u001b[39m \u001b[33m CheerioCrawler:\u001b[39m Finished! Total 0 requests: 0 succeeded, 0 failed.\u001b[90m {\"terminal\":true}\u001b[39m\n",
      "\u001b[36m[apify.facebook-search-scraper runId:LeEhE0ANuEsSo8Gji]\u001b[0m -> Status: RUNNING, Message: Finished! Total 0 requests: 0 succeeded, 0 failed.\n",
      "\u001b[36m[apify.facebook-search-scraper runId:LeEhE0ANuEsSo8Gji]\u001b[0m -> 2025-06-20T17:59:24.149Z \u001b[32mINFO\u001b[39m  *** DONE ***\n"
     ]
    },
    {
     "name": "stdout",
     "output_type": "stream",
     "text": [
      "🔍 Looking up 'Элеонора Тюрина Маркетолог' on Facebook...\n"
     ]
    },
    {
     "name": "stderr",
     "output_type": "stream",
     "text": [
      "\u001b[36m[apify.facebook-search-scraper runId:ENly3RH5yJ9aa3JsB]\u001b[0m -> Status: RUNNING, Message: \n",
      "\u001b[36m[apify.facebook-search-scraper runId:ENly3RH5yJ9aa3JsB]\u001b[0m -> 2025-06-20T17:59:31.972Z ACTOR: Pulling Docker image of build Zb454ZPJ6q5DPla0h from registry.\n",
      "\u001b[36m[apify.facebook-search-scraper runId:ENly3RH5yJ9aa3JsB]\u001b[0m -> 2025-06-20T17:59:31.973Z ACTOR: Creating Docker container.\n",
      "\u001b[36m[apify.facebook-search-scraper runId:ENly3RH5yJ9aa3JsB]\u001b[0m -> 2025-06-20T17:59:32.058Z ACTOR: Starting Docker container.\n",
      "\u001b[36m[apify.facebook-search-scraper runId:ENly3RH5yJ9aa3JsB]\u001b[0m -> 2025-06-20T17:59:33.448Z \u001b[32mINFO\u001b[39m  System info\u001b[90m {\"apifyVersion\":\"3.2.6\",\"apifyClientVersion\":\"2.9.4\",\"crawleeVersion\":\"3.12.1\",\"osType\":\"Linux\",\"nodeVersion\":\"v20.19.2\"}\u001b[39m\n",
      "\u001b[36m[apify.facebook-search-scraper runId:ENly3RH5yJ9aa3JsB]\u001b[0m -> 2025-06-20T17:59:33.547Z \u001b[32mINFO\u001b[39m  Results Limit 20\n",
      "\u001b[36m[apify.facebook-search-scraper runId:ENly3RH5yJ9aa3JsB]\u001b[0m -> 2025-06-20T17:59:34.118Z \u001b[32mINFO\u001b[39m \u001b[33m CheerioCrawler:\u001b[39m Using the old RequestQueue implementation without request locking.\n",
      "\u001b[36m[apify.facebook-search-scraper runId:ENly3RH5yJ9aa3JsB]\u001b[0m -> 2025-06-20T17:59:34.223Z \u001b[32mINFO\u001b[39m \u001b[33m CheerioCrawler:\u001b[39m Starting the crawler.\n",
      "\u001b[36m[apify.facebook-search-scraper runId:ENly3RH5yJ9aa3JsB]\u001b[0m -> 2025-06-20T17:59:34.330Z \u001b[32mINFO\u001b[39m \u001b[33m CheerioCrawler:\u001b[39m All requests from the queue have been processed, the crawler will shut down.\n",
      "\u001b[36m[apify.facebook-search-scraper runId:ENly3RH5yJ9aa3JsB]\u001b[0m -> 2025-06-20T17:59:34.446Z \u001b[32mINFO\u001b[39m \u001b[33m CheerioCrawler:\u001b[39m Final request statistics:\u001b[90m {\"requestsFinished\":0,\"requestsFailed\":0,\"retryHistogram\":[],\"requestAvgFailedDurationMillis\":null,\"requestAvgFinishedDurationMillis\":null,\"requestsFinishedPerMinute\":0,\"requestsFailedPerMinute\":0,\"requestTotalDurationMillis\":0,\"requestsTotal\":0,\"crawlerRuntimeMillis\":329}\u001b[39m\n",
      "\u001b[36m[apify.facebook-search-scraper runId:ENly3RH5yJ9aa3JsB]\u001b[0m -> 2025-06-20T17:59:34.448Z \u001b[32mINFO\u001b[39m \u001b[33m CheerioCrawler:\u001b[39m Finished! Total 0 requests: 0 succeeded, 0 failed.\u001b[90m {\"terminal\":true}\u001b[39m\n",
      "\u001b[36m[apify.facebook-search-scraper runId:ENly3RH5yJ9aa3JsB]\u001b[0m -> Status: RUNNING, Message: Finished! Total 0 requests: 0 succeeded, 0 failed.\n",
      "\u001b[36m[apify.facebook-search-scraper runId:ENly3RH5yJ9aa3JsB]\u001b[0m -> 2025-06-20T17:59:34.552Z \u001b[32mINFO\u001b[39m  *** DONE ***\n"
     ]
    },
    {
     "name": "stdout",
     "output_type": "stream",
     "text": [
      "🔍 Looking up 'W Hydrocolloids' on Facebook...\n"
     ]
    },
    {
     "name": "stderr",
     "output_type": "stream",
     "text": [
      "\u001b[36m[apify.facebook-search-scraper runId:RcdfIgqHkp5rgpsnm]\u001b[0m -> Status: RUNNING, Message: \n",
      "\u001b[36m[apify.facebook-search-scraper runId:RcdfIgqHkp5rgpsnm]\u001b[0m -> 2025-06-20T17:59:42.238Z ACTOR: Pulling Docker image of build Zb454ZPJ6q5DPla0h from registry.\n",
      "\u001b[36m[apify.facebook-search-scraper runId:RcdfIgqHkp5rgpsnm]\u001b[0m -> 2025-06-20T17:59:42.240Z ACTOR: Creating Docker container.\n",
      "\u001b[36m[apify.facebook-search-scraper runId:RcdfIgqHkp5rgpsnm]\u001b[0m -> 2025-06-20T17:59:42.343Z ACTOR: Starting Docker container.\n",
      "\u001b[36m[apify.facebook-search-scraper runId:RcdfIgqHkp5rgpsnm]\u001b[0m -> 2025-06-20T17:59:43.712Z \u001b[32mINFO\u001b[39m  System info\u001b[90m {\"apifyVersion\":\"3.2.6\",\"apifyClientVersion\":\"2.9.4\",\"crawleeVersion\":\"3.12.1\",\"osType\":\"Linux\",\"nodeVersion\":\"v20.19.2\"}\u001b[39m\n",
      "\u001b[36m[apify.facebook-search-scraper runId:RcdfIgqHkp5rgpsnm]\u001b[0m -> 2025-06-20T17:59:43.827Z \u001b[32mINFO\u001b[39m  Results Limit 20\n",
      "\u001b[36m[apify.facebook-search-scraper runId:RcdfIgqHkp5rgpsnm]\u001b[0m -> 2025-06-20T17:59:44.375Z \u001b[32mINFO\u001b[39m \u001b[33m CheerioCrawler:\u001b[39m Using the old RequestQueue implementation without request locking.\n",
      "\u001b[36m[apify.facebook-search-scraper runId:RcdfIgqHkp5rgpsnm]\u001b[0m -> 2025-06-20T17:59:44.516Z \u001b[32mINFO\u001b[39m \u001b[33m CheerioCrawler:\u001b[39m Starting the crawler.\n",
      "\u001b[36m[apify.facebook-search-scraper runId:RcdfIgqHkp5rgpsnm]\u001b[0m -> 2025-06-20T17:59:44.609Z \u001b[32mINFO\u001b[39m \u001b[33m CheerioCrawler:\u001b[39m All requests from the queue have been processed, the crawler will shut down.\n",
      "\u001b[36m[apify.facebook-search-scraper runId:RcdfIgqHkp5rgpsnm]\u001b[0m -> 2025-06-20T17:59:44.773Z \u001b[32mINFO\u001b[39m \u001b[33m CheerioCrawler:\u001b[39m Final request statistics:\u001b[90m {\"requestsFinished\":0,\"requestsFailed\":0,\"retryHistogram\":[],\"requestAvgFailedDurationMillis\":null,\"requestAvgFinishedDurationMillis\":null,\"requestsFinishedPerMinute\":0,\"requestsFailedPerMinute\":0,\"requestTotalDurationMillis\":0,\"requestsTotal\":0,\"crawlerRuntimeMillis\":400}\u001b[39m\n",
      "\u001b[36m[apify.facebook-search-scraper runId:RcdfIgqHkp5rgpsnm]\u001b[0m -> Status: RUNNING, Message: Finished! Total 0 requests: 0 succeeded, 0 failed.\n",
      "\u001b[36m[apify.facebook-search-scraper runId:RcdfIgqHkp5rgpsnm]\u001b[0m -> 2025-06-20T17:59:44.775Z \u001b[32mINFO\u001b[39m \u001b[33m CheerioCrawler:\u001b[39m Finished! Total 0 requests: 0 succeeded, 0 failed.\u001b[90m {\"terminal\":true}\u001b[39m\n",
      "\u001b[36m[apify.facebook-search-scraper runId:RcdfIgqHkp5rgpsnm]\u001b[0m -> 2025-06-20T17:59:44.898Z \u001b[32mINFO\u001b[39m  *** DONE ***\n"
     ]
    },
    {
     "name": "stdout",
     "output_type": "stream",
     "text": [
      "🔍 Looking up 'Julian Otalora Marketing' on Facebook...\n"
     ]
    },
    {
     "name": "stderr",
     "output_type": "stream",
     "text": [
      "\u001b[36m[apify.facebook-search-scraper runId:tMTiYpFHIYcns6k5v]\u001b[0m -> Status: RUNNING, Message: \n",
      "\u001b[36m[apify.facebook-search-scraper runId:tMTiYpFHIYcns6k5v]\u001b[0m -> 2025-06-20T17:59:52.709Z ACTOR: Pulling Docker image of build Zb454ZPJ6q5DPla0h from registry.\n",
      "\u001b[36m[apify.facebook-search-scraper runId:tMTiYpFHIYcns6k5v]\u001b[0m -> 2025-06-20T17:59:56.468Z ACTOR: Creating Docker container.\n",
      "\u001b[36m[apify.facebook-search-scraper runId:tMTiYpFHIYcns6k5v]\u001b[0m -> 2025-06-20T17:59:56.741Z ACTOR: Starting Docker container.\n",
      "\u001b[36m[apify.facebook-search-scraper runId:tMTiYpFHIYcns6k5v]\u001b[0m -> 2025-06-20T17:59:58.405Z \u001b[32mINFO\u001b[39m  System info\u001b[90m {\"apifyVersion\":\"3.2.6\",\"apifyClientVersion\":\"2.9.4\",\"crawleeVersion\":\"3.12.1\",\"osType\":\"Linux\",\"nodeVersion\":\"v20.19.2\"}\u001b[39m\n",
      "\u001b[36m[apify.facebook-search-scraper runId:tMTiYpFHIYcns6k5v]\u001b[0m -> 2025-06-20T17:59:58.503Z \u001b[32mINFO\u001b[39m  Results Limit 20\n",
      "\u001b[36m[apify.facebook-search-scraper runId:tMTiYpFHIYcns6k5v]\u001b[0m -> 2025-06-20T17:59:59.122Z \u001b[32mINFO\u001b[39m \u001b[33m CheerioCrawler:\u001b[39m Using the old RequestQueue implementation without request locking.\n",
      "\u001b[36m[apify.facebook-search-scraper runId:tMTiYpFHIYcns6k5v]\u001b[0m -> Status: RUNNING, Message: Starting the crawler.\n",
      "\u001b[36m[apify.facebook-search-scraper runId:tMTiYpFHIYcns6k5v]\u001b[0m -> 2025-06-20T17:59:59.230Z \u001b[32mINFO\u001b[39m \u001b[33m CheerioCrawler:\u001b[39m Starting the crawler.\n",
      "\u001b[36m[apify.facebook-search-scraper runId:tMTiYpFHIYcns6k5v]\u001b[0m -> 2025-06-20T17:59:59.354Z \u001b[32mINFO\u001b[39m \u001b[33m CheerioCrawler:\u001b[39m All requests from the queue have been processed, the crawler will shut down.\n",
      "\u001b[36m[apify.facebook-search-scraper runId:tMTiYpFHIYcns6k5v]\u001b[0m -> 2025-06-20T17:59:59.461Z \u001b[32mINFO\u001b[39m \u001b[33m CheerioCrawler:\u001b[39m Final request statistics:\u001b[90m {\"requestsFinished\":0,\"requestsFailed\":0,\"retryHistogram\":[],\"requestAvgFailedDurationMillis\":null,\"requestAvgFinishedDurationMillis\":null,\"requestsFinishedPerMinute\":0,\"requestsFailedPerMinute\":0,\"requestTotalDurationMillis\":0,\"requestsTotal\":0,\"crawlerRuntimeMillis\":340}\u001b[39m\n",
      "\u001b[36m[apify.facebook-search-scraper runId:tMTiYpFHIYcns6k5v]\u001b[0m -> 2025-06-20T17:59:59.462Z \u001b[32mINFO\u001b[39m \u001b[33m CheerioCrawler:\u001b[39m Finished! Total 0 requests: 0 succeeded, 0 failed.\u001b[90m {\"terminal\":true}\u001b[39m\n",
      "\u001b[36m[apify.facebook-search-scraper runId:tMTiYpFHIYcns6k5v]\u001b[0m -> 2025-06-20T17:59:59.608Z \u001b[32mINFO\u001b[39m  *** DONE ***\n",
      "\u001b[36m[apify.facebook-search-scraper runId:tMTiYpFHIYcns6k5v]\u001b[0m -> Status: SUCCEEDED, Message: Finished! Total 0 requests: 0 succeeded, 0 failed.\n"
     ]
    },
    {
     "name": "stdout",
     "output_type": "stream",
     "text": [
      "🔍 Looking up 'Limitless Legal' on Facebook...\n"
     ]
    },
    {
     "name": "stderr",
     "output_type": "stream",
     "text": [
      "\u001b[36m[apify.facebook-search-scraper runId:RVOmLA5EOxlR2RxKG]\u001b[0m -> Status: RUNNING, Message: \n",
      "\u001b[36m[apify.facebook-search-scraper runId:RVOmLA5EOxlR2RxKG]\u001b[0m -> 2025-06-20T18:00:07.594Z ACTOR: Pulling Docker image of build Zb454ZPJ6q5DPla0h from registry.\n",
      "\u001b[36m[apify.facebook-search-scraper runId:RVOmLA5EOxlR2RxKG]\u001b[0m -> 2025-06-20T18:00:09.857Z ACTOR: Creating Docker container.\n",
      "\u001b[36m[apify.facebook-search-scraper runId:RVOmLA5EOxlR2RxKG]\u001b[0m -> 2025-06-20T18:00:10.809Z ACTOR: Starting Docker container.\n",
      "\u001b[36m[apify.facebook-search-scraper runId:RVOmLA5EOxlR2RxKG]\u001b[0m -> 2025-06-20T18:00:12.171Z \u001b[32mINFO\u001b[39m  System info\u001b[90m {\"apifyVersion\":\"3.2.6\",\"apifyClientVersion\":\"2.9.4\",\"crawleeVersion\":\"3.12.1\",\"osType\":\"Linux\",\"nodeVersion\":\"v20.19.2\"}\u001b[39m\n",
      "\u001b[36m[apify.facebook-search-scraper runId:RVOmLA5EOxlR2RxKG]\u001b[0m -> 2025-06-20T18:00:12.291Z \u001b[32mINFO\u001b[39m  Results Limit 20\n",
      "\u001b[36m[apify.facebook-search-scraper runId:RVOmLA5EOxlR2RxKG]\u001b[0m -> 2025-06-20T18:00:13.168Z \u001b[32mINFO\u001b[39m \u001b[33m CheerioCrawler:\u001b[39m Using the old RequestQueue implementation without request locking.\n",
      "\u001b[36m[apify.facebook-search-scraper runId:RVOmLA5EOxlR2RxKG]\u001b[0m -> 2025-06-20T18:00:13.591Z \u001b[32mINFO\u001b[39m \u001b[33m CheerioCrawler:\u001b[39m Starting the crawler.\n",
      "\u001b[36m[apify.facebook-search-scraper runId:RVOmLA5EOxlR2RxKG]\u001b[0m -> 2025-06-20T18:00:13.904Z \u001b[32mINFO\u001b[39m \u001b[33m CheerioCrawler:\u001b[39m All requests from the queue have been processed, the crawler will shut down.\n",
      "\u001b[36m[apify.facebook-search-scraper runId:RVOmLA5EOxlR2RxKG]\u001b[0m -> 2025-06-20T18:00:13.997Z \u001b[32mINFO\u001b[39m \u001b[33m CheerioCrawler:\u001b[39m Final request statistics:\u001b[90m {\"requestsFinished\":0,\"requestsFailed\":0,\"retryHistogram\":[],\"requestAvgFailedDurationMillis\":null,\"requestAvgFinishedDurationMillis\":null,\"requestsFinishedPerMinute\":0,\"requestsFailedPerMinute\":0,\"requestTotalDurationMillis\":0,\"requestsTotal\":0,\"crawlerRuntimeMillis\":829}\u001b[39m\n",
      "\u001b[36m[apify.facebook-search-scraper runId:RVOmLA5EOxlR2RxKG]\u001b[0m -> Status: RUNNING, Message: Finished! Total 0 requests: 0 succeeded, 0 failed.\n",
      "\u001b[36m[apify.facebook-search-scraper runId:RVOmLA5EOxlR2RxKG]\u001b[0m -> 2025-06-20T18:00:14.005Z \u001b[32mINFO\u001b[39m \u001b[33m CheerioCrawler:\u001b[39m Finished! Total 0 requests: 0 succeeded, 0 failed.\u001b[90m {\"terminal\":true}\u001b[39m\n",
      "\u001b[36m[apify.facebook-search-scraper runId:RVOmLA5EOxlR2RxKG]\u001b[0m -> 2025-06-20T18:00:14.330Z \u001b[32mINFO\u001b[39m  *** DONE ***\n"
     ]
    },
    {
     "name": "stdout",
     "output_type": "stream",
     "text": [
      "🔍 Looking up 'Momnt Agency - Bienes Raíces' on Facebook...\n"
     ]
    },
    {
     "name": "stderr",
     "output_type": "stream",
     "text": [
      "\u001b[36m[apify.facebook-search-scraper runId:hiTHCsp410FmregXN]\u001b[0m -> Status: RUNNING, Message: \n",
      "\u001b[36m[apify.facebook-search-scraper runId:hiTHCsp410FmregXN]\u001b[0m -> 2025-06-20T18:00:22.719Z ACTOR: Pulling Docker image of build Zb454ZPJ6q5DPla0h from registry.\n",
      "\u001b[36m[apify.facebook-search-scraper runId:hiTHCsp410FmregXN]\u001b[0m -> 2025-06-20T18:00:22.721Z ACTOR: Creating Docker container.\n",
      "\u001b[36m[apify.facebook-search-scraper runId:hiTHCsp410FmregXN]\u001b[0m -> 2025-06-20T18:00:22.802Z ACTOR: Starting Docker container.\n",
      "\u001b[36m[apify.facebook-search-scraper runId:hiTHCsp410FmregXN]\u001b[0m -> 2025-06-20T18:00:24.606Z \u001b[32mINFO\u001b[39m  System info\u001b[90m {\"apifyVersion\":\"3.2.6\",\"apifyClientVersion\":\"2.9.4\",\"crawleeVersion\":\"3.12.1\",\"osType\":\"Linux\",\"nodeVersion\":\"v20.19.2\"}\u001b[39m\n",
      "\u001b[36m[apify.facebook-search-scraper runId:hiTHCsp410FmregXN]\u001b[0m -> 2025-06-20T18:00:24.805Z \u001b[32mINFO\u001b[39m  Results Limit 20\n",
      "\u001b[36m[apify.facebook-search-scraper runId:hiTHCsp410FmregXN]\u001b[0m -> 2025-06-20T18:00:25.603Z \u001b[32mINFO\u001b[39m \u001b[33m CheerioCrawler:\u001b[39m Using the old RequestQueue implementation without request locking.\n",
      "\u001b[36m[apify.facebook-search-scraper runId:hiTHCsp410FmregXN]\u001b[0m -> 2025-06-20T18:00:25.845Z \u001b[32mINFO\u001b[39m \u001b[33m CheerioCrawler:\u001b[39m Starting the crawler.\n",
      "\u001b[36m[apify.facebook-search-scraper runId:hiTHCsp410FmregXN]\u001b[0m -> 2025-06-20T18:00:25.994Z \u001b[32mINFO\u001b[39m \u001b[33m CheerioCrawler:\u001b[39m All requests from the queue have been processed, the crawler will shut down.\n",
      "\u001b[36m[apify.facebook-search-scraper runId:hiTHCsp410FmregXN]\u001b[0m -> 2025-06-20T18:00:26.267Z \u001b[32mINFO\u001b[39m \u001b[33m CheerioCrawler:\u001b[39m Final request statistics:\u001b[90m {\"requestsFinished\":0,\"requestsFailed\":0,\"retryHistogram\":[],\"requestAvgFailedDurationMillis\":null,\"requestAvgFinishedDurationMillis\":null,\"requestsFinishedPerMinute\":0,\"requestsFailedPerMinute\":0,\"requestTotalDurationMillis\":0,\"requestsTotal\":0,\"crawlerRuntimeMillis\":665}\u001b[39m\n",
      "\u001b[36m[apify.facebook-search-scraper runId:hiTHCsp410FmregXN]\u001b[0m -> 2025-06-20T18:00:26.268Z \u001b[32mINFO\u001b[39m \u001b[33m CheerioCrawler:\u001b[39m Finished! Total 0 requests: 0 succeeded, 0 failed.\u001b[90m {\"terminal\":true}\u001b[39m\n",
      "\u001b[36m[apify.facebook-search-scraper runId:hiTHCsp410FmregXN]\u001b[0m -> Status: RUNNING, Message: Finished! Total 0 requests: 0 succeeded, 0 failed.\n",
      "\u001b[36m[apify.facebook-search-scraper runId:hiTHCsp410FmregXN]\u001b[0m -> 2025-06-20T18:00:26.485Z \u001b[32mINFO\u001b[39m  *** DONE ***\n"
     ]
    },
    {
     "name": "stdout",
     "output_type": "stream",
     "text": [
      "🔍 Looking up 'Tint Academy-windowtintcourses' on Facebook...\n"
     ]
    },
    {
     "name": "stderr",
     "output_type": "stream",
     "text": [
      "\u001b[36m[apify.facebook-search-scraper runId:fXJzYQwfFL8bkPQjQ]\u001b[0m -> Status: RUNNING, Message: \n",
      "\u001b[36m[apify.facebook-search-scraper runId:fXJzYQwfFL8bkPQjQ]\u001b[0m -> 2025-06-20T18:00:35.107Z ACTOR: Pulling Docker image of build Zb454ZPJ6q5DPla0h from registry.\n",
      "\u001b[36m[apify.facebook-search-scraper runId:fXJzYQwfFL8bkPQjQ]\u001b[0m -> 2025-06-20T18:00:37.678Z ACTOR: Creating Docker container.\n",
      "\u001b[36m[apify.facebook-search-scraper runId:fXJzYQwfFL8bkPQjQ]\u001b[0m -> 2025-06-20T18:00:37.882Z ACTOR: Starting Docker container.\n",
      "\u001b[36m[apify.facebook-search-scraper runId:fXJzYQwfFL8bkPQjQ]\u001b[0m -> 2025-06-20T18:00:39.464Z \u001b[32mINFO\u001b[39m  System info\u001b[90m {\"apifyVersion\":\"3.2.6\",\"apifyClientVersion\":\"2.9.4\",\"crawleeVersion\":\"3.12.1\",\"osType\":\"Linux\",\"nodeVersion\":\"v20.19.2\"}\u001b[39m\n",
      "\u001b[36m[apify.facebook-search-scraper runId:fXJzYQwfFL8bkPQjQ]\u001b[0m -> 2025-06-20T18:00:39.634Z \u001b[32mINFO\u001b[39m  Results Limit 20\n",
      "\u001b[36m[apify.facebook-search-scraper runId:fXJzYQwfFL8bkPQjQ]\u001b[0m -> 2025-06-20T18:00:40.568Z \u001b[32mINFO\u001b[39m \u001b[33m CheerioCrawler:\u001b[39m Using the old RequestQueue implementation without request locking.\n",
      "\u001b[36m[apify.facebook-search-scraper runId:fXJzYQwfFL8bkPQjQ]\u001b[0m -> 2025-06-20T18:00:40.792Z \u001b[32mINFO\u001b[39m \u001b[33m CheerioCrawler:\u001b[39m Starting the crawler.\n",
      "\u001b[36m[apify.facebook-search-scraper runId:fXJzYQwfFL8bkPQjQ]\u001b[0m -> 2025-06-20T18:00:40.906Z \u001b[32mINFO\u001b[39m \u001b[33m CheerioCrawler:\u001b[39m All requests from the queue have been processed, the crawler will shut down.\n",
      "\u001b[36m[apify.facebook-search-scraper runId:fXJzYQwfFL8bkPQjQ]\u001b[0m -> 2025-06-20T18:00:41.191Z \u001b[32mINFO\u001b[39m \u001b[33m CheerioCrawler:\u001b[39m Final request statistics:\u001b[90m {\"requestsFinished\":0,\"requestsFailed\":0,\"retryHistogram\":[],\"requestAvgFailedDurationMillis\":null,\"requestAvgFinishedDurationMillis\":null,\"requestsFinishedPerMinute\":0,\"requestsFailedPerMinute\":0,\"requestTotalDurationMillis\":0,\"requestsTotal\":0,\"crawlerRuntimeMillis\":624}\u001b[39m\n",
      "\u001b[36m[apify.facebook-search-scraper runId:fXJzYQwfFL8bkPQjQ]\u001b[0m -> 2025-06-20T18:00:41.192Z \u001b[32mINFO\u001b[39m \u001b[33m CheerioCrawler:\u001b[39m Finished! Total 0 requests: 0 succeeded, 0 failed.\u001b[90m {\"terminal\":true}\u001b[39m\n",
      "\u001b[36m[apify.facebook-search-scraper runId:fXJzYQwfFL8bkPQjQ]\u001b[0m -> 2025-06-20T18:00:41.440Z \u001b[32mINFO\u001b[39m  *** DONE ***\n",
      "\u001b[36m[apify.facebook-search-scraper runId:fXJzYQwfFL8bkPQjQ]\u001b[0m -> Status: SUCCEEDED, Message: Finished! Total 0 requests: 0 succeeded, 0 failed.\n"
     ]
    },
    {
     "name": "stdout",
     "output_type": "stream",
     "text": [
      "🔍 Looking up 'Paul Andre de Vera' on Facebook...\n"
     ]
    },
    {
     "name": "stderr",
     "output_type": "stream",
     "text": [
      "\u001b[36m[apify.facebook-search-scraper runId:gaCj5UgI65zbRrnST]\u001b[0m -> Status: RUNNING, Message: \n",
      "\u001b[36m[apify.facebook-search-scraper runId:gaCj5UgI65zbRrnST]\u001b[0m -> 2025-06-20T18:00:49.259Z ACTOR: Pulling Docker image of build Zb454ZPJ6q5DPla0h from registry.\n",
      "\u001b[36m[apify.facebook-search-scraper runId:gaCj5UgI65zbRrnST]\u001b[0m -> 2025-06-20T18:00:49.261Z ACTOR: Creating Docker container.\n",
      "\u001b[36m[apify.facebook-search-scraper runId:gaCj5UgI65zbRrnST]\u001b[0m -> 2025-06-20T18:00:49.301Z ACTOR: Starting Docker container.\n",
      "\u001b[36m[apify.facebook-search-scraper runId:gaCj5UgI65zbRrnST]\u001b[0m -> 2025-06-20T18:00:50.510Z \u001b[32mINFO\u001b[39m  System info\u001b[90m {\"apifyVersion\":\"3.2.6\",\"apifyClientVersion\":\"2.9.4\",\"crawleeVersion\":\"3.12.1\",\"osType\":\"Linux\",\"nodeVersion\":\"v20.19.2\"}\u001b[39m\n",
      "\u001b[36m[apify.facebook-search-scraper runId:gaCj5UgI65zbRrnST]\u001b[0m -> 2025-06-20T18:00:50.660Z \u001b[32mINFO\u001b[39m  Results Limit 20\n",
      "\u001b[36m[apify.facebook-search-scraper runId:gaCj5UgI65zbRrnST]\u001b[0m -> 2025-06-20T18:00:51.435Z \u001b[32mINFO\u001b[39m \u001b[33m CheerioCrawler:\u001b[39m Using the old RequestQueue implementation without request locking.\n",
      "\u001b[36m[apify.facebook-search-scraper runId:gaCj5UgI65zbRrnST]\u001b[0m -> 2025-06-20T18:00:51.658Z \u001b[32mINFO\u001b[39m \u001b[33m CheerioCrawler:\u001b[39m Starting the crawler.\n",
      "\u001b[36m[apify.facebook-search-scraper runId:gaCj5UgI65zbRrnST]\u001b[0m -> 2025-06-20T18:00:51.976Z \u001b[32mINFO\u001b[39m \u001b[33m CheerioCrawler:\u001b[39m All requests from the queue have been processed, the crawler will shut down.\n",
      "\u001b[36m[apify.facebook-search-scraper runId:gaCj5UgI65zbRrnST]\u001b[0m -> 2025-06-20T18:00:52.143Z \u001b[32mINFO\u001b[39m \u001b[33m CheerioCrawler:\u001b[39m Final request statistics:\u001b[90m {\"requestsFinished\":0,\"requestsFailed\":0,\"retryHistogram\":[],\"requestAvgFailedDurationMillis\":null,\"requestAvgFinishedDurationMillis\":null,\"requestsFinishedPerMinute\":0,\"requestsFailedPerMinute\":0,\"requestTotalDurationMillis\":0,\"requestsTotal\":0,\"crawlerRuntimeMillis\":708}\u001b[39m\n",
      "\u001b[36m[apify.facebook-search-scraper runId:gaCj5UgI65zbRrnST]\u001b[0m -> Status: RUNNING, Message: Finished! Total 0 requests: 0 succeeded, 0 failed.\n",
      "\u001b[36m[apify.facebook-search-scraper runId:gaCj5UgI65zbRrnST]\u001b[0m -> 2025-06-20T18:00:52.148Z \u001b[32mINFO\u001b[39m \u001b[33m CheerioCrawler:\u001b[39m Finished! Total 0 requests: 0 succeeded, 0 failed.\u001b[90m {\"terminal\":true}\u001b[39m\n",
      "\u001b[36m[apify.facebook-search-scraper runId:gaCj5UgI65zbRrnST]\u001b[0m -> 2025-06-20T18:00:52.687Z \u001b[32mINFO\u001b[39m  *** DONE ***\n"
     ]
    },
    {
     "name": "stdout",
     "output_type": "stream",
     "text": [
      "🔍 Looking up 'Antoinette Calata- Toyota Tuguegarao' on Facebook...\n"
     ]
    },
    {
     "name": "stderr",
     "output_type": "stream",
     "text": [
      "\u001b[36m[apify.facebook-search-scraper runId:KnWvP8zCkhOREUsHb]\u001b[0m -> Status: RUNNING, Message: \n",
      "\u001b[36m[apify.facebook-search-scraper runId:KnWvP8zCkhOREUsHb]\u001b[0m -> 2025-06-20T18:01:00.508Z ACTOR: Pulling Docker image of build Zb454ZPJ6q5DPla0h from registry.\n",
      "\u001b[36m[apify.facebook-search-scraper runId:KnWvP8zCkhOREUsHb]\u001b[0m -> 2025-06-20T18:01:00.510Z ACTOR: Creating Docker container.\n",
      "\u001b[36m[apify.facebook-search-scraper runId:KnWvP8zCkhOREUsHb]\u001b[0m -> 2025-06-20T18:01:00.552Z ACTOR: Starting Docker container.\n",
      "\u001b[36m[apify.facebook-search-scraper runId:KnWvP8zCkhOREUsHb]\u001b[0m -> 2025-06-20T18:01:01.761Z \u001b[32mINFO\u001b[39m  System info\u001b[90m {\"apifyVersion\":\"3.2.6\",\"apifyClientVersion\":\"2.9.4\",\"crawleeVersion\":\"3.12.1\",\"osType\":\"Linux\",\"nodeVersion\":\"v20.19.2\"}\u001b[39m\n",
      "\u001b[36m[apify.facebook-search-scraper runId:KnWvP8zCkhOREUsHb]\u001b[0m -> 2025-06-20T18:01:02.043Z \u001b[32mINFO\u001b[39m  Results Limit 20\n",
      "\u001b[36m[apify.facebook-search-scraper runId:KnWvP8zCkhOREUsHb]\u001b[0m -> 2025-06-20T18:01:02.755Z \u001b[32mINFO\u001b[39m \u001b[33m CheerioCrawler:\u001b[39m Using the old RequestQueue implementation without request locking.\n",
      "\u001b[36m[apify.facebook-search-scraper runId:KnWvP8zCkhOREUsHb]\u001b[0m -> 2025-06-20T18:01:03.163Z \u001b[32mINFO\u001b[39m \u001b[33m CheerioCrawler:\u001b[39m Starting the crawler.\n",
      "\u001b[36m[apify.facebook-search-scraper runId:KnWvP8zCkhOREUsHb]\u001b[0m -> Status: RUNNING, Message: Starting the crawler.\n",
      "\u001b[36m[apify.facebook-search-scraper runId:KnWvP8zCkhOREUsHb]\u001b[0m -> 2025-06-20T18:01:03.509Z \u001b[32mINFO\u001b[39m \u001b[33m CheerioCrawler:\u001b[39m All requests from the queue have been processed, the crawler will shut down.\n",
      "\u001b[36m[apify.facebook-search-scraper runId:KnWvP8zCkhOREUsHb]\u001b[0m -> 2025-06-20T18:01:03.661Z \u001b[32mINFO\u001b[39m \u001b[33m CheerioCrawler:\u001b[39m Final request statistics:\u001b[90m {\"requestsFinished\":0,\"requestsFailed\":0,\"retryHistogram\":[],\"requestAvgFailedDurationMillis\":null,\"requestAvgFinishedDurationMillis\":null,\"requestsFinishedPerMinute\":0,\"requestsFailedPerMinute\":0,\"requestTotalDurationMillis\":0,\"requestsTotal\":0,\"crawlerRuntimeMillis\":907}\u001b[39m\n",
      "\u001b[36m[apify.facebook-search-scraper runId:KnWvP8zCkhOREUsHb]\u001b[0m -> 2025-06-20T18:01:03.663Z \u001b[32mINFO\u001b[39m \u001b[33m CheerioCrawler:\u001b[39m Finished! Total 0 requests: 0 succeeded, 0 failed.\u001b[90m {\"terminal\":true}\u001b[39m\n",
      "\u001b[36m[apify.facebook-search-scraper runId:KnWvP8zCkhOREUsHb]\u001b[0m -> 2025-06-20T18:01:03.874Z \u001b[32mINFO\u001b[39m  *** DONE ***\n",
      "\u001b[36m[apify.facebook-search-scraper runId:KnWvP8zCkhOREUsHb]\u001b[0m -> Status: SUCCEEDED, Message: Finished! Total 0 requests: 0 succeeded, 0 failed.\n"
     ]
    },
    {
     "name": "stdout",
     "output_type": "stream",
     "text": [
      "🔍 Looking up 'GetLocal.vip' on Facebook...\n"
     ]
    },
    {
     "name": "stderr",
     "output_type": "stream",
     "text": [
      "\u001b[36m[apify.facebook-search-scraper runId:j2PHEa4ICHs3assQx]\u001b[0m -> Status: RUNNING, Message: \n",
      "\u001b[36m[apify.facebook-search-scraper runId:j2PHEa4ICHs3assQx]\u001b[0m -> 2025-06-20T18:01:11.731Z ACTOR: Pulling Docker image of build Zb454ZPJ6q5DPla0h from registry.\n",
      "\u001b[36m[apify.facebook-search-scraper runId:j2PHEa4ICHs3assQx]\u001b[0m -> 2025-06-20T18:01:11.733Z ACTOR: Creating Docker container.\n",
      "\u001b[36m[apify.facebook-search-scraper runId:j2PHEa4ICHs3assQx]\u001b[0m -> 2025-06-20T18:01:11.869Z ACTOR: Starting Docker container.\n",
      "\u001b[36m[apify.facebook-search-scraper runId:j2PHEa4ICHs3assQx]\u001b[0m -> 2025-06-20T18:01:13.337Z \u001b[32mINFO\u001b[39m  System info\u001b[90m {\"apifyVersion\":\"3.2.6\",\"apifyClientVersion\":\"2.9.4\",\"crawleeVersion\":\"3.12.1\",\"osType\":\"Linux\",\"nodeVersion\":\"v20.19.2\"}\u001b[39m\n",
      "\u001b[36m[apify.facebook-search-scraper runId:j2PHEa4ICHs3assQx]\u001b[0m -> 2025-06-20T18:01:13.474Z \u001b[32mINFO\u001b[39m  Results Limit 20\n",
      "\u001b[36m[apify.facebook-search-scraper runId:j2PHEa4ICHs3assQx]\u001b[0m -> 2025-06-20T18:01:14.246Z \u001b[32mINFO\u001b[39m \u001b[33m CheerioCrawler:\u001b[39m Using the old RequestQueue implementation without request locking.\n",
      "\u001b[36m[apify.facebook-search-scraper runId:j2PHEa4ICHs3assQx]\u001b[0m -> 2025-06-20T18:01:14.803Z \u001b[32mINFO\u001b[39m \u001b[33m CheerioCrawler:\u001b[39m Starting the crawler.\n",
      "\u001b[36m[apify.facebook-search-scraper runId:j2PHEa4ICHs3assQx]\u001b[0m -> 2025-06-20T18:01:14.906Z \u001b[32mINFO\u001b[39m \u001b[33m CheerioCrawler:\u001b[39m All requests from the queue have been processed, the crawler will shut down.\n",
      "\u001b[36m[apify.facebook-search-scraper runId:j2PHEa4ICHs3assQx]\u001b[0m -> 2025-06-20T18:01:15.046Z \u001b[32mINFO\u001b[39m \u001b[33m CheerioCrawler:\u001b[39m Final request statistics:\u001b[90m {\"requestsFinished\":0,\"requestsFailed\":0,\"retryHistogram\":[],\"requestAvgFailedDurationMillis\":null,\"requestAvgFinishedDurationMillis\":null,\"requestsFinishedPerMinute\":0,\"requestsFailedPerMinute\":0,\"requestTotalDurationMillis\":0,\"requestsTotal\":0,\"crawlerRuntimeMillis\":800}\u001b[39m\n",
      "\u001b[36m[apify.facebook-search-scraper runId:j2PHEa4ICHs3assQx]\u001b[0m -> 2025-06-20T18:01:15.048Z \u001b[32mINFO\u001b[39m \u001b[33m CheerioCrawler:\u001b[39m Finished! Total 0 requests: 0 succeeded, 0 failed.\u001b[90m {\"terminal\":true}\u001b[39m\n",
      "\u001b[36m[apify.facebook-search-scraper runId:j2PHEa4ICHs3assQx]\u001b[0m -> 2025-06-20T18:01:15.310Z \u001b[32mINFO\u001b[39m  *** DONE ***\n",
      "\u001b[36m[apify.facebook-search-scraper runId:j2PHEa4ICHs3assQx]\u001b[0m -> Status: SUCCEEDED, Message: Finished! Total 0 requests: 0 succeeded, 0 failed.\n"
     ]
    },
    {
     "name": "stdout",
     "output_type": "stream",
     "text": [
      "🔍 Looking up 'Ortto' on Facebook...\n"
     ]
    },
    {
     "name": "stderr",
     "output_type": "stream",
     "text": [
      "\u001b[36m[apify.facebook-search-scraper runId:4mFp9Yg9eVktZ65ya]\u001b[0m -> Status: RUNNING, Message: \n",
      "\u001b[36m[apify.facebook-search-scraper runId:4mFp9Yg9eVktZ65ya]\u001b[0m -> 2025-06-20T18:01:23.136Z ACTOR: Pulling Docker image of build Zb454ZPJ6q5DPla0h from registry.\n",
      "\u001b[36m[apify.facebook-search-scraper runId:4mFp9Yg9eVktZ65ya]\u001b[0m -> 2025-06-20T18:01:23.139Z ACTOR: Creating Docker container.\n",
      "\u001b[36m[apify.facebook-search-scraper runId:4mFp9Yg9eVktZ65ya]\u001b[0m -> 2025-06-20T18:01:23.205Z ACTOR: Starting Docker container.\n",
      "\u001b[36m[apify.facebook-search-scraper runId:4mFp9Yg9eVktZ65ya]\u001b[0m -> 2025-06-20T18:01:25.076Z \u001b[32mINFO\u001b[39m  System info\u001b[90m {\"apifyVersion\":\"3.2.6\",\"apifyClientVersion\":\"2.9.4\",\"crawleeVersion\":\"3.12.1\",\"osType\":\"Linux\",\"nodeVersion\":\"v20.19.2\"}\u001b[39m\n",
      "\u001b[36m[apify.facebook-search-scraper runId:4mFp9Yg9eVktZ65ya]\u001b[0m -> 2025-06-20T18:01:25.287Z \u001b[32mINFO\u001b[39m  Results Limit 20\n",
      "\u001b[36m[apify.facebook-search-scraper runId:4mFp9Yg9eVktZ65ya]\u001b[0m -> 2025-06-20T18:01:26.020Z \u001b[32mINFO\u001b[39m \u001b[33m CheerioCrawler:\u001b[39m Using the old RequestQueue implementation without request locking.\n",
      "\u001b[36m[apify.facebook-search-scraper runId:4mFp9Yg9eVktZ65ya]\u001b[0m -> 2025-06-20T18:01:26.193Z \u001b[32mINFO\u001b[39m \u001b[33m CheerioCrawler:\u001b[39m Starting the crawler.\n",
      "\u001b[36m[apify.facebook-search-scraper runId:4mFp9Yg9eVktZ65ya]\u001b[0m -> 2025-06-20T18:01:26.311Z \u001b[32mINFO\u001b[39m \u001b[33m CheerioCrawler:\u001b[39m All requests from the queue have been processed, the crawler will shut down.\n",
      "\u001b[36m[apify.facebook-search-scraper runId:4mFp9Yg9eVktZ65ya]\u001b[0m -> 2025-06-20T18:01:26.397Z \u001b[32mINFO\u001b[39m \u001b[33m CheerioCrawler:\u001b[39m Final request statistics:\u001b[90m {\"requestsFinished\":0,\"requestsFailed\":0,\"retryHistogram\":[],\"requestAvgFailedDurationMillis\":null,\"requestAvgFinishedDurationMillis\":null,\"requestsFinishedPerMinute\":0,\"requestsFailedPerMinute\":0,\"requestTotalDurationMillis\":0,\"requestsTotal\":0,\"crawlerRuntimeMillis\":378}\u001b[39m\n",
      "\u001b[36m[apify.facebook-search-scraper runId:4mFp9Yg9eVktZ65ya]\u001b[0m -> 2025-06-20T18:01:26.398Z \u001b[32mINFO\u001b[39m \u001b[33m CheerioCrawler:\u001b[39m Finished! Total 0 requests: 0 succeeded, 0 failed.\u001b[90m {\"terminal\":true}\u001b[39m\n",
      "\u001b[36m[apify.facebook-search-scraper runId:4mFp9Yg9eVktZ65ya]\u001b[0m -> 2025-06-20T18:01:26.580Z \u001b[32mINFO\u001b[39m  *** DONE ***\n",
      "\u001b[36m[apify.facebook-search-scraper runId:4mFp9Yg9eVktZ65ya]\u001b[0m -> Status: SUCCEEDED, Message: Finished! Total 0 requests: 0 succeeded, 0 failed.\n"
     ]
    },
    {
     "name": "stdout",
     "output_type": "stream",
     "text": [
      "🔍 Looking up 'Halstead Media Group' on Facebook...\n"
     ]
    },
    {
     "name": "stderr",
     "output_type": "stream",
     "text": [
      "\u001b[36m[apify.facebook-search-scraper runId:c5T8hspWVQyiMJv9B]\u001b[0m -> Status: RUNNING, Message: \n",
      "\u001b[36m[apify.facebook-search-scraper runId:c5T8hspWVQyiMJv9B]\u001b[0m -> 2025-06-20T18:01:34.407Z ACTOR: Pulling Docker image of build Zb454ZPJ6q5DPla0h from registry.\n",
      "\u001b[36m[apify.facebook-search-scraper runId:c5T8hspWVQyiMJv9B]\u001b[0m -> 2025-06-20T18:01:34.408Z ACTOR: Creating Docker container.\n",
      "\u001b[36m[apify.facebook-search-scraper runId:c5T8hspWVQyiMJv9B]\u001b[0m -> 2025-06-20T18:01:34.487Z ACTOR: Starting Docker container.\n",
      "\u001b[36m[apify.facebook-search-scraper runId:c5T8hspWVQyiMJv9B]\u001b[0m -> 2025-06-20T18:01:35.987Z \u001b[32mINFO\u001b[39m  System info\u001b[90m {\"apifyVersion\":\"3.2.6\",\"apifyClientVersion\":\"2.9.4\",\"crawleeVersion\":\"3.12.1\",\"osType\":\"Linux\",\"nodeVersion\":\"v20.19.2\"}\u001b[39m\n",
      "\u001b[36m[apify.facebook-search-scraper runId:c5T8hspWVQyiMJv9B]\u001b[0m -> 2025-06-20T18:01:36.108Z \u001b[32mINFO\u001b[39m  Results Limit 20\n",
      "\u001b[36m[apify.facebook-search-scraper runId:c5T8hspWVQyiMJv9B]\u001b[0m -> 2025-06-20T18:01:36.748Z \u001b[32mINFO\u001b[39m \u001b[33m CheerioCrawler:\u001b[39m Using the old RequestQueue implementation without request locking.\n",
      "\u001b[36m[apify.facebook-search-scraper runId:c5T8hspWVQyiMJv9B]\u001b[0m -> 2025-06-20T18:01:36.927Z \u001b[32mINFO\u001b[39m \u001b[33m CheerioCrawler:\u001b[39m Starting the crawler.\n",
      "\u001b[36m[apify.facebook-search-scraper runId:c5T8hspWVQyiMJv9B]\u001b[0m -> Status: RUNNING, Message: Starting the crawler.\n",
      "\u001b[36m[apify.facebook-search-scraper runId:c5T8hspWVQyiMJv9B]\u001b[0m -> 2025-06-20T18:01:37.068Z \u001b[32mINFO\u001b[39m \u001b[33m CheerioCrawler:\u001b[39m All requests from the queue have been processed, the crawler will shut down.\n",
      "\u001b[36m[apify.facebook-search-scraper runId:c5T8hspWVQyiMJv9B]\u001b[0m -> 2025-06-20T18:01:37.186Z \u001b[32mINFO\u001b[39m \u001b[33m CheerioCrawler:\u001b[39m Final request statistics:\u001b[90m {\"requestsFinished\":0,\"requestsFailed\":0,\"retryHistogram\":[],\"requestAvgFailedDurationMillis\":null,\"requestAvgFinishedDurationMillis\":null,\"requestsFinishedPerMinute\":0,\"requestsFailedPerMinute\":0,\"requestTotalDurationMillis\":0,\"requestsTotal\":0,\"crawlerRuntimeMillis\":439}\u001b[39m\n",
      "\u001b[36m[apify.facebook-search-scraper runId:c5T8hspWVQyiMJv9B]\u001b[0m -> 2025-06-20T18:01:37.188Z \u001b[32mINFO\u001b[39m \u001b[33m CheerioCrawler:\u001b[39m Finished! Total 0 requests: 0 succeeded, 0 failed.\u001b[90m {\"terminal\":true}\u001b[39m\n",
      "\u001b[36m[apify.facebook-search-scraper runId:c5T8hspWVQyiMJv9B]\u001b[0m -> 2025-06-20T18:01:37.402Z \u001b[32mINFO\u001b[39m  *** DONE ***\n",
      "\u001b[36m[apify.facebook-search-scraper runId:c5T8hspWVQyiMJv9B]\u001b[0m -> Status: SUCCEEDED, Message: Finished! Total 0 requests: 0 succeeded, 0 failed.\n"
     ]
    },
    {
     "name": "stdout",
     "output_type": "stream",
     "text": [
      "🔍 Looking up 'The Uncommon Business' on Facebook...\n"
     ]
    },
    {
     "name": "stderr",
     "output_type": "stream",
     "text": [
      "\u001b[36m[apify.facebook-search-scraper runId:Y6Hfd6sKPRz21BI1A]\u001b[0m -> Status: RUNNING, Message: \n",
      "\u001b[36m[apify.facebook-search-scraper runId:Y6Hfd6sKPRz21BI1A]\u001b[0m -> 2025-06-20T18:01:45.293Z ACTOR: Pulling Docker image of build Zb454ZPJ6q5DPla0h from registry.\n",
      "\u001b[36m[apify.facebook-search-scraper runId:Y6Hfd6sKPRz21BI1A]\u001b[0m -> 2025-06-20T18:01:45.297Z ACTOR: Creating Docker container.\n",
      "\u001b[36m[apify.facebook-search-scraper runId:Y6Hfd6sKPRz21BI1A]\u001b[0m -> 2025-06-20T18:01:45.414Z ACTOR: Starting Docker container.\n",
      "\u001b[36m[apify.facebook-search-scraper runId:Y6Hfd6sKPRz21BI1A]\u001b[0m -> 2025-06-20T18:01:46.970Z \u001b[32mINFO\u001b[39m  System info\u001b[90m {\"apifyVersion\":\"3.2.6\",\"apifyClientVersion\":\"2.9.4\",\"crawleeVersion\":\"3.12.1\",\"osType\":\"Linux\",\"nodeVersion\":\"v20.19.2\"}\u001b[39m\n",
      "\u001b[36m[apify.facebook-search-scraper runId:Y6Hfd6sKPRz21BI1A]\u001b[0m -> 2025-06-20T18:01:47.064Z \u001b[32mINFO\u001b[39m  Results Limit 20\n",
      "\u001b[36m[apify.facebook-search-scraper runId:Y6Hfd6sKPRz21BI1A]\u001b[0m -> 2025-06-20T18:01:47.722Z \u001b[32mINFO\u001b[39m \u001b[33m CheerioCrawler:\u001b[39m Using the old RequestQueue implementation without request locking.\n",
      "\u001b[36m[apify.facebook-search-scraper runId:Y6Hfd6sKPRz21BI1A]\u001b[0m -> 2025-06-20T18:01:47.881Z \u001b[32mINFO\u001b[39m \u001b[33m CheerioCrawler:\u001b[39m Starting the crawler.\n",
      "\u001b[36m[apify.facebook-search-scraper runId:Y6Hfd6sKPRz21BI1A]\u001b[0m -> Status: RUNNING, Message: Starting the crawler.\n",
      "\u001b[36m[apify.facebook-search-scraper runId:Y6Hfd6sKPRz21BI1A]\u001b[0m -> 2025-06-20T18:01:47.975Z \u001b[32mINFO\u001b[39m \u001b[33m CheerioCrawler:\u001b[39m All requests from the queue have been processed, the crawler will shut down.\n",
      "\u001b[36m[apify.facebook-search-scraper runId:Y6Hfd6sKPRz21BI1A]\u001b[0m -> 2025-06-20T18:01:48.121Z \u001b[32mINFO\u001b[39m \u001b[33m CheerioCrawler:\u001b[39m Final request statistics:\u001b[90m {\"requestsFinished\":0,\"requestsFailed\":0,\"retryHistogram\":[],\"requestAvgFailedDurationMillis\":null,\"requestAvgFinishedDurationMillis\":null,\"requestsFinishedPerMinute\":0,\"requestsFailedPerMinute\":0,\"requestTotalDurationMillis\":0,\"requestsTotal\":0,\"crawlerRuntimeMillis\":399}\u001b[39m\n",
      "\u001b[36m[apify.facebook-search-scraper runId:Y6Hfd6sKPRz21BI1A]\u001b[0m -> 2025-06-20T18:01:48.122Z \u001b[32mINFO\u001b[39m \u001b[33m CheerioCrawler:\u001b[39m Finished! Total 0 requests: 0 succeeded, 0 failed.\u001b[90m {\"terminal\":true}\u001b[39m\n",
      "\u001b[36m[apify.facebook-search-scraper runId:Y6Hfd6sKPRz21BI1A]\u001b[0m -> 2025-06-20T18:01:48.259Z \u001b[32mINFO\u001b[39m  *** DONE ***\n",
      "\u001b[36m[apify.facebook-search-scraper runId:Y6Hfd6sKPRz21BI1A]\u001b[0m -> Status: SUCCEEDED, Message: Finished! Total 0 requests: 0 succeeded, 0 failed.\n"
     ]
    },
    {
     "name": "stdout",
     "output_type": "stream",
     "text": [
      "🔍 Looking up 'Zama Marketing USA' on Facebook...\n"
     ]
    },
    {
     "name": "stderr",
     "output_type": "stream",
     "text": [
      "\u001b[36m[apify.facebook-search-scraper runId:S6dYm8E19TRqbwLgz]\u001b[0m -> Status: RUNNING, Message: \n",
      "\u001b[36m[apify.facebook-search-scraper runId:S6dYm8E19TRqbwLgz]\u001b[0m -> 2025-06-20T18:01:55.893Z ACTOR: Pulling Docker image of build Zb454ZPJ6q5DPla0h from registry.\n",
      "\u001b[36m[apify.facebook-search-scraper runId:S6dYm8E19TRqbwLgz]\u001b[0m -> 2025-06-20T18:01:55.894Z ACTOR: Creating Docker container.\n",
      "\u001b[36m[apify.facebook-search-scraper runId:S6dYm8E19TRqbwLgz]\u001b[0m -> 2025-06-20T18:01:55.974Z ACTOR: Starting Docker container.\n",
      "\u001b[36m[apify.facebook-search-scraper runId:S6dYm8E19TRqbwLgz]\u001b[0m -> 2025-06-20T18:01:57.711Z \u001b[32mINFO\u001b[39m  System info\u001b[90m {\"apifyVersion\":\"3.2.6\",\"apifyClientVersion\":\"2.9.4\",\"crawleeVersion\":\"3.12.1\",\"osType\":\"Linux\",\"nodeVersion\":\"v20.19.2\"}\u001b[39m\n",
      "\u001b[36m[apify.facebook-search-scraper runId:S6dYm8E19TRqbwLgz]\u001b[0m -> 2025-06-20T18:01:57.801Z \u001b[32mINFO\u001b[39m  Results Limit 20\n",
      "\u001b[36m[apify.facebook-search-scraper runId:S6dYm8E19TRqbwLgz]\u001b[0m -> 2025-06-20T18:01:58.416Z \u001b[32mINFO\u001b[39m \u001b[33m CheerioCrawler:\u001b[39m Using the old RequestQueue implementation without request locking.\n",
      "\u001b[36m[apify.facebook-search-scraper runId:S6dYm8E19TRqbwLgz]\u001b[0m -> Status: RUNNING, Message: Starting the crawler.\n",
      "\u001b[36m[apify.facebook-search-scraper runId:S6dYm8E19TRqbwLgz]\u001b[0m -> 2025-06-20T18:01:58.538Z \u001b[32mINFO\u001b[39m \u001b[33m CheerioCrawler:\u001b[39m Starting the crawler.\n",
      "\u001b[36m[apify.facebook-search-scraper runId:S6dYm8E19TRqbwLgz]\u001b[0m -> 2025-06-20T18:01:58.636Z \u001b[32mINFO\u001b[39m \u001b[33m CheerioCrawler:\u001b[39m All requests from the queue have been processed, the crawler will shut down.\n",
      "\u001b[36m[apify.facebook-search-scraper runId:S6dYm8E19TRqbwLgz]\u001b[0m -> 2025-06-20T18:01:58.699Z \u001b[32mINFO\u001b[39m \u001b[33m CheerioCrawler:\u001b[39m Final request statistics:\u001b[90m {\"requestsFinished\":0,\"requestsFailed\":0,\"retryHistogram\":[],\"requestAvgFailedDurationMillis\":null,\"requestAvgFinishedDurationMillis\":null,\"requestsFinishedPerMinute\":0,\"requestsFailedPerMinute\":0,\"requestTotalDurationMillis\":0,\"requestsTotal\":0,\"crawlerRuntimeMillis\":285}\u001b[39m\n",
      "\u001b[36m[apify.facebook-search-scraper runId:S6dYm8E19TRqbwLgz]\u001b[0m -> 2025-06-20T18:01:58.700Z \u001b[32mINFO\u001b[39m \u001b[33m CheerioCrawler:\u001b[39m Finished! Total 0 requests: 0 succeeded, 0 failed.\u001b[90m {\"terminal\":true}\u001b[39m\n",
      "\u001b[36m[apify.facebook-search-scraper runId:S6dYm8E19TRqbwLgz]\u001b[0m -> 2025-06-20T18:01:58.856Z \u001b[32mINFO\u001b[39m  *** DONE ***\n",
      "\u001b[36m[apify.facebook-search-scraper runId:S6dYm8E19TRqbwLgz]\u001b[0m -> Status: SUCCEEDED, Message: Finished! Total 0 requests: 0 succeeded, 0 failed.\n"
     ]
    },
    {
     "name": "stdout",
     "output_type": "stream",
     "text": [
      "🔍 Looking up 'I Market Business' on Facebook...\n"
     ]
    },
    {
     "name": "stderr",
     "output_type": "stream",
     "text": [
      "\u001b[36m[apify.facebook-search-scraper runId:YNTSaAdmBiCOegabl]\u001b[0m -> Status: RUNNING, Message: \n",
      "\u001b[36m[apify.facebook-search-scraper runId:YNTSaAdmBiCOegabl]\u001b[0m -> 2025-06-20T18:02:06.713Z ACTOR: Pulling Docker image of build Zb454ZPJ6q5DPla0h from registry.\n",
      "\u001b[36m[apify.facebook-search-scraper runId:YNTSaAdmBiCOegabl]\u001b[0m -> 2025-06-20T18:02:06.716Z ACTOR: Creating Docker container.\n",
      "\u001b[36m[apify.facebook-search-scraper runId:YNTSaAdmBiCOegabl]\u001b[0m -> 2025-06-20T18:02:06.834Z ACTOR: Starting Docker container.\n",
      "\u001b[36m[apify.facebook-search-scraper runId:YNTSaAdmBiCOegabl]\u001b[0m -> 2025-06-20T18:02:08.240Z \u001b[32mINFO\u001b[39m  System info\u001b[90m {\"apifyVersion\":\"3.2.6\",\"apifyClientVersion\":\"2.9.4\",\"crawleeVersion\":\"3.12.1\",\"osType\":\"Linux\",\"nodeVersion\":\"v20.19.2\"}\u001b[39m\n",
      "\u001b[36m[apify.facebook-search-scraper runId:YNTSaAdmBiCOegabl]\u001b[0m -> 2025-06-20T18:02:08.335Z \u001b[32mINFO\u001b[39m  Results Limit 20\n",
      "\u001b[36m[apify.facebook-search-scraper runId:YNTSaAdmBiCOegabl]\u001b[0m -> 2025-06-20T18:02:09.173Z \u001b[32mINFO\u001b[39m \u001b[33m CheerioCrawler:\u001b[39m Using the old RequestQueue implementation without request locking.\n",
      "\u001b[36m[apify.facebook-search-scraper runId:YNTSaAdmBiCOegabl]\u001b[0m -> 2025-06-20T18:02:09.303Z \u001b[32mINFO\u001b[39m \u001b[33m CheerioCrawler:\u001b[39m Starting the crawler.\n",
      "\u001b[36m[apify.facebook-search-scraper runId:YNTSaAdmBiCOegabl]\u001b[0m -> Status: RUNNING, Message: Starting the crawler.\n",
      "\u001b[36m[apify.facebook-search-scraper runId:YNTSaAdmBiCOegabl]\u001b[0m -> 2025-06-20T18:02:09.402Z \u001b[32mINFO\u001b[39m \u001b[33m CheerioCrawler:\u001b[39m All requests from the queue have been processed, the crawler will shut down.\n",
      "\u001b[36m[apify.facebook-search-scraper runId:YNTSaAdmBiCOegabl]\u001b[0m -> 2025-06-20T18:02:09.550Z \u001b[32mINFO\u001b[39m \u001b[33m CheerioCrawler:\u001b[39m Final request statistics:\u001b[90m {\"requestsFinished\":0,\"requestsFailed\":0,\"retryHistogram\":[],\"requestAvgFailedDurationMillis\":null,\"requestAvgFinishedDurationMillis\":null,\"requestsFinishedPerMinute\":0,\"requestsFailedPerMinute\":0,\"requestTotalDurationMillis\":0,\"requestsTotal\":0,\"crawlerRuntimeMillis\":378}\u001b[39m\n",
      "\u001b[36m[apify.facebook-search-scraper runId:YNTSaAdmBiCOegabl]\u001b[0m -> 2025-06-20T18:02:09.552Z \u001b[32mINFO\u001b[39m \u001b[33m CheerioCrawler:\u001b[39m Finished! Total 0 requests: 0 succeeded, 0 failed.\u001b[90m {\"terminal\":true}\u001b[39m\n",
      "\u001b[36m[apify.facebook-search-scraper runId:YNTSaAdmBiCOegabl]\u001b[0m -> 2025-06-20T18:02:09.893Z \u001b[32mINFO\u001b[39m  *** DONE ***\n",
      "\u001b[36m[apify.facebook-search-scraper runId:YNTSaAdmBiCOegabl]\u001b[0m -> Status: SUCCEEDED, Message: Finished! Total 0 requests: 0 succeeded, 0 failed.\n"
     ]
    },
    {
     "name": "stdout",
     "output_type": "stream",
     "text": [
      "🔍 Looking up 'MARKETING COMPANY' on Facebook...\n"
     ]
    },
    {
     "name": "stderr",
     "output_type": "stream",
     "text": [
      "\u001b[36m[apify.facebook-search-scraper runId:bX97ev67EJqBalj55]\u001b[0m -> Status: RUNNING, Message: \n",
      "\u001b[36m[apify.facebook-search-scraper runId:bX97ev67EJqBalj55]\u001b[0m -> 2025-06-20T18:02:17.654Z ACTOR: Pulling Docker image of build Zb454ZPJ6q5DPla0h from registry.\n",
      "\u001b[36m[apify.facebook-search-scraper runId:bX97ev67EJqBalj55]\u001b[0m -> 2025-06-20T18:02:17.656Z ACTOR: Creating Docker container.\n",
      "\u001b[36m[apify.facebook-search-scraper runId:bX97ev67EJqBalj55]\u001b[0m -> 2025-06-20T18:02:17.745Z ACTOR: Starting Docker container.\n",
      "\u001b[36m[apify.facebook-search-scraper runId:bX97ev67EJqBalj55]\u001b[0m -> 2025-06-20T18:02:19.176Z \u001b[32mINFO\u001b[39m  System info\u001b[90m {\"apifyVersion\":\"3.2.6\",\"apifyClientVersion\":\"2.9.4\",\"crawleeVersion\":\"3.12.1\",\"osType\":\"Linux\",\"nodeVersion\":\"v20.19.2\"}\u001b[39m\n",
      "\u001b[36m[apify.facebook-search-scraper runId:bX97ev67EJqBalj55]\u001b[0m -> 2025-06-20T18:02:19.268Z \u001b[32mINFO\u001b[39m  Results Limit 20\n",
      "\u001b[36m[apify.facebook-search-scraper runId:bX97ev67EJqBalj55]\u001b[0m -> 2025-06-20T18:02:19.806Z \u001b[32mINFO\u001b[39m \u001b[33m CheerioCrawler:\u001b[39m Using the old RequestQueue implementation without request locking.\n",
      "\u001b[36m[apify.facebook-search-scraper runId:bX97ev67EJqBalj55]\u001b[0m -> 2025-06-20T18:02:19.965Z \u001b[32mINFO\u001b[39m \u001b[33m CheerioCrawler:\u001b[39m Starting the crawler.\n",
      "\u001b[36m[apify.facebook-search-scraper runId:bX97ev67EJqBalj55]\u001b[0m -> 2025-06-20T18:02:20.074Z \u001b[32mINFO\u001b[39m \u001b[33m CheerioCrawler:\u001b[39m All requests from the queue have been processed, the crawler will shut down.\n",
      "\u001b[36m[apify.facebook-search-scraper runId:bX97ev67EJqBalj55]\u001b[0m -> 2025-06-20T18:02:20.160Z \u001b[32mINFO\u001b[39m \u001b[33m CheerioCrawler:\u001b[39m Final request statistics:\u001b[90m {\"requestsFinished\":0,\"requestsFailed\":0,\"retryHistogram\":[],\"requestAvgFailedDurationMillis\":null,\"requestAvgFinishedDurationMillis\":null,\"requestsFinishedPerMinute\":0,\"requestsFailedPerMinute\":0,\"requestTotalDurationMillis\":0,\"requestsTotal\":0,\"crawlerRuntimeMillis\":354}\u001b[39m\n",
      "\u001b[36m[apify.facebook-search-scraper runId:bX97ev67EJqBalj55]\u001b[0m -> 2025-06-20T18:02:20.162Z \u001b[32mINFO\u001b[39m \u001b[33m CheerioCrawler:\u001b[39m Finished! Total 0 requests: 0 succeeded, 0 failed.\u001b[90m {\"terminal\":true}\u001b[39m\n",
      "\u001b[36m[apify.facebook-search-scraper runId:bX97ev67EJqBalj55]\u001b[0m -> Status: RUNNING, Message: Finished! Total 0 requests: 0 succeeded, 0 failed.\n",
      "\u001b[36m[apify.facebook-search-scraper runId:bX97ev67EJqBalj55]\u001b[0m -> 2025-06-20T18:02:20.295Z \u001b[32mINFO\u001b[39m  *** DONE ***\n"
     ]
    },
    {
     "name": "stdout",
     "output_type": "stream",
     "text": [
      "🔍 Looking up 'Lexilexi.ai' on Facebook...\n"
     ]
    },
    {
     "name": "stderr",
     "output_type": "stream",
     "text": [
      "\u001b[36m[apify.facebook-search-scraper runId:F7zOwxkCJVdJMYBFX]\u001b[0m -> Status: RUNNING, Message: \n",
      "\u001b[36m[apify.facebook-search-scraper runId:F7zOwxkCJVdJMYBFX]\u001b[0m -> 2025-06-20T18:02:28.163Z ACTOR: Pulling Docker image of build Zb454ZPJ6q5DPla0h from registry.\n",
      "\u001b[36m[apify.facebook-search-scraper runId:F7zOwxkCJVdJMYBFX]\u001b[0m -> 2025-06-20T18:02:28.164Z ACTOR: Creating Docker container.\n",
      "\u001b[36m[apify.facebook-search-scraper runId:F7zOwxkCJVdJMYBFX]\u001b[0m -> 2025-06-20T18:02:28.749Z ACTOR: Starting Docker container.\n",
      "\u001b[36m[apify.facebook-search-scraper runId:F7zOwxkCJVdJMYBFX]\u001b[0m -> 2025-06-20T18:02:30.702Z \u001b[32mINFO\u001b[39m  System info\u001b[90m {\"apifyVersion\":\"3.2.6\",\"apifyClientVersion\":\"2.9.4\",\"crawleeVersion\":\"3.12.1\",\"osType\":\"Linux\",\"nodeVersion\":\"v20.19.2\"}\u001b[39m\n",
      "\u001b[36m[apify.facebook-search-scraper runId:F7zOwxkCJVdJMYBFX]\u001b[0m -> 2025-06-20T18:02:30.788Z \u001b[32mINFO\u001b[39m  Results Limit 20\n",
      "\u001b[36m[apify.facebook-search-scraper runId:F7zOwxkCJVdJMYBFX]\u001b[0m -> 2025-06-20T18:02:31.450Z \u001b[32mINFO\u001b[39m \u001b[33m CheerioCrawler:\u001b[39m Using the old RequestQueue implementation without request locking.\n",
      "\u001b[36m[apify.facebook-search-scraper runId:F7zOwxkCJVdJMYBFX]\u001b[0m -> 2025-06-20T18:02:31.588Z \u001b[32mINFO\u001b[39m \u001b[33m CheerioCrawler:\u001b[39m Starting the crawler.\n",
      "\u001b[36m[apify.facebook-search-scraper runId:F7zOwxkCJVdJMYBFX]\u001b[0m -> 2025-06-20T18:02:31.721Z \u001b[32mINFO\u001b[39m \u001b[33m CheerioCrawler:\u001b[39m All requests from the queue have been processed, the crawler will shut down.\n",
      "\u001b[36m[apify.facebook-search-scraper runId:F7zOwxkCJVdJMYBFX]\u001b[0m -> 2025-06-20T18:02:31.844Z \u001b[32mINFO\u001b[39m \u001b[33m CheerioCrawler:\u001b[39m Final request statistics:\u001b[90m {\"requestsFinished\":0,\"requestsFailed\":0,\"retryHistogram\":[],\"requestAvgFailedDurationMillis\":null,\"requestAvgFinishedDurationMillis\":null,\"requestsFinishedPerMinute\":0,\"requestsFailedPerMinute\":0,\"requestTotalDurationMillis\":0,\"requestsTotal\":0,\"crawlerRuntimeMillis\":394}\u001b[39m\n",
      "\u001b[36m[apify.facebook-search-scraper runId:F7zOwxkCJVdJMYBFX]\u001b[0m -> 2025-06-20T18:02:31.845Z \u001b[32mINFO\u001b[39m \u001b[33m CheerioCrawler:\u001b[39m Finished! Total 0 requests: 0 succeeded, 0 failed.\u001b[90m {\"terminal\":true}\u001b[39m\n",
      "\u001b[36m[apify.facebook-search-scraper runId:F7zOwxkCJVdJMYBFX]\u001b[0m -> Status: RUNNING, Message: Finished! Total 0 requests: 0 succeeded, 0 failed.\n",
      "\u001b[36m[apify.facebook-search-scraper runId:F7zOwxkCJVdJMYBFX]\u001b[0m -> 2025-06-20T18:02:31.964Z \u001b[32mINFO\u001b[39m  *** DONE ***\n"
     ]
    },
    {
     "name": "stdout",
     "output_type": "stream",
     "text": [
      "🔍 Looking up 'Pablo Espinoza Marketing' on Facebook...\n"
     ]
    },
    {
     "name": "stderr",
     "output_type": "stream",
     "text": [
      "\u001b[36m[apify.facebook-search-scraper runId:yOuNxScf0xxblnALf]\u001b[0m -> Status: RUNNING, Message: \n",
      "\u001b[36m[apify.facebook-search-scraper runId:yOuNxScf0xxblnALf]\u001b[0m -> 2025-06-20T18:02:39.621Z ACTOR: Pulling Docker image of build Zb454ZPJ6q5DPla0h from registry.\n",
      "\u001b[36m[apify.facebook-search-scraper runId:yOuNxScf0xxblnALf]\u001b[0m -> 2025-06-20T18:02:39.623Z ACTOR: Creating Docker container.\n",
      "\u001b[36m[apify.facebook-search-scraper runId:yOuNxScf0xxblnALf]\u001b[0m -> 2025-06-20T18:02:39.841Z ACTOR: Starting Docker container.\n",
      "\u001b[36m[apify.facebook-search-scraper runId:yOuNxScf0xxblnALf]\u001b[0m -> 2025-06-20T18:02:41.243Z \u001b[32mINFO\u001b[39m  System info\u001b[90m {\"apifyVersion\":\"3.2.6\",\"apifyClientVersion\":\"2.9.4\",\"crawleeVersion\":\"3.12.1\",\"osType\":\"Linux\",\"nodeVersion\":\"v20.19.2\"}\u001b[39m\n",
      "\u001b[36m[apify.facebook-search-scraper runId:yOuNxScf0xxblnALf]\u001b[0m -> 2025-06-20T18:02:41.331Z \u001b[32mINFO\u001b[39m  Results Limit 20\n",
      "\u001b[36m[apify.facebook-search-scraper runId:yOuNxScf0xxblnALf]\u001b[0m -> 2025-06-20T18:02:41.824Z \u001b[32mINFO\u001b[39m \u001b[33m CheerioCrawler:\u001b[39m Using the old RequestQueue implementation without request locking.\n",
      "\u001b[36m[apify.facebook-search-scraper runId:yOuNxScf0xxblnALf]\u001b[0m -> 2025-06-20T18:02:41.952Z \u001b[32mINFO\u001b[39m \u001b[33m CheerioCrawler:\u001b[39m Starting the crawler.\n",
      "\u001b[36m[apify.facebook-search-scraper runId:yOuNxScf0xxblnALf]\u001b[0m -> 2025-06-20T18:02:42.060Z \u001b[32mINFO\u001b[39m \u001b[33m CheerioCrawler:\u001b[39m All requests from the queue have been processed, the crawler will shut down.\n",
      "\u001b[36m[apify.facebook-search-scraper runId:yOuNxScf0xxblnALf]\u001b[0m -> 2025-06-20T18:02:42.120Z \u001b[32mINFO\u001b[39m \u001b[33m CheerioCrawler:\u001b[39m Final request statistics:\u001b[90m {\"requestsFinished\":0,\"requestsFailed\":0,\"retryHistogram\":[],\"requestAvgFailedDurationMillis\":null,\"requestAvgFinishedDurationMillis\":null,\"requestsFinishedPerMinute\":0,\"requestsFailedPerMinute\":0,\"requestTotalDurationMillis\":0,\"requestsTotal\":0,\"crawlerRuntimeMillis\":296}\u001b[39m\n",
      "\u001b[36m[apify.facebook-search-scraper runId:yOuNxScf0xxblnALf]\u001b[0m -> 2025-06-20T18:02:42.122Z \u001b[32mINFO\u001b[39m \u001b[33m CheerioCrawler:\u001b[39m Finished! Total 0 requests: 0 succeeded, 0 failed.\u001b[90m {\"terminal\":true}\u001b[39m\n",
      "\u001b[36m[apify.facebook-search-scraper runId:yOuNxScf0xxblnALf]\u001b[0m -> Status: RUNNING, Message: Finished! Total 0 requests: 0 succeeded, 0 failed.\n",
      "\u001b[36m[apify.facebook-search-scraper runId:yOuNxScf0xxblnALf]\u001b[0m -> 2025-06-20T18:02:42.251Z \u001b[32mINFO\u001b[39m  *** DONE ***\n"
     ]
    },
    {
     "name": "stdout",
     "output_type": "stream",
     "text": [
      "🔍 Looking up 'New Era Digital' on Facebook...\n"
     ]
    },
    {
     "name": "stderr",
     "output_type": "stream",
     "text": [
      "\u001b[36m[apify.facebook-search-scraper runId:lEHYbXJp9ktd0orgc]\u001b[0m -> Status: RUNNING, Message: \n",
      "\u001b[36m[apify.facebook-search-scraper runId:lEHYbXJp9ktd0orgc]\u001b[0m -> 2025-06-20T18:02:50.054Z ACTOR: Pulling Docker image of build Zb454ZPJ6q5DPla0h from registry.\n",
      "\u001b[36m[apify.facebook-search-scraper runId:lEHYbXJp9ktd0orgc]\u001b[0m -> 2025-06-20T18:02:50.056Z ACTOR: Creating Docker container.\n",
      "\u001b[36m[apify.facebook-search-scraper runId:lEHYbXJp9ktd0orgc]\u001b[0m -> 2025-06-20T18:02:50.128Z ACTOR: Starting Docker container.\n",
      "\u001b[36m[apify.facebook-search-scraper runId:lEHYbXJp9ktd0orgc]\u001b[0m -> 2025-06-20T18:02:51.449Z \u001b[32mINFO\u001b[39m  System info\u001b[90m {\"apifyVersion\":\"3.2.6\",\"apifyClientVersion\":\"2.9.4\",\"crawleeVersion\":\"3.12.1\",\"osType\":\"Linux\",\"nodeVersion\":\"v20.19.2\"}\u001b[39m\n",
      "\u001b[36m[apify.facebook-search-scraper runId:lEHYbXJp9ktd0orgc]\u001b[0m -> 2025-06-20T18:02:51.555Z \u001b[32mINFO\u001b[39m  Results Limit 20\n",
      "\u001b[36m[apify.facebook-search-scraper runId:lEHYbXJp9ktd0orgc]\u001b[0m -> 2025-06-20T18:02:52.094Z \u001b[32mINFO\u001b[39m \u001b[33m CheerioCrawler:\u001b[39m Using the old RequestQueue implementation without request locking.\n",
      "\u001b[36m[apify.facebook-search-scraper runId:lEHYbXJp9ktd0orgc]\u001b[0m -> 2025-06-20T18:02:52.315Z \u001b[32mINFO\u001b[39m \u001b[33m CheerioCrawler:\u001b[39m Starting the crawler.\n",
      "\u001b[36m[apify.facebook-search-scraper runId:lEHYbXJp9ktd0orgc]\u001b[0m -> 2025-06-20T18:02:52.458Z \u001b[32mINFO\u001b[39m \u001b[33m CheerioCrawler:\u001b[39m All requests from the queue have been processed, the crawler will shut down.\n",
      "\u001b[36m[apify.facebook-search-scraper runId:lEHYbXJp9ktd0orgc]\u001b[0m -> 2025-06-20T18:02:52.636Z \u001b[32mINFO\u001b[39m \u001b[33m CheerioCrawler:\u001b[39m Final request statistics:\u001b[90m {\"requestsFinished\":0,\"requestsFailed\":0,\"retryHistogram\":[],\"requestAvgFailedDurationMillis\":null,\"requestAvgFinishedDurationMillis\":null,\"requestsFinishedPerMinute\":0,\"requestsFailedPerMinute\":0,\"requestTotalDurationMillis\":0,\"requestsTotal\":0,\"crawlerRuntimeMillis\":543}\u001b[39m\n",
      "\u001b[36m[apify.facebook-search-scraper runId:lEHYbXJp9ktd0orgc]\u001b[0m -> Status: RUNNING, Message: Finished! Total 0 requests: 0 succeeded, 0 failed.\n",
      "\u001b[36m[apify.facebook-search-scraper runId:lEHYbXJp9ktd0orgc]\u001b[0m -> 2025-06-20T18:02:52.643Z \u001b[32mINFO\u001b[39m \u001b[33m CheerioCrawler:\u001b[39m Finished! Total 0 requests: 0 succeeded, 0 failed.\u001b[90m {\"terminal\":true}\u001b[39m\n",
      "\u001b[36m[apify.facebook-search-scraper runId:lEHYbXJp9ktd0orgc]\u001b[0m -> 2025-06-20T18:02:52.847Z \u001b[32mINFO\u001b[39m  *** DONE ***\n"
     ]
    },
    {
     "name": "stdout",
     "output_type": "stream",
     "text": [
      "🔍 Looking up 'The Real Girls Guide to Over 55' on Facebook...\n"
     ]
    },
    {
     "name": "stderr",
     "output_type": "stream",
     "text": [
      "\u001b[36m[apify.facebook-search-scraper runId:bojjS5JiE5b1HuMCb]\u001b[0m -> Status: RUNNING, Message: \n",
      "\u001b[36m[apify.facebook-search-scraper runId:bojjS5JiE5b1HuMCb]\u001b[0m -> 2025-06-20T18:03:00.660Z ACTOR: Pulling Docker image of build Zb454ZPJ6q5DPla0h from registry.\n",
      "\u001b[36m[apify.facebook-search-scraper runId:bojjS5JiE5b1HuMCb]\u001b[0m -> 2025-06-20T18:03:00.661Z ACTOR: Creating Docker container.\n",
      "\u001b[36m[apify.facebook-search-scraper runId:bojjS5JiE5b1HuMCb]\u001b[0m -> 2025-06-20T18:03:00.723Z ACTOR: Starting Docker container.\n",
      "\u001b[36m[apify.facebook-search-scraper runId:bojjS5JiE5b1HuMCb]\u001b[0m -> 2025-06-20T18:03:02.966Z \u001b[32mINFO\u001b[39m  System info\u001b[90m {\"apifyVersion\":\"3.2.6\",\"apifyClientVersion\":\"2.9.4\",\"crawleeVersion\":\"3.12.1\",\"osType\":\"Linux\",\"nodeVersion\":\"v20.19.2\"}\u001b[39m\n",
      "\u001b[36m[apify.facebook-search-scraper runId:bojjS5JiE5b1HuMCb]\u001b[0m -> 2025-06-20T18:03:03.060Z \u001b[32mINFO\u001b[39m  Results Limit 20\n",
      "\u001b[36m[apify.facebook-search-scraper runId:bojjS5JiE5b1HuMCb]\u001b[0m -> 2025-06-20T18:03:03.665Z \u001b[32mINFO\u001b[39m \u001b[33m CheerioCrawler:\u001b[39m Using the old RequestQueue implementation without request locking.\n",
      "\u001b[36m[apify.facebook-search-scraper runId:bojjS5JiE5b1HuMCb]\u001b[0m -> 2025-06-20T18:03:03.838Z \u001b[32mINFO\u001b[39m \u001b[33m CheerioCrawler:\u001b[39m Starting the crawler.\n",
      "\u001b[36m[apify.facebook-search-scraper runId:bojjS5JiE5b1HuMCb]\u001b[0m -> 2025-06-20T18:03:03.947Z \u001b[32mINFO\u001b[39m \u001b[33m CheerioCrawler:\u001b[39m All requests from the queue have been processed, the crawler will shut down.\n",
      "\u001b[36m[apify.facebook-search-scraper runId:bojjS5JiE5b1HuMCb]\u001b[0m -> 2025-06-20T18:03:04.024Z \u001b[32mINFO\u001b[39m \u001b[33m CheerioCrawler:\u001b[39m Final request statistics:\u001b[90m {\"requestsFinished\":0,\"requestsFailed\":0,\"retryHistogram\":[],\"requestAvgFailedDurationMillis\":null,\"requestAvgFinishedDurationMillis\":null,\"requestsFinishedPerMinute\":0,\"requestsFailedPerMinute\":0,\"requestTotalDurationMillis\":0,\"requestsTotal\":0,\"crawlerRuntimeMillis\":359}\u001b[39m\n",
      "\u001b[36m[apify.facebook-search-scraper runId:bojjS5JiE5b1HuMCb]\u001b[0m -> 2025-06-20T18:03:04.024Z \u001b[32mINFO\u001b[39m \u001b[33m CheerioCrawler:\u001b[39m Finished! Total 0 requests: 0 succeeded, 0 failed.\u001b[90m {\"terminal\":true}\u001b[39m\n",
      "\u001b[36m[apify.facebook-search-scraper runId:bojjS5JiE5b1HuMCb]\u001b[0m -> 2025-06-20T18:03:04.162Z \u001b[32mINFO\u001b[39m  *** DONE ***\n",
      "\u001b[36m[apify.facebook-search-scraper runId:bojjS5JiE5b1HuMCb]\u001b[0m -> Status: SUCCEEDED, Message: Finished! Total 0 requests: 0 succeeded, 0 failed.\n"
     ]
    },
    {
     "name": "stdout",
     "output_type": "stream",
     "text": [
      "🔍 Looking up 'H & H Printing LLC' on Facebook...\n"
     ]
    },
    {
     "name": "stderr",
     "output_type": "stream",
     "text": [
      "\u001b[36m[apify.facebook-search-scraper runId:g1GEyCHaoIj9eXDAg]\u001b[0m -> Status: RUNNING, Message: \n",
      "\u001b[36m[apify.facebook-search-scraper runId:g1GEyCHaoIj9eXDAg]\u001b[0m -> 2025-06-20T18:03:12.017Z ACTOR: Pulling Docker image of build Zb454ZPJ6q5DPla0h from registry.\n",
      "\u001b[36m[apify.facebook-search-scraper runId:g1GEyCHaoIj9eXDAg]\u001b[0m -> 2025-06-20T18:03:12.019Z ACTOR: Creating Docker container.\n",
      "\u001b[36m[apify.facebook-search-scraper runId:g1GEyCHaoIj9eXDAg]\u001b[0m -> 2025-06-20T18:03:12.102Z ACTOR: Starting Docker container.\n",
      "\u001b[36m[apify.facebook-search-scraper runId:g1GEyCHaoIj9eXDAg]\u001b[0m -> 2025-06-20T18:03:13.849Z \u001b[32mINFO\u001b[39m  System info\u001b[90m {\"apifyVersion\":\"3.2.6\",\"apifyClientVersion\":\"2.9.4\",\"crawleeVersion\":\"3.12.1\",\"osType\":\"Linux\",\"nodeVersion\":\"v20.19.2\"}\u001b[39m\n",
      "\u001b[36m[apify.facebook-search-scraper runId:g1GEyCHaoIj9eXDAg]\u001b[0m -> 2025-06-20T18:03:13.984Z \u001b[32mINFO\u001b[39m  Results Limit 20\n",
      "\u001b[36m[apify.facebook-search-scraper runId:g1GEyCHaoIj9eXDAg]\u001b[0m -> 2025-06-20T18:03:14.872Z \u001b[32mINFO\u001b[39m \u001b[33m CheerioCrawler:\u001b[39m Using the old RequestQueue implementation without request locking.\n",
      "\u001b[36m[apify.facebook-search-scraper runId:g1GEyCHaoIj9eXDAg]\u001b[0m -> 2025-06-20T18:03:15.102Z \u001b[32mINFO\u001b[39m \u001b[33m CheerioCrawler:\u001b[39m Starting the crawler.\n",
      "\u001b[36m[apify.facebook-search-scraper runId:g1GEyCHaoIj9eXDAg]\u001b[0m -> 2025-06-20T18:03:15.271Z \u001b[32mINFO\u001b[39m \u001b[33m CheerioCrawler:\u001b[39m All requests from the queue have been processed, the crawler will shut down.\n",
      "\u001b[36m[apify.facebook-search-scraper runId:g1GEyCHaoIj9eXDAg]\u001b[0m -> 2025-06-20T18:03:15.399Z \u001b[32mINFO\u001b[39m \u001b[33m CheerioCrawler:\u001b[39m Final request statistics:\u001b[90m {\"requestsFinished\":0,\"requestsFailed\":0,\"retryHistogram\":[],\"requestAvgFailedDurationMillis\":null,\"requestAvgFinishedDurationMillis\":null,\"requestsFinishedPerMinute\":0,\"requestsFailedPerMinute\":0,\"requestTotalDurationMillis\":0,\"requestsTotal\":0,\"crawlerRuntimeMillis\":528}\u001b[39m\n",
      "\u001b[36m[apify.facebook-search-scraper runId:g1GEyCHaoIj9eXDAg]\u001b[0m -> 2025-06-20T18:03:15.400Z \u001b[32mINFO\u001b[39m \u001b[33m CheerioCrawler:\u001b[39m Finished! Total 0 requests: 0 succeeded, 0 failed.\u001b[90m {\"terminal\":true}\u001b[39m\n",
      "\u001b[36m[apify.facebook-search-scraper runId:g1GEyCHaoIj9eXDAg]\u001b[0m -> Status: RUNNING, Message: Finished! Total 0 requests: 0 succeeded, 0 failed.\n",
      "\u001b[36m[apify.facebook-search-scraper runId:g1GEyCHaoIj9eXDAg]\u001b[0m -> 2025-06-20T18:03:15.577Z \u001b[32mINFO\u001b[39m  *** DONE ***\n"
     ]
    },
    {
     "name": "stdout",
     "output_type": "stream",
     "text": [
      "🔍 Looking up 'The Rainmaker Institute' on Facebook...\n"
     ]
    },
    {
     "name": "stderr",
     "output_type": "stream",
     "text": [
      "\u001b[36m[apify.facebook-search-scraper runId:sFAlaM7AQDD8wYwnl]\u001b[0m -> Status: RUNNING, Message: \n",
      "\u001b[36m[apify.facebook-search-scraper runId:sFAlaM7AQDD8wYwnl]\u001b[0m -> 2025-06-20T18:03:23.599Z ACTOR: Pulling Docker image of build Zb454ZPJ6q5DPla0h from registry.\n",
      "\u001b[36m[apify.facebook-search-scraper runId:sFAlaM7AQDD8wYwnl]\u001b[0m -> 2025-06-20T18:03:23.600Z ACTOR: Creating Docker container.\n",
      "\u001b[36m[apify.facebook-search-scraper runId:sFAlaM7AQDD8wYwnl]\u001b[0m -> 2025-06-20T18:03:23.687Z ACTOR: Starting Docker container.\n",
      "\u001b[36m[apify.facebook-search-scraper runId:sFAlaM7AQDD8wYwnl]\u001b[0m -> 2025-06-20T18:03:25.044Z \u001b[32mINFO\u001b[39m  System info\u001b[90m {\"apifyVersion\":\"3.2.6\",\"apifyClientVersion\":\"2.9.4\",\"crawleeVersion\":\"3.12.1\",\"osType\":\"Linux\",\"nodeVersion\":\"v20.19.2\"}\u001b[39m\n",
      "\u001b[36m[apify.facebook-search-scraper runId:sFAlaM7AQDD8wYwnl]\u001b[0m -> 2025-06-20T18:03:25.133Z \u001b[32mINFO\u001b[39m  Results Limit 20\n",
      "\u001b[36m[apify.facebook-search-scraper runId:sFAlaM7AQDD8wYwnl]\u001b[0m -> 2025-06-20T18:03:25.658Z \u001b[32mINFO\u001b[39m \u001b[33m CheerioCrawler:\u001b[39m Using the old RequestQueue implementation without request locking.\n",
      "\u001b[36m[apify.facebook-search-scraper runId:sFAlaM7AQDD8wYwnl]\u001b[0m -> 2025-06-20T18:03:25.761Z \u001b[32mINFO\u001b[39m \u001b[33m CheerioCrawler:\u001b[39m Starting the crawler.\n",
      "\u001b[36m[apify.facebook-search-scraper runId:sFAlaM7AQDD8wYwnl]\u001b[0m -> 2025-06-20T18:03:25.905Z \u001b[32mINFO\u001b[39m \u001b[33m CheerioCrawler:\u001b[39m All requests from the queue have been processed, the crawler will shut down.\n",
      "\u001b[36m[apify.facebook-search-scraper runId:sFAlaM7AQDD8wYwnl]\u001b[0m -> 2025-06-20T18:03:26.156Z \u001b[32mINFO\u001b[39m \u001b[33m CheerioCrawler:\u001b[39m Final request statistics:\u001b[90m {\"requestsFinished\":0,\"requestsFailed\":0,\"retryHistogram\":[],\"requestAvgFailedDurationMillis\":null,\"requestAvgFinishedDurationMillis\":null,\"requestsFinishedPerMinute\":0,\"requestsFailedPerMinute\":0,\"requestTotalDurationMillis\":0,\"requestsTotal\":0,\"crawlerRuntimeMillis\":498}\u001b[39m\n",
      "\u001b[36m[apify.facebook-search-scraper runId:sFAlaM7AQDD8wYwnl]\u001b[0m -> Status: RUNNING, Message: Finished! Total 0 requests: 0 succeeded, 0 failed.\n",
      "\u001b[36m[apify.facebook-search-scraper runId:sFAlaM7AQDD8wYwnl]\u001b[0m -> 2025-06-20T18:03:26.156Z \u001b[32mINFO\u001b[39m \u001b[33m CheerioCrawler:\u001b[39m Finished! Total 0 requests: 0 succeeded, 0 failed.\u001b[90m {\"terminal\":true}\u001b[39m\n",
      "\u001b[36m[apify.facebook-search-scraper runId:sFAlaM7AQDD8wYwnl]\u001b[0m -> 2025-06-20T18:03:26.387Z \u001b[32mINFO\u001b[39m  *** DONE ***\n"
     ]
    },
    {
     "name": "stdout",
     "output_type": "stream",
     "text": [
      "🔍 Looking up 'Veracollective' on Facebook...\n"
     ]
    },
    {
     "name": "stderr",
     "output_type": "stream",
     "text": [
      "\u001b[36m[apify.facebook-search-scraper runId:JiAIbWni8LfEjHWpr]\u001b[0m -> Status: RUNNING, Message: \n",
      "\u001b[36m[apify.facebook-search-scraper runId:JiAIbWni8LfEjHWpr]\u001b[0m -> 2025-06-20T18:03:34.151Z ACTOR: Pulling Docker image of build Zb454ZPJ6q5DPla0h from registry.\n",
      "\u001b[36m[apify.facebook-search-scraper runId:JiAIbWni8LfEjHWpr]\u001b[0m -> 2025-06-20T18:03:34.152Z ACTOR: Creating Docker container.\n",
      "\u001b[36m[apify.facebook-search-scraper runId:JiAIbWni8LfEjHWpr]\u001b[0m -> 2025-06-20T18:03:34.214Z ACTOR: Starting Docker container.\n",
      "\u001b[36m[apify.facebook-search-scraper runId:JiAIbWni8LfEjHWpr]\u001b[0m -> 2025-06-20T18:03:35.533Z \u001b[32mINFO\u001b[39m  System info\u001b[90m {\"apifyVersion\":\"3.2.6\",\"apifyClientVersion\":\"2.9.4\",\"crawleeVersion\":\"3.12.1\",\"osType\":\"Linux\",\"nodeVersion\":\"v20.19.2\"}\u001b[39m\n",
      "\u001b[36m[apify.facebook-search-scraper runId:JiAIbWni8LfEjHWpr]\u001b[0m -> 2025-06-20T18:03:35.637Z \u001b[32mINFO\u001b[39m  Results Limit 20\n",
      "\u001b[36m[apify.facebook-search-scraper runId:JiAIbWni8LfEjHWpr]\u001b[0m -> 2025-06-20T18:03:36.284Z \u001b[32mINFO\u001b[39m \u001b[33m CheerioCrawler:\u001b[39m Using the old RequestQueue implementation without request locking.\n",
      "\u001b[36m[apify.facebook-search-scraper runId:JiAIbWni8LfEjHWpr]\u001b[0m -> 2025-06-20T18:03:36.421Z \u001b[32mINFO\u001b[39m \u001b[33m CheerioCrawler:\u001b[39m Starting the crawler.\n",
      "\u001b[36m[apify.facebook-search-scraper runId:JiAIbWni8LfEjHWpr]\u001b[0m -> 2025-06-20T18:03:36.544Z \u001b[32mINFO\u001b[39m \u001b[33m CheerioCrawler:\u001b[39m All requests from the queue have been processed, the crawler will shut down.\n",
      "\u001b[36m[apify.facebook-search-scraper runId:JiAIbWni8LfEjHWpr]\u001b[0m -> 2025-06-20T18:03:36.622Z \u001b[32mINFO\u001b[39m \u001b[33m CheerioCrawler:\u001b[39m Final request statistics:\u001b[90m {\"requestsFinished\":0,\"requestsFailed\":0,\"retryHistogram\":[],\"requestAvgFailedDurationMillis\":null,\"requestAvgFinishedDurationMillis\":null,\"requestsFinishedPerMinute\":0,\"requestsFailedPerMinute\":0,\"requestTotalDurationMillis\":0,\"requestsTotal\":0,\"crawlerRuntimeMillis\":339}\u001b[39m\n",
      "\u001b[36m[apify.facebook-search-scraper runId:JiAIbWni8LfEjHWpr]\u001b[0m -> 2025-06-20T18:03:36.623Z \u001b[32mINFO\u001b[39m \u001b[33m CheerioCrawler:\u001b[39m Finished! Total 0 requests: 0 succeeded, 0 failed.\u001b[90m {\"terminal\":true}\u001b[39m\n",
      "\u001b[36m[apify.facebook-search-scraper runId:JiAIbWni8LfEjHWpr]\u001b[0m -> Status: RUNNING, Message: Finished! Total 0 requests: 0 succeeded, 0 failed.\n",
      "\u001b[36m[apify.facebook-search-scraper runId:JiAIbWni8LfEjHWpr]\u001b[0m -> 2025-06-20T18:03:36.790Z \u001b[32mINFO\u001b[39m  *** DONE ***\n"
     ]
    },
    {
     "name": "stdout",
     "output_type": "stream",
     "text": [
      "🔍 Looking up 'Nitin Austin Realtor' on Facebook...\n"
     ]
    },
    {
     "name": "stderr",
     "output_type": "stream",
     "text": [
      "\u001b[36m[apify.facebook-search-scraper runId:CJt7tqo8vLuVfgKqb]\u001b[0m -> Status: RUNNING, Message: \n",
      "\u001b[36m[apify.facebook-search-scraper runId:CJt7tqo8vLuVfgKqb]\u001b[0m -> 2025-06-20T18:03:44.609Z ACTOR: Pulling Docker image of build Zb454ZPJ6q5DPla0h from registry.\n",
      "\u001b[36m[apify.facebook-search-scraper runId:CJt7tqo8vLuVfgKqb]\u001b[0m -> 2025-06-20T18:03:44.611Z ACTOR: Creating Docker container.\n",
      "\u001b[36m[apify.facebook-search-scraper runId:CJt7tqo8vLuVfgKqb]\u001b[0m -> 2025-06-20T18:03:44.708Z ACTOR: Starting Docker container.\n",
      "\u001b[36m[apify.facebook-search-scraper runId:CJt7tqo8vLuVfgKqb]\u001b[0m -> 2025-06-20T18:03:46.502Z \u001b[32mINFO\u001b[39m  System info\u001b[90m {\"apifyVersion\":\"3.2.6\",\"apifyClientVersion\":\"2.9.4\",\"crawleeVersion\":\"3.12.1\",\"osType\":\"Linux\",\"nodeVersion\":\"v20.19.2\"}\u001b[39m\n",
      "\u001b[36m[apify.facebook-search-scraper runId:CJt7tqo8vLuVfgKqb]\u001b[0m -> 2025-06-20T18:03:46.811Z \u001b[32mINFO\u001b[39m  Results Limit 20\n",
      "\u001b[36m[apify.facebook-search-scraper runId:CJt7tqo8vLuVfgKqb]\u001b[0m -> 2025-06-20T18:03:47.507Z \u001b[32mINFO\u001b[39m \u001b[33m CheerioCrawler:\u001b[39m Using the old RequestQueue implementation without request locking.\n",
      "\u001b[36m[apify.facebook-search-scraper runId:CJt7tqo8vLuVfgKqb]\u001b[0m -> 2025-06-20T18:03:47.741Z \u001b[32mINFO\u001b[39m \u001b[33m CheerioCrawler:\u001b[39m Starting the crawler.\n",
      "\u001b[36m[apify.facebook-search-scraper runId:CJt7tqo8vLuVfgKqb]\u001b[0m -> 2025-06-20T18:03:47.833Z \u001b[32mINFO\u001b[39m \u001b[33m CheerioCrawler:\u001b[39m All requests from the queue have been processed, the crawler will shut down.\n",
      "\u001b[36m[apify.facebook-search-scraper runId:CJt7tqo8vLuVfgKqb]\u001b[0m -> 2025-06-20T18:03:47.959Z \u001b[32mINFO\u001b[39m \u001b[33m CheerioCrawler:\u001b[39m Final request statistics:\u001b[90m {\"requestsFinished\":0,\"requestsFailed\":0,\"retryHistogram\":[],\"requestAvgFailedDurationMillis\":null,\"requestAvgFinishedDurationMillis\":null,\"requestsFinishedPerMinute\":0,\"requestsFailedPerMinute\":0,\"requestTotalDurationMillis\":0,\"requestsTotal\":0,\"crawlerRuntimeMillis\":453}\u001b[39m\n",
      "\u001b[36m[apify.facebook-search-scraper runId:CJt7tqo8vLuVfgKqb]\u001b[0m -> 2025-06-20T18:03:47.961Z \u001b[32mINFO\u001b[39m \u001b[33m CheerioCrawler:\u001b[39m Finished! Total 0 requests: 0 succeeded, 0 failed.\u001b[90m {\"terminal\":true}\u001b[39m\n",
      "\u001b[36m[apify.facebook-search-scraper runId:CJt7tqo8vLuVfgKqb]\u001b[0m -> 2025-06-20T18:03:48.099Z \u001b[32mINFO\u001b[39m  *** DONE ***\n",
      "\u001b[36m[apify.facebook-search-scraper runId:CJt7tqo8vLuVfgKqb]\u001b[0m -> Status: SUCCEEDED, Message: Finished! Total 0 requests: 0 succeeded, 0 failed.\n"
     ]
    },
    {
     "name": "stdout",
     "output_type": "stream",
     "text": [
      "🔍 Looking up 'Painter Marketing' on Facebook...\n"
     ]
    },
    {
     "name": "stderr",
     "output_type": "stream",
     "text": [
      "\u001b[36m[apify.facebook-search-scraper runId:yKSMFQevLk2Kvhlwb]\u001b[0m -> Status: RUNNING, Message: \n",
      "\u001b[36m[apify.facebook-search-scraper runId:yKSMFQevLk2Kvhlwb]\u001b[0m -> 2025-06-20T18:03:55.905Z ACTOR: Pulling Docker image of build Zb454ZPJ6q5DPla0h from registry.\n",
      "\u001b[36m[apify.facebook-search-scraper runId:yKSMFQevLk2Kvhlwb]\u001b[0m -> 2025-06-20T18:03:55.907Z ACTOR: Creating Docker container.\n",
      "\u001b[36m[apify.facebook-search-scraper runId:yKSMFQevLk2Kvhlwb]\u001b[0m -> 2025-06-20T18:03:56.019Z ACTOR: Starting Docker container.\n",
      "\u001b[36m[apify.facebook-search-scraper runId:yKSMFQevLk2Kvhlwb]\u001b[0m -> 2025-06-20T18:03:57.599Z \u001b[32mINFO\u001b[39m  System info\u001b[90m {\"apifyVersion\":\"3.2.6\",\"apifyClientVersion\":\"2.9.4\",\"crawleeVersion\":\"3.12.1\",\"osType\":\"Linux\",\"nodeVersion\":\"v20.19.2\"}\u001b[39m\n",
      "\u001b[36m[apify.facebook-search-scraper runId:yKSMFQevLk2Kvhlwb]\u001b[0m -> 2025-06-20T18:03:57.685Z \u001b[32mINFO\u001b[39m  Results Limit 20\n",
      "\u001b[36m[apify.facebook-search-scraper runId:yKSMFQevLk2Kvhlwb]\u001b[0m -> 2025-06-20T18:03:58.316Z \u001b[32mINFO\u001b[39m \u001b[33m CheerioCrawler:\u001b[39m Using the old RequestQueue implementation without request locking.\n",
      "\u001b[36m[apify.facebook-search-scraper runId:yKSMFQevLk2Kvhlwb]\u001b[0m -> 2025-06-20T18:03:58.428Z \u001b[32mINFO\u001b[39m \u001b[33m CheerioCrawler:\u001b[39m Starting the crawler.\n",
      "\u001b[36m[apify.facebook-search-scraper runId:yKSMFQevLk2Kvhlwb]\u001b[0m -> 2025-06-20T18:03:58.525Z \u001b[32mINFO\u001b[39m \u001b[33m CheerioCrawler:\u001b[39m All requests from the queue have been processed, the crawler will shut down.\n",
      "\u001b[36m[apify.facebook-search-scraper runId:yKSMFQevLk2Kvhlwb]\u001b[0m -> 2025-06-20T18:03:58.595Z \u001b[32mINFO\u001b[39m \u001b[33m CheerioCrawler:\u001b[39m Final request statistics:\u001b[90m {\"requestsFinished\":0,\"requestsFailed\":0,\"retryHistogram\":[],\"requestAvgFailedDurationMillis\":null,\"requestAvgFinishedDurationMillis\":null,\"requestsFinishedPerMinute\":0,\"requestsFailedPerMinute\":0,\"requestTotalDurationMillis\":0,\"requestsTotal\":0,\"crawlerRuntimeMillis\":279}\u001b[39m\n",
      "\u001b[36m[apify.facebook-search-scraper runId:yKSMFQevLk2Kvhlwb]\u001b[0m -> Status: RUNNING, Message: Finished! Total 0 requests: 0 succeeded, 0 failed.\n",
      "\u001b[36m[apify.facebook-search-scraper runId:yKSMFQevLk2Kvhlwb]\u001b[0m -> 2025-06-20T18:03:58.597Z \u001b[32mINFO\u001b[39m \u001b[33m CheerioCrawler:\u001b[39m Finished! Total 0 requests: 0 succeeded, 0 failed.\u001b[90m {\"terminal\":true}\u001b[39m\n",
      "\u001b[36m[apify.facebook-search-scraper runId:yKSMFQevLk2Kvhlwb]\u001b[0m -> 2025-06-20T18:03:58.721Z \u001b[32mINFO\u001b[39m  *** DONE ***\n"
     ]
    },
    {
     "name": "stdout",
     "output_type": "stream",
     "text": [
      "🔍 Looking up 'Korean Skincare Reviews' on Facebook...\n"
     ]
    },
    {
     "name": "stderr",
     "output_type": "stream",
     "text": [
      "\u001b[36m[apify.facebook-search-scraper runId:53lJ4GtQGf7AAlrOK]\u001b[0m -> Status: RUNNING, Message: \n",
      "\u001b[36m[apify.facebook-search-scraper runId:53lJ4GtQGf7AAlrOK]\u001b[0m -> 2025-06-20T18:04:06.450Z ACTOR: Pulling Docker image of build Zb454ZPJ6q5DPla0h from registry.\n",
      "\u001b[36m[apify.facebook-search-scraper runId:53lJ4GtQGf7AAlrOK]\u001b[0m -> 2025-06-20T18:04:06.452Z ACTOR: Creating Docker container.\n",
      "\u001b[36m[apify.facebook-search-scraper runId:53lJ4GtQGf7AAlrOK]\u001b[0m -> 2025-06-20T18:04:07.291Z ACTOR: Starting Docker container.\n",
      "\u001b[36m[apify.facebook-search-scraper runId:53lJ4GtQGf7AAlrOK]\u001b[0m -> 2025-06-20T18:04:09.377Z \u001b[32mINFO\u001b[39m  System info\u001b[90m {\"apifyVersion\":\"3.2.6\",\"apifyClientVersion\":\"2.9.4\",\"crawleeVersion\":\"3.12.1\",\"osType\":\"Linux\",\"nodeVersion\":\"v20.19.2\"}\u001b[39m\n",
      "\u001b[36m[apify.facebook-search-scraper runId:53lJ4GtQGf7AAlrOK]\u001b[0m -> 2025-06-20T18:04:09.486Z \u001b[32mINFO\u001b[39m  Results Limit 20\n",
      "\u001b[36m[apify.facebook-search-scraper runId:53lJ4GtQGf7AAlrOK]\u001b[0m -> 2025-06-20T18:04:10.111Z \u001b[32mINFO\u001b[39m \u001b[33m CheerioCrawler:\u001b[39m Using the old RequestQueue implementation without request locking.\n",
      "\u001b[36m[apify.facebook-search-scraper runId:53lJ4GtQGf7AAlrOK]\u001b[0m -> 2025-06-20T18:04:10.223Z \u001b[32mINFO\u001b[39m \u001b[33m CheerioCrawler:\u001b[39m Starting the crawler.\n",
      "\u001b[36m[apify.facebook-search-scraper runId:53lJ4GtQGf7AAlrOK]\u001b[0m -> 2025-06-20T18:04:10.305Z \u001b[32mINFO\u001b[39m \u001b[33m CheerioCrawler:\u001b[39m All requests from the queue have been processed, the crawler will shut down.\n",
      "\u001b[36m[apify.facebook-search-scraper runId:53lJ4GtQGf7AAlrOK]\u001b[0m -> 2025-06-20T18:04:10.398Z \u001b[32mINFO\u001b[39m \u001b[33m CheerioCrawler:\u001b[39m Final request statistics:\u001b[90m {\"requestsFinished\":0,\"requestsFailed\":0,\"retryHistogram\":[],\"requestAvgFailedDurationMillis\":null,\"requestAvgFinishedDurationMillis\":null,\"requestsFinishedPerMinute\":0,\"requestsFailedPerMinute\":0,\"requestTotalDurationMillis\":0,\"requestsTotal\":0,\"crawlerRuntimeMillis\":288}\u001b[39m\n",
      "\u001b[36m[apify.facebook-search-scraper runId:53lJ4GtQGf7AAlrOK]\u001b[0m -> Status: RUNNING, Message: Finished! Total 0 requests: 0 succeeded, 0 failed.\n",
      "\u001b[36m[apify.facebook-search-scraper runId:53lJ4GtQGf7AAlrOK]\u001b[0m -> 2025-06-20T18:04:10.400Z \u001b[32mINFO\u001b[39m \u001b[33m CheerioCrawler:\u001b[39m Finished! Total 0 requests: 0 succeeded, 0 failed.\u001b[90m {\"terminal\":true}\u001b[39m\n",
      "\u001b[36m[apify.facebook-search-scraper runId:53lJ4GtQGf7AAlrOK]\u001b[0m -> 2025-06-20T18:04:10.548Z \u001b[32mINFO\u001b[39m  *** DONE ***\n"
     ]
    },
    {
     "name": "stdout",
     "output_type": "stream",
     "text": [
      "🔍 Looking up 'AtlaGrowth' on Facebook...\n"
     ]
    },
    {
     "name": "stderr",
     "output_type": "stream",
     "text": [
      "\u001b[36m[apify.facebook-search-scraper runId:UjA87FAeXv4vNYH7Q]\u001b[0m -> Status: RUNNING, Message: \n",
      "\u001b[36m[apify.facebook-search-scraper runId:UjA87FAeXv4vNYH7Q]\u001b[0m -> 2025-06-20T18:04:18.277Z ACTOR: Pulling Docker image of build Zb454ZPJ6q5DPla0h from registry.\n",
      "\u001b[36m[apify.facebook-search-scraper runId:UjA87FAeXv4vNYH7Q]\u001b[0m -> 2025-06-20T18:04:18.278Z ACTOR: Creating Docker container.\n",
      "\u001b[36m[apify.facebook-search-scraper runId:UjA87FAeXv4vNYH7Q]\u001b[0m -> 2025-06-20T18:04:18.326Z ACTOR: Starting Docker container.\n",
      "\u001b[36m[apify.facebook-search-scraper runId:UjA87FAeXv4vNYH7Q]\u001b[0m -> 2025-06-20T18:04:20.368Z \u001b[32mINFO\u001b[39m  System info\u001b[90m {\"apifyVersion\":\"3.2.6\",\"apifyClientVersion\":\"2.9.4\",\"crawleeVersion\":\"3.12.1\",\"osType\":\"Linux\",\"nodeVersion\":\"v20.19.2\"}\u001b[39m\n",
      "\u001b[36m[apify.facebook-search-scraper runId:UjA87FAeXv4vNYH7Q]\u001b[0m -> 2025-06-20T18:04:20.474Z \u001b[32mINFO\u001b[39m  Results Limit 20\n",
      "\u001b[36m[apify.facebook-search-scraper runId:UjA87FAeXv4vNYH7Q]\u001b[0m -> 2025-06-20T18:04:21.078Z \u001b[32mINFO\u001b[39m \u001b[33m CheerioCrawler:\u001b[39m Using the old RequestQueue implementation without request locking.\n",
      "\u001b[36m[apify.facebook-search-scraper runId:UjA87FAeXv4vNYH7Q]\u001b[0m -> 2025-06-20T18:04:21.198Z \u001b[32mINFO\u001b[39m \u001b[33m CheerioCrawler:\u001b[39m Starting the crawler.\n",
      "\u001b[36m[apify.facebook-search-scraper runId:UjA87FAeXv4vNYH7Q]\u001b[0m -> 2025-06-20T18:04:21.335Z \u001b[32mINFO\u001b[39m \u001b[33m CheerioCrawler:\u001b[39m All requests from the queue have been processed, the crawler will shut down.\n",
      "\u001b[36m[apify.facebook-search-scraper runId:UjA87FAeXv4vNYH7Q]\u001b[0m -> 2025-06-20T18:04:21.408Z \u001b[32mINFO\u001b[39m \u001b[33m CheerioCrawler:\u001b[39m Final request statistics:\u001b[90m {\"requestsFinished\":0,\"requestsFailed\":0,\"retryHistogram\":[],\"requestAvgFailedDurationMillis\":null,\"requestAvgFinishedDurationMillis\":null,\"requestsFinishedPerMinute\":0,\"requestsFailedPerMinute\":0,\"requestTotalDurationMillis\":0,\"requestsTotal\":0,\"crawlerRuntimeMillis\":331}\u001b[39m\n",
      "\u001b[36m[apify.facebook-search-scraper runId:UjA87FAeXv4vNYH7Q]\u001b[0m -> 2025-06-20T18:04:21.409Z \u001b[32mINFO\u001b[39m \u001b[33m CheerioCrawler:\u001b[39m Finished! Total 0 requests: 0 succeeded, 0 failed.\u001b[90m {\"terminal\":true}\u001b[39m\n",
      "\u001b[36m[apify.facebook-search-scraper runId:UjA87FAeXv4vNYH7Q]\u001b[0m -> 2025-06-20T18:04:21.558Z \u001b[32mINFO\u001b[39m  *** DONE ***\n",
      "\u001b[36m[apify.facebook-search-scraper runId:UjA87FAeXv4vNYH7Q]\u001b[0m -> Status: SUCCEEDED, Message: Finished! Total 0 requests: 0 succeeded, 0 failed.\n"
     ]
    },
    {
     "name": "stdout",
     "output_type": "stream",
     "text": [
      "🔍 Looking up 'IRents.Co : Party Rental Marketing Strategies' on Facebook...\n"
     ]
    },
    {
     "name": "stderr",
     "output_type": "stream",
     "text": [
      "\u001b[36m[apify.facebook-search-scraper runId:rf6zIrciDdbNgdix6]\u001b[0m -> Status: RUNNING, Message: \n",
      "\u001b[36m[apify.facebook-search-scraper runId:rf6zIrciDdbNgdix6]\u001b[0m -> 2025-06-20T18:04:29.557Z ACTOR: Pulling Docker image of build Zb454ZPJ6q5DPla0h from registry.\n",
      "\u001b[36m[apify.facebook-search-scraper runId:rf6zIrciDdbNgdix6]\u001b[0m -> 2025-06-20T18:04:29.559Z ACTOR: Creating Docker container.\n",
      "\u001b[36m[apify.facebook-search-scraper runId:rf6zIrciDdbNgdix6]\u001b[0m -> 2025-06-20T18:04:29.650Z ACTOR: Starting Docker container.\n",
      "\u001b[36m[apify.facebook-search-scraper runId:rf6zIrciDdbNgdix6]\u001b[0m -> 2025-06-20T18:04:31.057Z \u001b[32mINFO\u001b[39m  System info\u001b[90m {\"apifyVersion\":\"3.2.6\",\"apifyClientVersion\":\"2.9.4\",\"crawleeVersion\":\"3.12.1\",\"osType\":\"Linux\",\"nodeVersion\":\"v20.19.2\"}\u001b[39m\n",
      "\u001b[36m[apify.facebook-search-scraper runId:rf6zIrciDdbNgdix6]\u001b[0m -> 2025-06-20T18:04:31.147Z \u001b[32mINFO\u001b[39m  Results Limit 20\n",
      "\u001b[36m[apify.facebook-search-scraper runId:rf6zIrciDdbNgdix6]\u001b[0m -> 2025-06-20T18:04:31.766Z \u001b[32mINFO\u001b[39m \u001b[33m CheerioCrawler:\u001b[39m Using the old RequestQueue implementation without request locking.\n",
      "\u001b[36m[apify.facebook-search-scraper runId:rf6zIrciDdbNgdix6]\u001b[0m -> 2025-06-20T18:04:31.889Z \u001b[32mINFO\u001b[39m \u001b[33m CheerioCrawler:\u001b[39m Starting the crawler.\n",
      "\u001b[36m[apify.facebook-search-scraper runId:rf6zIrciDdbNgdix6]\u001b[0m -> 2025-06-20T18:04:32.032Z \u001b[32mINFO\u001b[39m \u001b[33m CheerioCrawler:\u001b[39m All requests from the queue have been processed, the crawler will shut down.\n",
      "\u001b[36m[apify.facebook-search-scraper runId:rf6zIrciDdbNgdix6]\u001b[0m -> 2025-06-20T18:04:32.199Z \u001b[32mINFO\u001b[39m \u001b[33m CheerioCrawler:\u001b[39m Final request statistics:\u001b[90m {\"requestsFinished\":0,\"requestsFailed\":0,\"retryHistogram\":[],\"requestAvgFailedDurationMillis\":null,\"requestAvgFinishedDurationMillis\":null,\"requestsFinishedPerMinute\":0,\"requestsFailedPerMinute\":0,\"requestTotalDurationMillis\":0,\"requestsTotal\":0,\"crawlerRuntimeMillis\":434}\u001b[39m\n",
      "\u001b[36m[apify.facebook-search-scraper runId:rf6zIrciDdbNgdix6]\u001b[0m -> Status: RUNNING, Message: Finished! Total 0 requests: 0 succeeded, 0 failed.\n",
      "\u001b[36m[apify.facebook-search-scraper runId:rf6zIrciDdbNgdix6]\u001b[0m -> 2025-06-20T18:04:32.202Z \u001b[32mINFO\u001b[39m \u001b[33m CheerioCrawler:\u001b[39m Finished! Total 0 requests: 0 succeeded, 0 failed.\u001b[90m {\"terminal\":true}\u001b[39m\n",
      "\u001b[36m[apify.facebook-search-scraper runId:rf6zIrciDdbNgdix6]\u001b[0m -> 2025-06-20T18:04:32.330Z \u001b[32mINFO\u001b[39m  *** DONE ***\n"
     ]
    },
    {
     "name": "stdout",
     "output_type": "stream",
     "text": [
      "🔍 Looking up 'Marketing Digital Andres Mora' on Facebook...\n"
     ]
    },
    {
     "name": "stderr",
     "output_type": "stream",
     "text": [
      "\u001b[36m[apify.facebook-search-scraper runId:dfSBcSyzQzJxLiiTe]\u001b[0m -> Status: RUNNING, Message: \n",
      "\u001b[36m[apify.facebook-search-scraper runId:dfSBcSyzQzJxLiiTe]\u001b[0m -> 2025-06-20T18:04:40.109Z ACTOR: Pulling Docker image of build Zb454ZPJ6q5DPla0h from registry.\n",
      "\u001b[36m[apify.facebook-search-scraper runId:dfSBcSyzQzJxLiiTe]\u001b[0m -> 2025-06-20T18:04:40.110Z ACTOR: Creating Docker container.\n",
      "\u001b[36m[apify.facebook-search-scraper runId:dfSBcSyzQzJxLiiTe]\u001b[0m -> 2025-06-20T18:04:40.273Z ACTOR: Starting Docker container.\n",
      "\u001b[36m[apify.facebook-search-scraper runId:dfSBcSyzQzJxLiiTe]\u001b[0m -> 2025-06-20T18:04:41.531Z \u001b[32mINFO\u001b[39m  System info\u001b[90m {\"apifyVersion\":\"3.2.6\",\"apifyClientVersion\":\"2.9.4\",\"crawleeVersion\":\"3.12.1\",\"osType\":\"Linux\",\"nodeVersion\":\"v20.19.2\"}\u001b[39m\n",
      "\u001b[36m[apify.facebook-search-scraper runId:dfSBcSyzQzJxLiiTe]\u001b[0m -> 2025-06-20T18:04:41.613Z \u001b[32mINFO\u001b[39m  Results Limit 20\n",
      "\u001b[36m[apify.facebook-search-scraper runId:dfSBcSyzQzJxLiiTe]\u001b[0m -> 2025-06-20T18:04:42.153Z \u001b[32mINFO\u001b[39m \u001b[33m CheerioCrawler:\u001b[39m Using the old RequestQueue implementation without request locking.\n",
      "\u001b[36m[apify.facebook-search-scraper runId:dfSBcSyzQzJxLiiTe]\u001b[0m -> 2025-06-20T18:04:42.280Z \u001b[32mINFO\u001b[39m \u001b[33m CheerioCrawler:\u001b[39m Starting the crawler.\n",
      "\u001b[36m[apify.facebook-search-scraper runId:dfSBcSyzQzJxLiiTe]\u001b[0m -> 2025-06-20T18:04:42.353Z \u001b[32mINFO\u001b[39m \u001b[33m CheerioCrawler:\u001b[39m All requests from the queue have been processed, the crawler will shut down.\n",
      "\u001b[36m[apify.facebook-search-scraper runId:dfSBcSyzQzJxLiiTe]\u001b[0m -> 2025-06-20T18:04:42.427Z \u001b[32mINFO\u001b[39m \u001b[33m CheerioCrawler:\u001b[39m Final request statistics:\u001b[90m {\"requestsFinished\":0,\"requestsFailed\":0,\"retryHistogram\":[],\"requestAvgFailedDurationMillis\":null,\"requestAvgFinishedDurationMillis\":null,\"requestsFinishedPerMinute\":0,\"requestsFailedPerMinute\":0,\"requestTotalDurationMillis\":0,\"requestsTotal\":0,\"crawlerRuntimeMillis\":275}\u001b[39m\n",
      "\u001b[36m[apify.facebook-search-scraper runId:dfSBcSyzQzJxLiiTe]\u001b[0m -> 2025-06-20T18:04:42.428Z \u001b[32mINFO\u001b[39m \u001b[33m CheerioCrawler:\u001b[39m Finished! Total 0 requests: 0 succeeded, 0 failed.\u001b[90m {\"terminal\":true}\u001b[39m\n",
      "\u001b[36m[apify.facebook-search-scraper runId:dfSBcSyzQzJxLiiTe]\u001b[0m -> 2025-06-20T18:04:42.536Z \u001b[32mINFO\u001b[39m  *** DONE ***\n",
      "\u001b[36m[apify.facebook-search-scraper runId:dfSBcSyzQzJxLiiTe]\u001b[0m -> Status: SUCCEEDED, Message: Finished! Total 0 requests: 0 succeeded, 0 failed.\n"
     ]
    },
    {
     "name": "stdout",
     "output_type": "stream",
     "text": [
      "🔍 Looking up 'Lindsay Neary & Kat Pontzer Team' on Facebook...\n"
     ]
    },
    {
     "name": "stderr",
     "output_type": "stream",
     "text": [
      "\u001b[36m[apify.facebook-search-scraper runId:0r16xuzPUIOZ1hxZz]\u001b[0m -> Status: RUNNING, Message: \n",
      "\u001b[36m[apify.facebook-search-scraper runId:0r16xuzPUIOZ1hxZz]\u001b[0m -> 2025-06-20T18:04:50.404Z ACTOR: Pulling Docker image of build Zb454ZPJ6q5DPla0h from registry.\n",
      "\u001b[36m[apify.facebook-search-scraper runId:0r16xuzPUIOZ1hxZz]\u001b[0m -> 2025-06-20T18:04:50.405Z ACTOR: Creating Docker container.\n",
      "\u001b[36m[apify.facebook-search-scraper runId:0r16xuzPUIOZ1hxZz]\u001b[0m -> 2025-06-20T18:04:50.446Z ACTOR: Starting Docker container.\n",
      "\u001b[36m[apify.facebook-search-scraper runId:0r16xuzPUIOZ1hxZz]\u001b[0m -> 2025-06-20T18:04:51.866Z \u001b[32mINFO\u001b[39m  System info\u001b[90m {\"apifyVersion\":\"3.2.6\",\"apifyClientVersion\":\"2.9.4\",\"crawleeVersion\":\"3.12.1\",\"osType\":\"Linux\",\"nodeVersion\":\"v20.19.2\"}\u001b[39m\n",
      "\u001b[36m[apify.facebook-search-scraper runId:0r16xuzPUIOZ1hxZz]\u001b[0m -> 2025-06-20T18:04:52.016Z \u001b[32mINFO\u001b[39m  Results Limit 20\n",
      "\u001b[36m[apify.facebook-search-scraper runId:0r16xuzPUIOZ1hxZz]\u001b[0m -> 2025-06-20T18:04:52.577Z \u001b[32mINFO\u001b[39m \u001b[33m CheerioCrawler:\u001b[39m Using the old RequestQueue implementation without request locking.\n",
      "\u001b[36m[apify.facebook-search-scraper runId:0r16xuzPUIOZ1hxZz]\u001b[0m -> 2025-06-20T18:04:52.695Z \u001b[32mINFO\u001b[39m \u001b[33m CheerioCrawler:\u001b[39m Starting the crawler.\n",
      "\u001b[36m[apify.facebook-search-scraper runId:0r16xuzPUIOZ1hxZz]\u001b[0m -> 2025-06-20T18:04:52.785Z \u001b[32mINFO\u001b[39m \u001b[33m CheerioCrawler:\u001b[39m All requests from the queue have been processed, the crawler will shut down.\n",
      "\u001b[36m[apify.facebook-search-scraper runId:0r16xuzPUIOZ1hxZz]\u001b[0m -> 2025-06-20T18:04:52.899Z \u001b[32mINFO\u001b[39m \u001b[33m CheerioCrawler:\u001b[39m Final request statistics:\u001b[90m {\"requestsFinished\":0,\"requestsFailed\":0,\"retryHistogram\":[],\"requestAvgFailedDurationMillis\":null,\"requestAvgFinishedDurationMillis\":null,\"requestsFinishedPerMinute\":0,\"requestsFailedPerMinute\":0,\"requestTotalDurationMillis\":0,\"requestsTotal\":0,\"crawlerRuntimeMillis\":323}\u001b[39m\n",
      "\u001b[36m[apify.facebook-search-scraper runId:0r16xuzPUIOZ1hxZz]\u001b[0m -> 2025-06-20T18:04:52.901Z \u001b[32mINFO\u001b[39m \u001b[33m CheerioCrawler:\u001b[39m Finished! Total 0 requests: 0 succeeded, 0 failed.\u001b[90m {\"terminal\":true}\u001b[39m\n",
      "\u001b[36m[apify.facebook-search-scraper runId:0r16xuzPUIOZ1hxZz]\u001b[0m -> Status: RUNNING, Message: Finished! Total 0 requests: 0 succeeded, 0 failed.\n",
      "\u001b[36m[apify.facebook-search-scraper runId:0r16xuzPUIOZ1hxZz]\u001b[0m -> 2025-06-20T18:04:53.061Z \u001b[32mINFO\u001b[39m  *** DONE ***\n"
     ]
    },
    {
     "name": "stdout",
     "output_type": "stream",
     "text": [
      "🔍 Looking up '17 Hands Marketing' on Facebook...\n"
     ]
    },
    {
     "name": "stderr",
     "output_type": "stream",
     "text": [
      "\u001b[36m[apify.facebook-search-scraper runId:yvQ436R4sBCyjJIAH]\u001b[0m -> Status: RUNNING, Message: \n",
      "\u001b[36m[apify.facebook-search-scraper runId:yvQ436R4sBCyjJIAH]\u001b[0m -> 2025-06-20T18:05:00.935Z ACTOR: Pulling Docker image of build Zb454ZPJ6q5DPla0h from registry.\n",
      "\u001b[36m[apify.facebook-search-scraper runId:yvQ436R4sBCyjJIAH]\u001b[0m -> 2025-06-20T18:05:00.936Z ACTOR: Creating Docker container.\n",
      "\u001b[36m[apify.facebook-search-scraper runId:yvQ436R4sBCyjJIAH]\u001b[0m -> 2025-06-20T18:05:01.010Z ACTOR: Starting Docker container.\n",
      "\u001b[36m[apify.facebook-search-scraper runId:yvQ436R4sBCyjJIAH]\u001b[0m -> 2025-06-20T18:05:02.495Z \u001b[32mINFO\u001b[39m  System info\u001b[90m {\"apifyVersion\":\"3.2.6\",\"apifyClientVersion\":\"2.9.4\",\"crawleeVersion\":\"3.12.1\",\"osType\":\"Linux\",\"nodeVersion\":\"v20.19.2\"}\u001b[39m\n",
      "\u001b[36m[apify.facebook-search-scraper runId:yvQ436R4sBCyjJIAH]\u001b[0m -> 2025-06-20T18:05:02.587Z \u001b[32mINFO\u001b[39m  Results Limit 20\n",
      "\u001b[36m[apify.facebook-search-scraper runId:yvQ436R4sBCyjJIAH]\u001b[0m -> 2025-06-20T18:05:03.167Z \u001b[32mINFO\u001b[39m \u001b[33m CheerioCrawler:\u001b[39m Using the old RequestQueue implementation without request locking.\n",
      "\u001b[36m[apify.facebook-search-scraper runId:yvQ436R4sBCyjJIAH]\u001b[0m -> 2025-06-20T18:05:03.309Z \u001b[32mINFO\u001b[39m \u001b[33m CheerioCrawler:\u001b[39m Starting the crawler.\n",
      "\u001b[36m[apify.facebook-search-scraper runId:yvQ436R4sBCyjJIAH]\u001b[0m -> 2025-06-20T18:05:03.412Z \u001b[32mINFO\u001b[39m \u001b[33m CheerioCrawler:\u001b[39m All requests from the queue have been processed, the crawler will shut down.\n",
      "\u001b[36m[apify.facebook-search-scraper runId:yvQ436R4sBCyjJIAH]\u001b[0m -> 2025-06-20T18:05:03.594Z \u001b[32mINFO\u001b[39m \u001b[33m CheerioCrawler:\u001b[39m Final request statistics:\u001b[90m {\"requestsFinished\":0,\"requestsFailed\":0,\"retryHistogram\":[],\"requestAvgFailedDurationMillis\":null,\"requestAvgFinishedDurationMillis\":null,\"requestsFinishedPerMinute\":0,\"requestsFailedPerMinute\":0,\"requestTotalDurationMillis\":0,\"requestsTotal\":0,\"crawlerRuntimeMillis\":428}\u001b[39m\n",
      "\u001b[36m[apify.facebook-search-scraper runId:yvQ436R4sBCyjJIAH]\u001b[0m -> Status: RUNNING, Message: Finished! Total 0 requests: 0 succeeded, 0 failed.\n",
      "\u001b[36m[apify.facebook-search-scraper runId:yvQ436R4sBCyjJIAH]\u001b[0m -> 2025-06-20T18:05:03.595Z \u001b[32mINFO\u001b[39m \u001b[33m CheerioCrawler:\u001b[39m Finished! Total 0 requests: 0 succeeded, 0 failed.\u001b[90m {\"terminal\":true}\u001b[39m\n",
      "\u001b[36m[apify.facebook-search-scraper runId:yvQ436R4sBCyjJIAH]\u001b[0m -> 2025-06-20T18:05:03.754Z \u001b[32mINFO\u001b[39m  *** DONE ***\n"
     ]
    },
    {
     "name": "stdout",
     "output_type": "stream",
     "text": [
      "🔍 Looking up 'Ryan Aquino - Marketing' on Facebook...\n"
     ]
    },
    {
     "name": "stderr",
     "output_type": "stream",
     "text": [
      "\u001b[36m[apify.facebook-search-scraper runId:lt9cD8AWsJN1ZqX8P]\u001b[0m -> Status: RUNNING, Message: \n",
      "\u001b[36m[apify.facebook-search-scraper runId:lt9cD8AWsJN1ZqX8P]\u001b[0m -> 2025-06-20T18:05:11.459Z ACTOR: Pulling Docker image of build Zb454ZPJ6q5DPla0h from registry.\n",
      "\u001b[36m[apify.facebook-search-scraper runId:lt9cD8AWsJN1ZqX8P]\u001b[0m -> 2025-06-20T18:05:11.461Z ACTOR: Creating Docker container.\n",
      "\u001b[36m[apify.facebook-search-scraper runId:lt9cD8AWsJN1ZqX8P]\u001b[0m -> 2025-06-20T18:05:11.701Z ACTOR: Starting Docker container.\n",
      "\u001b[36m[apify.facebook-search-scraper runId:lt9cD8AWsJN1ZqX8P]\u001b[0m -> 2025-06-20T18:05:14.043Z \u001b[32mINFO\u001b[39m  System info\u001b[90m {\"apifyVersion\":\"3.2.6\",\"apifyClientVersion\":\"2.9.4\",\"crawleeVersion\":\"3.12.1\",\"osType\":\"Linux\",\"nodeVersion\":\"v20.19.2\"}\u001b[39m\n",
      "\u001b[36m[apify.facebook-search-scraper runId:lt9cD8AWsJN1ZqX8P]\u001b[0m -> 2025-06-20T18:05:14.237Z \u001b[32mINFO\u001b[39m  Results Limit 20\n",
      "\u001b[36m[apify.facebook-search-scraper runId:lt9cD8AWsJN1ZqX8P]\u001b[0m -> 2025-06-20T18:05:14.951Z \u001b[32mINFO\u001b[39m \u001b[33m CheerioCrawler:\u001b[39m Using the old RequestQueue implementation without request locking.\n",
      "\u001b[36m[apify.facebook-search-scraper runId:lt9cD8AWsJN1ZqX8P]\u001b[0m -> 2025-06-20T18:05:15.142Z \u001b[32mINFO\u001b[39m \u001b[33m CheerioCrawler:\u001b[39m Starting the crawler.\n",
      "\u001b[36m[apify.facebook-search-scraper runId:lt9cD8AWsJN1ZqX8P]\u001b[0m -> 2025-06-20T18:05:15.279Z \u001b[32mINFO\u001b[39m \u001b[33m CheerioCrawler:\u001b[39m All requests from the queue have been processed, the crawler will shut down.\n",
      "\u001b[36m[apify.facebook-search-scraper runId:lt9cD8AWsJN1ZqX8P]\u001b[0m -> 2025-06-20T18:05:15.423Z \u001b[32mINFO\u001b[39m \u001b[33m CheerioCrawler:\u001b[39m Final request statistics:\u001b[90m {\"requestsFinished\":0,\"requestsFailed\":0,\"retryHistogram\":[],\"requestAvgFailedDurationMillis\":null,\"requestAvgFinishedDurationMillis\":null,\"requestsFinishedPerMinute\":0,\"requestsFailedPerMinute\":0,\"requestTotalDurationMillis\":0,\"requestsTotal\":0,\"crawlerRuntimeMillis\":472}\u001b[39m\n",
      "\u001b[36m[apify.facebook-search-scraper runId:lt9cD8AWsJN1ZqX8P]\u001b[0m -> Status: RUNNING, Message: Finished! Total 0 requests: 0 succeeded, 0 failed.\n",
      "\u001b[36m[apify.facebook-search-scraper runId:lt9cD8AWsJN1ZqX8P]\u001b[0m -> 2025-06-20T18:05:15.425Z \u001b[32mINFO\u001b[39m \u001b[33m CheerioCrawler:\u001b[39m Finished! Total 0 requests: 0 succeeded, 0 failed.\u001b[90m {\"terminal\":true}\u001b[39m\n",
      "\u001b[36m[apify.facebook-search-scraper runId:lt9cD8AWsJN1ZqX8P]\u001b[0m -> 2025-06-20T18:05:15.538Z \u001b[32mINFO\u001b[39m  *** DONE ***\n"
     ]
    },
    {
     "name": "stdout",
     "output_type": "stream",
     "text": [
      "🔍 Looking up 'HBL Studio' on Facebook...\n"
     ]
    },
    {
     "name": "stderr",
     "output_type": "stream",
     "text": [
      "\u001b[36m[apify.facebook-search-scraper runId:xhCTtDvSBevWcg4YM]\u001b[0m -> Status: RUNNING, Message: \n",
      "\u001b[36m[apify.facebook-search-scraper runId:xhCTtDvSBevWcg4YM]\u001b[0m -> 2025-06-20T18:05:23.332Z ACTOR: Pulling Docker image of build Zb454ZPJ6q5DPla0h from registry.\n",
      "\u001b[36m[apify.facebook-search-scraper runId:xhCTtDvSBevWcg4YM]\u001b[0m -> 2025-06-20T18:05:23.333Z ACTOR: Creating Docker container.\n",
      "\u001b[36m[apify.facebook-search-scraper runId:xhCTtDvSBevWcg4YM]\u001b[0m -> 2025-06-20T18:05:23.622Z ACTOR: Starting Docker container.\n",
      "\u001b[36m[apify.facebook-search-scraper runId:xhCTtDvSBevWcg4YM]\u001b[0m -> 2025-06-20T18:05:25.165Z \u001b[32mINFO\u001b[39m  System info\u001b[90m {\"apifyVersion\":\"3.2.6\",\"apifyClientVersion\":\"2.9.4\",\"crawleeVersion\":\"3.12.1\",\"osType\":\"Linux\",\"nodeVersion\":\"v20.19.2\"}\u001b[39m\n",
      "\u001b[36m[apify.facebook-search-scraper runId:xhCTtDvSBevWcg4YM]\u001b[0m -> 2025-06-20T18:05:25.267Z \u001b[32mINFO\u001b[39m  Results Limit 20\n",
      "\u001b[36m[apify.facebook-search-scraper runId:xhCTtDvSBevWcg4YM]\u001b[0m -> 2025-06-20T18:05:25.795Z \u001b[32mINFO\u001b[39m \u001b[33m CheerioCrawler:\u001b[39m Using the old RequestQueue implementation without request locking.\n",
      "\u001b[36m[apify.facebook-search-scraper runId:xhCTtDvSBevWcg4YM]\u001b[0m -> Status: RUNNING, Message: Starting the crawler.\n",
      "\u001b[36m[apify.facebook-search-scraper runId:xhCTtDvSBevWcg4YM]\u001b[0m -> 2025-06-20T18:05:25.990Z \u001b[32mINFO\u001b[39m \u001b[33m CheerioCrawler:\u001b[39m Starting the crawler.\n",
      "\u001b[36m[apify.facebook-search-scraper runId:xhCTtDvSBevWcg4YM]\u001b[0m -> 2025-06-20T18:05:26.103Z \u001b[32mINFO\u001b[39m \u001b[33m CheerioCrawler:\u001b[39m All requests from the queue have been processed, the crawler will shut down.\n",
      "\u001b[36m[apify.facebook-search-scraper runId:xhCTtDvSBevWcg4YM]\u001b[0m -> 2025-06-20T18:05:26.197Z \u001b[32mINFO\u001b[39m \u001b[33m CheerioCrawler:\u001b[39m Final request statistics:\u001b[90m {\"requestsFinished\":0,\"requestsFailed\":0,\"retryHistogram\":[],\"requestAvgFailedDurationMillis\":null,\"requestAvgFinishedDurationMillis\":null,\"requestsFinishedPerMinute\":0,\"requestsFailedPerMinute\":0,\"requestTotalDurationMillis\":0,\"requestsTotal\":0,\"crawlerRuntimeMillis\":403}\u001b[39m\n",
      "\u001b[36m[apify.facebook-search-scraper runId:xhCTtDvSBevWcg4YM]\u001b[0m -> 2025-06-20T18:05:26.199Z \u001b[32mINFO\u001b[39m \u001b[33m CheerioCrawler:\u001b[39m Finished! Total 0 requests: 0 succeeded, 0 failed.\u001b[90m {\"terminal\":true}\u001b[39m\n",
      "\u001b[36m[apify.facebook-search-scraper runId:xhCTtDvSBevWcg4YM]\u001b[0m -> 2025-06-20T18:05:26.323Z \u001b[32mINFO\u001b[39m  *** DONE ***\n",
      "\u001b[36m[apify.facebook-search-scraper runId:xhCTtDvSBevWcg4YM]\u001b[0m -> Status: SUCCEEDED, Message: Finished! Total 0 requests: 0 succeeded, 0 failed.\n"
     ]
    },
    {
     "name": "stdout",
     "output_type": "stream",
     "text": [
      "🔍 Looking up 'Brandi Davis' on Facebook...\n"
     ]
    },
    {
     "name": "stderr",
     "output_type": "stream",
     "text": [
      "\u001b[36m[apify.facebook-search-scraper runId:vHk78jwAjooYipxB7]\u001b[0m -> Status: RUNNING, Message: \n",
      "\u001b[36m[apify.facebook-search-scraper runId:vHk78jwAjooYipxB7]\u001b[0m -> 2025-06-20T18:05:34.075Z ACTOR: Pulling Docker image of build Zb454ZPJ6q5DPla0h from registry.\n",
      "\u001b[36m[apify.facebook-search-scraper runId:vHk78jwAjooYipxB7]\u001b[0m -> 2025-06-20T18:05:34.076Z ACTOR: Creating Docker container.\n",
      "\u001b[36m[apify.facebook-search-scraper runId:vHk78jwAjooYipxB7]\u001b[0m -> 2025-06-20T18:05:34.191Z ACTOR: Starting Docker container.\n",
      "\u001b[36m[apify.facebook-search-scraper runId:vHk78jwAjooYipxB7]\u001b[0m -> 2025-06-20T18:05:35.516Z \u001b[32mINFO\u001b[39m  System info\u001b[90m {\"apifyVersion\":\"3.2.6\",\"apifyClientVersion\":\"2.9.4\",\"crawleeVersion\":\"3.12.1\",\"osType\":\"Linux\",\"nodeVersion\":\"v20.19.2\"}\u001b[39m\n",
      "\u001b[36m[apify.facebook-search-scraper runId:vHk78jwAjooYipxB7]\u001b[0m -> 2025-06-20T18:05:35.620Z \u001b[32mINFO\u001b[39m  Results Limit 20\n",
      "\u001b[36m[apify.facebook-search-scraper runId:vHk78jwAjooYipxB7]\u001b[0m -> 2025-06-20T18:05:36.307Z \u001b[32mINFO\u001b[39m \u001b[33m CheerioCrawler:\u001b[39m Using the old RequestQueue implementation without request locking.\n",
      "\u001b[36m[apify.facebook-search-scraper runId:vHk78jwAjooYipxB7]\u001b[0m -> 2025-06-20T18:05:36.453Z \u001b[32mINFO\u001b[39m \u001b[33m CheerioCrawler:\u001b[39m Starting the crawler.\n",
      "\u001b[36m[apify.facebook-search-scraper runId:vHk78jwAjooYipxB7]\u001b[0m -> 2025-06-20T18:05:36.575Z \u001b[32mINFO\u001b[39m \u001b[33m CheerioCrawler:\u001b[39m All requests from the queue have been processed, the crawler will shut down.\n",
      "\u001b[36m[apify.facebook-search-scraper runId:vHk78jwAjooYipxB7]\u001b[0m -> Status: RUNNING, Message: Starting the crawler.\n",
      "\u001b[36m[apify.facebook-search-scraper runId:vHk78jwAjooYipxB7]\u001b[0m -> 2025-06-20T18:05:36.762Z \u001b[32mINFO\u001b[39m \u001b[33m CheerioCrawler:\u001b[39m Final request statistics:\u001b[90m {\"requestsFinished\":0,\"requestsFailed\":0,\"retryHistogram\":[],\"requestAvgFailedDurationMillis\":null,\"requestAvgFinishedDurationMillis\":null,\"requestsFinishedPerMinute\":0,\"requestsFailedPerMinute\":0,\"requestTotalDurationMillis\":0,\"requestsTotal\":0,\"crawlerRuntimeMillis\":455}\u001b[39m\n",
      "\u001b[36m[apify.facebook-search-scraper runId:vHk78jwAjooYipxB7]\u001b[0m -> 2025-06-20T18:05:36.763Z \u001b[32mINFO\u001b[39m \u001b[33m CheerioCrawler:\u001b[39m Finished! Total 0 requests: 0 succeeded, 0 failed.\u001b[90m {\"terminal\":true}\u001b[39m\n",
      "\u001b[36m[apify.facebook-search-scraper runId:vHk78jwAjooYipxB7]\u001b[0m -> 2025-06-20T18:05:36.942Z \u001b[32mINFO\u001b[39m  *** DONE ***\n",
      "\u001b[36m[apify.facebook-search-scraper runId:vHk78jwAjooYipxB7]\u001b[0m -> Status: SUCCEEDED, Message: Finished! Total 0 requests: 0 succeeded, 0 failed.\n"
     ]
    },
    {
     "name": "stdout",
     "output_type": "stream",
     "text": [
      "🔍 Looking up 'Sage Marketing Solutions' on Facebook...\n"
     ]
    },
    {
     "name": "stderr",
     "output_type": "stream",
     "text": [
      "\u001b[36m[apify.facebook-search-scraper runId:dOJzNQ1wjLvxfUWnc]\u001b[0m -> Status: RUNNING, Message: \n",
      "\u001b[36m[apify.facebook-search-scraper runId:dOJzNQ1wjLvxfUWnc]\u001b[0m -> 2025-06-20T18:05:44.722Z ACTOR: Pulling Docker image of build Zb454ZPJ6q5DPla0h from registry.\n",
      "\u001b[36m[apify.facebook-search-scraper runId:dOJzNQ1wjLvxfUWnc]\u001b[0m -> 2025-06-20T18:05:44.724Z ACTOR: Creating Docker container.\n",
      "\u001b[36m[apify.facebook-search-scraper runId:dOJzNQ1wjLvxfUWnc]\u001b[0m -> 2025-06-20T18:05:44.881Z ACTOR: Starting Docker container.\n",
      "\u001b[36m[apify.facebook-search-scraper runId:dOJzNQ1wjLvxfUWnc]\u001b[0m -> 2025-06-20T18:05:46.379Z \u001b[32mINFO\u001b[39m  System info\u001b[90m {\"apifyVersion\":\"3.2.6\",\"apifyClientVersion\":\"2.9.4\",\"crawleeVersion\":\"3.12.1\",\"osType\":\"Linux\",\"nodeVersion\":\"v20.19.2\"}\u001b[39m\n",
      "\u001b[36m[apify.facebook-search-scraper runId:dOJzNQ1wjLvxfUWnc]\u001b[0m -> 2025-06-20T18:05:46.567Z \u001b[32mINFO\u001b[39m  Results Limit 20\n",
      "\u001b[36m[apify.facebook-search-scraper runId:dOJzNQ1wjLvxfUWnc]\u001b[0m -> 2025-06-20T18:05:47.197Z \u001b[32mINFO\u001b[39m \u001b[33m CheerioCrawler:\u001b[39m Using the old RequestQueue implementation without request locking.\n",
      "\u001b[36m[apify.facebook-search-scraper runId:dOJzNQ1wjLvxfUWnc]\u001b[0m -> 2025-06-20T18:05:47.364Z \u001b[32mINFO\u001b[39m \u001b[33m CheerioCrawler:\u001b[39m Starting the crawler.\n",
      "\u001b[36m[apify.facebook-search-scraper runId:dOJzNQ1wjLvxfUWnc]\u001b[0m -> 2025-06-20T18:05:47.449Z \u001b[32mINFO\u001b[39m \u001b[33m CheerioCrawler:\u001b[39m All requests from the queue have been processed, the crawler will shut down.\n",
      "\u001b[36m[apify.facebook-search-scraper runId:dOJzNQ1wjLvxfUWnc]\u001b[0m -> 2025-06-20T18:05:47.512Z \u001b[32mINFO\u001b[39m \u001b[33m CheerioCrawler:\u001b[39m Final request statistics:\u001b[90m {\"requestsFinished\":0,\"requestsFailed\":0,\"retryHistogram\":[],\"requestAvgFailedDurationMillis\":null,\"requestAvgFinishedDurationMillis\":null,\"requestsFinishedPerMinute\":0,\"requestsFailedPerMinute\":0,\"requestTotalDurationMillis\":0,\"requestsTotal\":0,\"crawlerRuntimeMillis\":317}\u001b[39m\n",
      "\u001b[36m[apify.facebook-search-scraper runId:dOJzNQ1wjLvxfUWnc]\u001b[0m -> 2025-06-20T18:05:47.513Z \u001b[32mINFO\u001b[39m \u001b[33m CheerioCrawler:\u001b[39m Finished! Total 0 requests: 0 succeeded, 0 failed.\u001b[90m {\"terminal\":true}\u001b[39m\n",
      "\u001b[36m[apify.facebook-search-scraper runId:dOJzNQ1wjLvxfUWnc]\u001b[0m -> 2025-06-20T18:05:47.693Z \u001b[32mINFO\u001b[39m  *** DONE ***\n",
      "\u001b[36m[apify.facebook-search-scraper runId:dOJzNQ1wjLvxfUWnc]\u001b[0m -> Status: SUCCEEDED, Message: Finished! Total 0 requests: 0 succeeded, 0 failed.\n"
     ]
    },
    {
     "name": "stdout",
     "output_type": "stream",
     "text": [
      "🔍 Looking up 'Long Le, Realtor' on Facebook...\n"
     ]
    },
    {
     "name": "stderr",
     "output_type": "stream",
     "text": [
      "\u001b[36m[apify.facebook-search-scraper runId:qRVZPHePviGEvoevq]\u001b[0m -> Status: RUNNING, Message: \n",
      "\u001b[36m[apify.facebook-search-scraper runId:qRVZPHePviGEvoevq]\u001b[0m -> 2025-06-20T18:05:55.521Z ACTOR: Pulling Docker image of build Zb454ZPJ6q5DPla0h from registry.\n",
      "\u001b[36m[apify.facebook-search-scraper runId:qRVZPHePviGEvoevq]\u001b[0m -> 2025-06-20T18:05:55.522Z ACTOR: Creating Docker container.\n",
      "\u001b[36m[apify.facebook-search-scraper runId:qRVZPHePviGEvoevq]\u001b[0m -> 2025-06-20T18:05:55.973Z ACTOR: Starting Docker container.\n",
      "\u001b[36m[apify.facebook-search-scraper runId:qRVZPHePviGEvoevq]\u001b[0m -> 2025-06-20T18:05:57.505Z \u001b[32mINFO\u001b[39m  System info\u001b[90m {\"apifyVersion\":\"3.2.6\",\"apifyClientVersion\":\"2.9.4\",\"crawleeVersion\":\"3.12.1\",\"osType\":\"Linux\",\"nodeVersion\":\"v20.19.2\"}\u001b[39m\n",
      "\u001b[36m[apify.facebook-search-scraper runId:qRVZPHePviGEvoevq]\u001b[0m -> 2025-06-20T18:05:57.594Z \u001b[32mINFO\u001b[39m  Results Limit 20\n",
      "\u001b[36m[apify.facebook-search-scraper runId:qRVZPHePviGEvoevq]\u001b[0m -> 2025-06-20T18:05:58.285Z \u001b[32mINFO\u001b[39m \u001b[33m CheerioCrawler:\u001b[39m Using the old RequestQueue implementation without request locking.\n",
      "\u001b[36m[apify.facebook-search-scraper runId:qRVZPHePviGEvoevq]\u001b[0m -> 2025-06-20T18:05:58.504Z \u001b[32mINFO\u001b[39m \u001b[33m CheerioCrawler:\u001b[39m Starting the crawler.\n",
      "\u001b[36m[apify.facebook-search-scraper runId:qRVZPHePviGEvoevq]\u001b[0m -> 2025-06-20T18:05:58.633Z \u001b[32mINFO\u001b[39m \u001b[33m CheerioCrawler:\u001b[39m All requests from the queue have been processed, the crawler will shut down.\n",
      "\u001b[36m[apify.facebook-search-scraper runId:qRVZPHePviGEvoevq]\u001b[0m -> 2025-06-20T18:05:58.772Z \u001b[32mINFO\u001b[39m \u001b[33m CheerioCrawler:\u001b[39m Final request statistics:\u001b[90m {\"requestsFinished\":0,\"requestsFailed\":0,\"retryHistogram\":[],\"requestAvgFailedDurationMillis\":null,\"requestAvgFinishedDurationMillis\":null,\"requestsFinishedPerMinute\":0,\"requestsFailedPerMinute\":0,\"requestTotalDurationMillis\":0,\"requestsTotal\":0,\"crawlerRuntimeMillis\":488}\u001b[39m\n",
      "\u001b[36m[apify.facebook-search-scraper runId:qRVZPHePviGEvoevq]\u001b[0m -> 2025-06-20T18:05:58.773Z \u001b[32mINFO\u001b[39m \u001b[33m CheerioCrawler:\u001b[39m Finished! Total 0 requests: 0 succeeded, 0 failed.\u001b[90m {\"terminal\":true}\u001b[39m\n",
      "\u001b[36m[apify.facebook-search-scraper runId:qRVZPHePviGEvoevq]\u001b[0m -> Status: RUNNING, Message: Finished! Total 0 requests: 0 succeeded, 0 failed.\n",
      "\u001b[36m[apify.facebook-search-scraper runId:qRVZPHePviGEvoevq]\u001b[0m -> 2025-06-20T18:05:58.898Z \u001b[32mINFO\u001b[39m  *** DONE ***\n"
     ]
    },
    {
     "name": "stdout",
     "output_type": "stream",
     "text": [
      "🔍 Looking up 'Karl Lund' on Facebook...\n"
     ]
    },
    {
     "name": "stderr",
     "output_type": "stream",
     "text": [
      "\u001b[36m[apify.facebook-search-scraper runId:tb57jDhxQYNZSZeeP]\u001b[0m -> Status: RUNNING, Message: \n",
      "\u001b[36m[apify.facebook-search-scraper runId:tb57jDhxQYNZSZeeP]\u001b[0m -> 2025-06-20T18:06:07.149Z ACTOR: Pulling Docker image of build Zb454ZPJ6q5DPla0h from registry.\n",
      "\u001b[36m[apify.facebook-search-scraper runId:tb57jDhxQYNZSZeeP]\u001b[0m -> 2025-06-20T18:06:07.150Z ACTOR: Creating Docker container.\n",
      "\u001b[36m[apify.facebook-search-scraper runId:tb57jDhxQYNZSZeeP]\u001b[0m -> 2025-06-20T18:06:07.212Z ACTOR: Starting Docker container.\n",
      "\u001b[36m[apify.facebook-search-scraper runId:tb57jDhxQYNZSZeeP]\u001b[0m -> 2025-06-20T18:06:08.587Z \u001b[32mINFO\u001b[39m  System info\u001b[90m {\"apifyVersion\":\"3.2.6\",\"apifyClientVersion\":\"2.9.4\",\"crawleeVersion\":\"3.12.1\",\"osType\":\"Linux\",\"nodeVersion\":\"v20.19.2\"}\u001b[39m\n",
      "\u001b[36m[apify.facebook-search-scraper runId:tb57jDhxQYNZSZeeP]\u001b[0m -> 2025-06-20T18:06:08.685Z \u001b[32mINFO\u001b[39m  Results Limit 20\n",
      "\u001b[36m[apify.facebook-search-scraper runId:tb57jDhxQYNZSZeeP]\u001b[0m -> 2025-06-20T18:06:09.709Z \u001b[32mINFO\u001b[39m \u001b[33m CheerioCrawler:\u001b[39m Using the old RequestQueue implementation without request locking.\n",
      "\u001b[36m[apify.facebook-search-scraper runId:tb57jDhxQYNZSZeeP]\u001b[0m -> 2025-06-20T18:06:09.862Z \u001b[32mINFO\u001b[39m \u001b[33m CheerioCrawler:\u001b[39m Starting the crawler.\n",
      "\u001b[36m[apify.facebook-search-scraper runId:tb57jDhxQYNZSZeeP]\u001b[0m -> Status: RUNNING, Message: Starting the crawler.\n",
      "\u001b[36m[apify.facebook-search-scraper runId:tb57jDhxQYNZSZeeP]\u001b[0m -> 2025-06-20T18:06:09.964Z \u001b[32mINFO\u001b[39m \u001b[33m CheerioCrawler:\u001b[39m All requests from the queue have been processed, the crawler will shut down.\n",
      "\u001b[36m[apify.facebook-search-scraper runId:tb57jDhxQYNZSZeeP]\u001b[0m -> 2025-06-20T18:06:10.162Z \u001b[32mINFO\u001b[39m \u001b[33m CheerioCrawler:\u001b[39m Final request statistics:\u001b[90m {\"requestsFinished\":0,\"requestsFailed\":0,\"retryHistogram\":[],\"requestAvgFailedDurationMillis\":null,\"requestAvgFinishedDurationMillis\":null,\"requestsFinishedPerMinute\":0,\"requestsFailedPerMinute\":0,\"requestTotalDurationMillis\":0,\"requestsTotal\":0,\"crawlerRuntimeMillis\":453}\u001b[39m\n",
      "\u001b[36m[apify.facebook-search-scraper runId:tb57jDhxQYNZSZeeP]\u001b[0m -> 2025-06-20T18:06:10.172Z \u001b[32mINFO\u001b[39m \u001b[33m CheerioCrawler:\u001b[39m Finished! Total 0 requests: 0 succeeded, 0 failed.\u001b[90m {\"terminal\":true}\u001b[39m\n",
      "\u001b[36m[apify.facebook-search-scraper runId:tb57jDhxQYNZSZeeP]\u001b[0m -> 2025-06-20T18:06:10.278Z \u001b[32mINFO\u001b[39m  *** DONE ***\n",
      "\u001b[36m[apify.facebook-search-scraper runId:tb57jDhxQYNZSZeeP]\u001b[0m -> Status: SUCCEEDED, Message: Finished! Total 0 requests: 0 succeeded, 0 failed.\n"
     ]
    },
    {
     "name": "stdout",
     "output_type": "stream",
     "text": [
      "🔍 Looking up 'Steve Harrison - Publishing, Marketing & Publicity Tips' on Facebook...\n"
     ]
    },
    {
     "name": "stderr",
     "output_type": "stream",
     "text": [
      "\u001b[36m[apify.facebook-search-scraper runId:LtDSWEGzhT5H6N4vm]\u001b[0m -> Status: RUNNING, Message: \n",
      "\u001b[36m[apify.facebook-search-scraper runId:LtDSWEGzhT5H6N4vm]\u001b[0m -> 2025-06-20T18:06:17.993Z ACTOR: Pulling Docker image of build Zb454ZPJ6q5DPla0h from registry.\n",
      "\u001b[36m[apify.facebook-search-scraper runId:LtDSWEGzhT5H6N4vm]\u001b[0m -> 2025-06-20T18:06:17.995Z ACTOR: Creating Docker container.\n",
      "\u001b[36m[apify.facebook-search-scraper runId:LtDSWEGzhT5H6N4vm]\u001b[0m -> 2025-06-20T18:06:18.054Z ACTOR: Starting Docker container.\n",
      "\u001b[36m[apify.facebook-search-scraper runId:LtDSWEGzhT5H6N4vm]\u001b[0m -> 2025-06-20T18:06:19.997Z \u001b[32mINFO\u001b[39m  System info\u001b[90m {\"apifyVersion\":\"3.2.6\",\"apifyClientVersion\":\"2.9.4\",\"crawleeVersion\":\"3.12.1\",\"osType\":\"Linux\",\"nodeVersion\":\"v20.19.2\"}\u001b[39m\n",
      "\u001b[36m[apify.facebook-search-scraper runId:LtDSWEGzhT5H6N4vm]\u001b[0m -> 2025-06-20T18:06:20.141Z \u001b[32mINFO\u001b[39m  Results Limit 20\n",
      "\u001b[36m[apify.facebook-search-scraper runId:LtDSWEGzhT5H6N4vm]\u001b[0m -> 2025-06-20T18:06:20.764Z \u001b[32mINFO\u001b[39m \u001b[33m CheerioCrawler:\u001b[39m Using the old RequestQueue implementation without request locking.\n",
      "\u001b[36m[apify.facebook-search-scraper runId:LtDSWEGzhT5H6N4vm]\u001b[0m -> 2025-06-20T18:06:20.894Z \u001b[32mINFO\u001b[39m \u001b[33m CheerioCrawler:\u001b[39m Starting the crawler.\n",
      "\u001b[36m[apify.facebook-search-scraper runId:LtDSWEGzhT5H6N4vm]\u001b[0m -> 2025-06-20T18:06:20.974Z \u001b[32mINFO\u001b[39m \u001b[33m CheerioCrawler:\u001b[39m All requests from the queue have been processed, the crawler will shut down.\n",
      "\u001b[36m[apify.facebook-search-scraper runId:LtDSWEGzhT5H6N4vm]\u001b[0m -> 2025-06-20T18:06:21.083Z \u001b[32mINFO\u001b[39m \u001b[33m CheerioCrawler:\u001b[39m Final request statistics:\u001b[90m {\"requestsFinished\":0,\"requestsFailed\":0,\"retryHistogram\":[],\"requestAvgFailedDurationMillis\":null,\"requestAvgFinishedDurationMillis\":null,\"requestsFinishedPerMinute\":0,\"requestsFailedPerMinute\":0,\"requestTotalDurationMillis\":0,\"requestsTotal\":0,\"crawlerRuntimeMillis\":332}\u001b[39m\n",
      "\u001b[36m[apify.facebook-search-scraper runId:LtDSWEGzhT5H6N4vm]\u001b[0m -> 2025-06-20T18:06:21.085Z \u001b[32mINFO\u001b[39m \u001b[33m CheerioCrawler:\u001b[39m Finished! Total 0 requests: 0 succeeded, 0 failed.\u001b[90m {\"terminal\":true}\u001b[39m\n",
      "\u001b[36m[apify.facebook-search-scraper runId:LtDSWEGzhT5H6N4vm]\u001b[0m -> 2025-06-20T18:06:21.255Z \u001b[32mINFO\u001b[39m  *** DONE ***\n",
      "\u001b[36m[apify.facebook-search-scraper runId:LtDSWEGzhT5H6N4vm]\u001b[0m -> Status: SUCCEEDED, Message: Finished! Total 0 requests: 0 succeeded, 0 failed.\n"
     ]
    },
    {
     "name": "stdout",
     "output_type": "stream",
     "text": [
      "🔍 Looking up 'FRESH 2 SALT- Marine & Powersports Marketing' on Facebook...\n"
     ]
    },
    {
     "name": "stderr",
     "output_type": "stream",
     "text": [
      "\u001b[36m[apify.facebook-search-scraper runId:dDK3ixSCGPtpRk4p8]\u001b[0m -> Status: RUNNING, Message: \n",
      "\u001b[36m[apify.facebook-search-scraper runId:dDK3ixSCGPtpRk4p8]\u001b[0m -> 2025-06-20T18:06:29.043Z ACTOR: Pulling Docker image of build Zb454ZPJ6q5DPla0h from registry.\n",
      "\u001b[36m[apify.facebook-search-scraper runId:dDK3ixSCGPtpRk4p8]\u001b[0m -> 2025-06-20T18:06:29.044Z ACTOR: Creating Docker container.\n",
      "\u001b[36m[apify.facebook-search-scraper runId:dDK3ixSCGPtpRk4p8]\u001b[0m -> 2025-06-20T18:06:29.159Z ACTOR: Starting Docker container.\n",
      "\u001b[36m[apify.facebook-search-scraper runId:dDK3ixSCGPtpRk4p8]\u001b[0m -> 2025-06-20T18:06:30.428Z \u001b[32mINFO\u001b[39m  System info\u001b[90m {\"apifyVersion\":\"3.2.6\",\"apifyClientVersion\":\"2.9.4\",\"crawleeVersion\":\"3.12.1\",\"osType\":\"Linux\",\"nodeVersion\":\"v20.19.2\"}\u001b[39m\n",
      "\u001b[36m[apify.facebook-search-scraper runId:dDK3ixSCGPtpRk4p8]\u001b[0m -> 2025-06-20T18:06:30.546Z \u001b[32mINFO\u001b[39m  Results Limit 20\n",
      "\u001b[36m[apify.facebook-search-scraper runId:dDK3ixSCGPtpRk4p8]\u001b[0m -> 2025-06-20T18:06:31.069Z \u001b[32mINFO\u001b[39m \u001b[33m CheerioCrawler:\u001b[39m Using the old RequestQueue implementation without request locking.\n",
      "\u001b[36m[apify.facebook-search-scraper runId:dDK3ixSCGPtpRk4p8]\u001b[0m -> 2025-06-20T18:06:31.180Z \u001b[32mINFO\u001b[39m \u001b[33m CheerioCrawler:\u001b[39m Starting the crawler.\n",
      "\u001b[36m[apify.facebook-search-scraper runId:dDK3ixSCGPtpRk4p8]\u001b[0m -> 2025-06-20T18:06:31.271Z \u001b[32mINFO\u001b[39m \u001b[33m CheerioCrawler:\u001b[39m All requests from the queue have been processed, the crawler will shut down.\n",
      "\u001b[36m[apify.facebook-search-scraper runId:dDK3ixSCGPtpRk4p8]\u001b[0m -> 2025-06-20T18:06:31.342Z \u001b[32mINFO\u001b[39m \u001b[33m CheerioCrawler:\u001b[39m Final request statistics:\u001b[90m {\"requestsFinished\":0,\"requestsFailed\":0,\"retryHistogram\":[],\"requestAvgFailedDurationMillis\":null,\"requestAvgFinishedDurationMillis\":null,\"requestsFinishedPerMinute\":0,\"requestsFailedPerMinute\":0,\"requestTotalDurationMillis\":0,\"requestsTotal\":0,\"crawlerRuntimeMillis\":273}\u001b[39m\n",
      "\u001b[36m[apify.facebook-search-scraper runId:dDK3ixSCGPtpRk4p8]\u001b[0m -> 2025-06-20T18:06:31.343Z \u001b[32mINFO\u001b[39m \u001b[33m CheerioCrawler:\u001b[39m Finished! Total 0 requests: 0 succeeded, 0 failed.\u001b[90m {\"terminal\":true}\u001b[39m\n",
      "\u001b[36m[apify.facebook-search-scraper runId:dDK3ixSCGPtpRk4p8]\u001b[0m -> 2025-06-20T18:06:31.428Z \u001b[32mINFO\u001b[39m  *** DONE ***\n",
      "\u001b[36m[apify.facebook-search-scraper runId:dDK3ixSCGPtpRk4p8]\u001b[0m -> Status: SUCCEEDED, Message: Finished! Total 0 requests: 0 succeeded, 0 failed.\n"
     ]
    },
    {
     "name": "stdout",
     "output_type": "stream",
     "text": [
      "🔍 Looking up 'Tommy Mello' on Facebook...\n"
     ]
    },
    {
     "name": "stderr",
     "output_type": "stream",
     "text": [
      "\u001b[36m[apify.facebook-search-scraper runId:j3Siea6esPtv8hYOm]\u001b[0m -> Status: RUNNING, Message: \n",
      "\u001b[36m[apify.facebook-search-scraper runId:j3Siea6esPtv8hYOm]\u001b[0m -> 2025-06-20T18:06:39.173Z ACTOR: Pulling Docker image of build Zb454ZPJ6q5DPla0h from registry.\n",
      "\u001b[36m[apify.facebook-search-scraper runId:j3Siea6esPtv8hYOm]\u001b[0m -> 2025-06-20T18:06:39.174Z ACTOR: Creating Docker container.\n",
      "\u001b[36m[apify.facebook-search-scraper runId:j3Siea6esPtv8hYOm]\u001b[0m -> 2025-06-20T18:06:39.245Z ACTOR: Starting Docker container.\n",
      "\u001b[36m[apify.facebook-search-scraper runId:j3Siea6esPtv8hYOm]\u001b[0m -> 2025-06-20T18:06:42.057Z \u001b[32mINFO\u001b[39m  System info\u001b[90m {\"apifyVersion\":\"3.2.6\",\"apifyClientVersion\":\"2.9.4\",\"crawleeVersion\":\"3.12.1\",\"osType\":\"Linux\",\"nodeVersion\":\"v20.19.2\"}\u001b[39m\n",
      "\u001b[36m[apify.facebook-search-scraper runId:j3Siea6esPtv8hYOm]\u001b[0m -> 2025-06-20T18:06:42.156Z \u001b[32mINFO\u001b[39m  Results Limit 20\n",
      "\u001b[36m[apify.facebook-search-scraper runId:j3Siea6esPtv8hYOm]\u001b[0m -> 2025-06-20T18:06:42.779Z \u001b[32mINFO\u001b[39m \u001b[33m CheerioCrawler:\u001b[39m Using the old RequestQueue implementation without request locking.\n",
      "\u001b[36m[apify.facebook-search-scraper runId:j3Siea6esPtv8hYOm]\u001b[0m -> 2025-06-20T18:06:42.916Z \u001b[32mINFO\u001b[39m \u001b[33m CheerioCrawler:\u001b[39m Starting the crawler.\n",
      "\u001b[36m[apify.facebook-search-scraper runId:j3Siea6esPtv8hYOm]\u001b[0m -> 2025-06-20T18:06:43.002Z \u001b[32mINFO\u001b[39m \u001b[33m CheerioCrawler:\u001b[39m All requests from the queue have been processed, the crawler will shut down.\n",
      "\u001b[36m[apify.facebook-search-scraper runId:j3Siea6esPtv8hYOm]\u001b[0m -> 2025-06-20T18:06:43.067Z \u001b[32mINFO\u001b[39m \u001b[33m CheerioCrawler:\u001b[39m Final request statistics:\u001b[90m {\"requestsFinished\":0,\"requestsFailed\":0,\"retryHistogram\":[],\"requestAvgFailedDurationMillis\":null,\"requestAvgFinishedDurationMillis\":null,\"requestsFinishedPerMinute\":0,\"requestsFailedPerMinute\":0,\"requestTotalDurationMillis\":0,\"requestsTotal\":0,\"crawlerRuntimeMillis\":289}\u001b[39m\n",
      "\u001b[36m[apify.facebook-search-scraper runId:j3Siea6esPtv8hYOm]\u001b[0m -> Status: RUNNING, Message: Finished! Total 0 requests: 0 succeeded, 0 failed.\n",
      "\u001b[36m[apify.facebook-search-scraper runId:j3Siea6esPtv8hYOm]\u001b[0m -> 2025-06-20T18:06:43.068Z \u001b[32mINFO\u001b[39m \u001b[33m CheerioCrawler:\u001b[39m Finished! Total 0 requests: 0 succeeded, 0 failed.\u001b[90m {\"terminal\":true}\u001b[39m\n",
      "\u001b[36m[apify.facebook-search-scraper runId:j3Siea6esPtv8hYOm]\u001b[0m -> 2025-06-20T18:06:43.209Z \u001b[32mINFO\u001b[39m  *** DONE ***\n"
     ]
    },
    {
     "name": "stdout",
     "output_type": "stream",
     "text": [
      "🔍 Looking up 'Home Service Business Coach' on Facebook...\n"
     ]
    },
    {
     "name": "stderr",
     "output_type": "stream",
     "text": [
      "\u001b[36m[apify.facebook-search-scraper runId:gm60dyAa0bk2XSjKb]\u001b[0m -> Status: RUNNING, Message: \n",
      "\u001b[36m[apify.facebook-search-scraper runId:gm60dyAa0bk2XSjKb]\u001b[0m -> 2025-06-20T18:06:50.930Z ACTOR: Pulling Docker image of build Zb454ZPJ6q5DPla0h from registry.\n",
      "\u001b[36m[apify.facebook-search-scraper runId:gm60dyAa0bk2XSjKb]\u001b[0m -> 2025-06-20T18:06:50.931Z ACTOR: Creating Docker container.\n",
      "\u001b[36m[apify.facebook-search-scraper runId:gm60dyAa0bk2XSjKb]\u001b[0m -> 2025-06-20T18:06:50.995Z ACTOR: Starting Docker container.\n",
      "\u001b[36m[apify.facebook-search-scraper runId:gm60dyAa0bk2XSjKb]\u001b[0m -> 2025-06-20T18:06:52.586Z \u001b[32mINFO\u001b[39m  System info\u001b[90m {\"apifyVersion\":\"3.2.6\",\"apifyClientVersion\":\"2.9.4\",\"crawleeVersion\":\"3.12.1\",\"osType\":\"Linux\",\"nodeVersion\":\"v20.19.2\"}\u001b[39m\n",
      "\u001b[36m[apify.facebook-search-scraper runId:gm60dyAa0bk2XSjKb]\u001b[0m -> 2025-06-20T18:06:52.689Z \u001b[32mINFO\u001b[39m  Results Limit 20\n",
      "\u001b[36m[apify.facebook-search-scraper runId:gm60dyAa0bk2XSjKb]\u001b[0m -> 2025-06-20T18:06:53.276Z \u001b[32mINFO\u001b[39m \u001b[33m CheerioCrawler:\u001b[39m Using the old RequestQueue implementation without request locking.\n",
      "\u001b[36m[apify.facebook-search-scraper runId:gm60dyAa0bk2XSjKb]\u001b[0m -> 2025-06-20T18:06:53.396Z \u001b[32mINFO\u001b[39m \u001b[33m CheerioCrawler:\u001b[39m Starting the crawler.\n",
      "\u001b[36m[apify.facebook-search-scraper runId:gm60dyAa0bk2XSjKb]\u001b[0m -> Status: RUNNING, Message: Starting the crawler.\n",
      "\u001b[36m[apify.facebook-search-scraper runId:gm60dyAa0bk2XSjKb]\u001b[0m -> 2025-06-20T18:06:53.469Z \u001b[32mINFO\u001b[39m \u001b[33m CheerioCrawler:\u001b[39m All requests from the queue have been processed, the crawler will shut down.\n",
      "\u001b[36m[apify.facebook-search-scraper runId:gm60dyAa0bk2XSjKb]\u001b[0m -> 2025-06-20T18:06:53.593Z \u001b[32mINFO\u001b[39m \u001b[33m CheerioCrawler:\u001b[39m Final request statistics:\u001b[90m {\"requestsFinished\":0,\"requestsFailed\":0,\"retryHistogram\":[],\"requestAvgFailedDurationMillis\":null,\"requestAvgFinishedDurationMillis\":null,\"requestsFinishedPerMinute\":0,\"requestsFailedPerMinute\":0,\"requestTotalDurationMillis\":0,\"requestsTotal\":0,\"crawlerRuntimeMillis\":319}\u001b[39m\n",
      "\u001b[36m[apify.facebook-search-scraper runId:gm60dyAa0bk2XSjKb]\u001b[0m -> 2025-06-20T18:06:53.594Z \u001b[32mINFO\u001b[39m \u001b[33m CheerioCrawler:\u001b[39m Finished! Total 0 requests: 0 succeeded, 0 failed.\u001b[90m {\"terminal\":true}\u001b[39m\n",
      "\u001b[36m[apify.facebook-search-scraper runId:gm60dyAa0bk2XSjKb]\u001b[0m -> 2025-06-20T18:06:53.819Z \u001b[32mINFO\u001b[39m  *** DONE ***\n",
      "\u001b[36m[apify.facebook-search-scraper runId:gm60dyAa0bk2XSjKb]\u001b[0m -> Status: SUCCEEDED, Message: Finished! Total 0 requests: 0 succeeded, 0 failed.\n"
     ]
    },
    {
     "name": "stdout",
     "output_type": "stream",
     "text": [
      "🔍 Looking up 'Brandscope Marketing' on Facebook...\n"
     ]
    },
    {
     "name": "stderr",
     "output_type": "stream",
     "text": [
      "\u001b[36m[apify.facebook-search-scraper runId:A2sXbLZ8pFgkqCtbE]\u001b[0m -> Status: RUNNING, Message: \n",
      "\u001b[36m[apify.facebook-search-scraper runId:A2sXbLZ8pFgkqCtbE]\u001b[0m -> Status: RUNNING, Message: Starting the crawler.\n",
      "\u001b[36m[apify.facebook-search-scraper runId:A2sXbLZ8pFgkqCtbE]\u001b[0m -> 2025-06-20T18:07:01.556Z ACTOR: Pulling Docker image of build Zb454ZPJ6q5DPla0h from registry.\n",
      "\u001b[36m[apify.facebook-search-scraper runId:A2sXbLZ8pFgkqCtbE]\u001b[0m -> 2025-06-20T18:07:01.557Z ACTOR: Creating Docker container.\n",
      "\u001b[36m[apify.facebook-search-scraper runId:A2sXbLZ8pFgkqCtbE]\u001b[0m -> 2025-06-20T18:07:01.583Z ACTOR: Starting Docker container.\n",
      "\u001b[36m[apify.facebook-search-scraper runId:A2sXbLZ8pFgkqCtbE]\u001b[0m -> 2025-06-20T18:07:02.771Z \u001b[32mINFO\u001b[39m  System info\u001b[90m {\"apifyVersion\":\"3.2.6\",\"apifyClientVersion\":\"2.9.4\",\"crawleeVersion\":\"3.12.1\",\"osType\":\"Linux\",\"nodeVersion\":\"v20.19.2\"}\u001b[39m\n",
      "\u001b[36m[apify.facebook-search-scraper runId:A2sXbLZ8pFgkqCtbE]\u001b[0m -> 2025-06-20T18:07:02.841Z \u001b[32mINFO\u001b[39m  Results Limit 20\n",
      "\u001b[36m[apify.facebook-search-scraper runId:A2sXbLZ8pFgkqCtbE]\u001b[0m -> 2025-06-20T18:07:03.342Z \u001b[32mINFO\u001b[39m \u001b[33m CheerioCrawler:\u001b[39m Using the old RequestQueue implementation without request locking.\n",
      "\u001b[36m[apify.facebook-search-scraper runId:A2sXbLZ8pFgkqCtbE]\u001b[0m -> 2025-06-20T18:07:03.466Z \u001b[32mINFO\u001b[39m \u001b[33m CheerioCrawler:\u001b[39m Starting the crawler.\n",
      "\u001b[36m[apify.facebook-search-scraper runId:A2sXbLZ8pFgkqCtbE]\u001b[0m -> 2025-06-20T18:07:03.553Z \u001b[32mINFO\u001b[39m \u001b[33m CheerioCrawler:\u001b[39m All requests from the queue have been processed, the crawler will shut down.\n",
      "\u001b[36m[apify.facebook-search-scraper runId:A2sXbLZ8pFgkqCtbE]\u001b[0m -> 2025-06-20T18:07:03.742Z \u001b[32mINFO\u001b[39m \u001b[33m CheerioCrawler:\u001b[39m Final request statistics:\u001b[90m {\"requestsFinished\":0,\"requestsFailed\":0,\"retryHistogram\":[],\"requestAvgFailedDurationMillis\":null,\"requestAvgFinishedDurationMillis\":null,\"requestsFinishedPerMinute\":0,\"requestsFailedPerMinute\":0,\"requestTotalDurationMillis\":0,\"requestsTotal\":0,\"crawlerRuntimeMillis\":401}\u001b[39m\n",
      "\u001b[36m[apify.facebook-search-scraper runId:A2sXbLZ8pFgkqCtbE]\u001b[0m -> 2025-06-20T18:07:03.743Z \u001b[32mINFO\u001b[39m \u001b[33m CheerioCrawler:\u001b[39m Finished! Total 0 requests: 0 succeeded, 0 failed.\u001b[90m {\"terminal\":true}\u001b[39m\n",
      "\u001b[36m[apify.facebook-search-scraper runId:A2sXbLZ8pFgkqCtbE]\u001b[0m -> 2025-06-20T18:07:03.894Z \u001b[32mINFO\u001b[39m  *** DONE ***\n",
      "\u001b[36m[apify.facebook-search-scraper runId:A2sXbLZ8pFgkqCtbE]\u001b[0m -> Status: SUCCEEDED, Message: Finished! Total 0 requests: 0 succeeded, 0 failed.\n"
     ]
    },
    {
     "name": "stdout",
     "output_type": "stream",
     "text": [
      "🔍 Looking up 'KidocinhoBom - Docinhos de Leite Ninho Personalizados 3D' on Facebook...\n"
     ]
    },
    {
     "name": "stderr",
     "output_type": "stream",
     "text": [
      "\u001b[36m[apify.facebook-search-scraper runId:oL9PYuSrQcxpdbHWU]\u001b[0m -> Status: RUNNING, Message: \n",
      "\u001b[36m[apify.facebook-search-scraper runId:oL9PYuSrQcxpdbHWU]\u001b[0m -> 2025-06-20T18:07:12.003Z ACTOR: Pulling Docker image of build Zb454ZPJ6q5DPla0h from registry.\n",
      "\u001b[36m[apify.facebook-search-scraper runId:oL9PYuSrQcxpdbHWU]\u001b[0m -> 2025-06-20T18:07:12.009Z ACTOR: Creating Docker container.\n",
      "\u001b[36m[apify.facebook-search-scraper runId:oL9PYuSrQcxpdbHWU]\u001b[0m -> 2025-06-20T18:07:12.117Z ACTOR: Starting Docker container.\n",
      "\u001b[36m[apify.facebook-search-scraper runId:oL9PYuSrQcxpdbHWU]\u001b[0m -> 2025-06-20T18:07:13.668Z \u001b[32mINFO\u001b[39m  System info\u001b[90m {\"apifyVersion\":\"3.2.6\",\"apifyClientVersion\":\"2.9.4\",\"crawleeVersion\":\"3.12.1\",\"osType\":\"Linux\",\"nodeVersion\":\"v20.19.2\"}\u001b[39m\n",
      "\u001b[36m[apify.facebook-search-scraper runId:oL9PYuSrQcxpdbHWU]\u001b[0m -> 2025-06-20T18:07:13.801Z \u001b[32mINFO\u001b[39m  Results Limit 20\n",
      "\u001b[36m[apify.facebook-search-scraper runId:oL9PYuSrQcxpdbHWU]\u001b[0m -> 2025-06-20T18:07:14.493Z \u001b[32mINFO\u001b[39m \u001b[33m CheerioCrawler:\u001b[39m Using the old RequestQueue implementation without request locking.\n",
      "\u001b[36m[apify.facebook-search-scraper runId:oL9PYuSrQcxpdbHWU]\u001b[0m -> 2025-06-20T18:07:14.614Z \u001b[32mINFO\u001b[39m \u001b[33m CheerioCrawler:\u001b[39m Starting the crawler.\n",
      "\u001b[36m[apify.facebook-search-scraper runId:oL9PYuSrQcxpdbHWU]\u001b[0m -> Status: RUNNING, Message: Starting the crawler.\n",
      "\u001b[36m[apify.facebook-search-scraper runId:oL9PYuSrQcxpdbHWU]\u001b[0m -> 2025-06-20T18:07:14.700Z \u001b[32mINFO\u001b[39m \u001b[33m CheerioCrawler:\u001b[39m All requests from the queue have been processed, the crawler will shut down.\n",
      "\u001b[36m[apify.facebook-search-scraper runId:oL9PYuSrQcxpdbHWU]\u001b[0m -> 2025-06-20T18:07:14.777Z \u001b[32mINFO\u001b[39m \u001b[33m CheerioCrawler:\u001b[39m Final request statistics:\u001b[90m {\"requestsFinished\":0,\"requestsFailed\":0,\"retryHistogram\":[],\"requestAvgFailedDurationMillis\":null,\"requestAvgFinishedDurationMillis\":null,\"requestsFinishedPerMinute\":0,\"requestsFailedPerMinute\":0,\"requestTotalDurationMillis\":0,\"requestsTotal\":0,\"crawlerRuntimeMillis\":286}\u001b[39m\n",
      "\u001b[36m[apify.facebook-search-scraper runId:oL9PYuSrQcxpdbHWU]\u001b[0m -> 2025-06-20T18:07:14.779Z \u001b[32mINFO\u001b[39m \u001b[33m CheerioCrawler:\u001b[39m Finished! Total 0 requests: 0 succeeded, 0 failed.\u001b[90m {\"terminal\":true}\u001b[39m\n",
      "\u001b[36m[apify.facebook-search-scraper runId:oL9PYuSrQcxpdbHWU]\u001b[0m -> 2025-06-20T18:07:14.917Z \u001b[32mINFO\u001b[39m  *** DONE ***\n",
      "\u001b[36m[apify.facebook-search-scraper runId:oL9PYuSrQcxpdbHWU]\u001b[0m -> Status: SUCCEEDED, Message: Finished! Total 0 requests: 0 succeeded, 0 failed.\n"
     ]
    },
    {
     "name": "stdout",
     "output_type": "stream",
     "text": [
      "🔍 Looking up 'Amanda Carvalho Souza' on Facebook...\n"
     ]
    },
    {
     "name": "stderr",
     "output_type": "stream",
     "text": [
      "\u001b[36m[apify.facebook-search-scraper runId:2trRWZyxvPssLJDAW]\u001b[0m -> Status: RUNNING, Message: \n",
      "\u001b[36m[apify.facebook-search-scraper runId:2trRWZyxvPssLJDAW]\u001b[0m -> 2025-06-20T18:07:22.644Z ACTOR: Pulling Docker image of build Zb454ZPJ6q5DPla0h from registry.\n",
      "\u001b[36m[apify.facebook-search-scraper runId:2trRWZyxvPssLJDAW]\u001b[0m -> 2025-06-20T18:07:22.646Z ACTOR: Creating Docker container.\n",
      "\u001b[36m[apify.facebook-search-scraper runId:2trRWZyxvPssLJDAW]\u001b[0m -> 2025-06-20T18:07:22.670Z ACTOR: Starting Docker container.\n",
      "\u001b[36m[apify.facebook-search-scraper runId:2trRWZyxvPssLJDAW]\u001b[0m -> 2025-06-20T18:07:23.847Z \u001b[32mINFO\u001b[39m  System info\u001b[90m {\"apifyVersion\":\"3.2.6\",\"apifyClientVersion\":\"2.9.4\",\"crawleeVersion\":\"3.12.1\",\"osType\":\"Linux\",\"nodeVersion\":\"v20.19.2\"}\u001b[39m\n",
      "\u001b[36m[apify.facebook-search-scraper runId:2trRWZyxvPssLJDAW]\u001b[0m -> 2025-06-20T18:07:23.938Z \u001b[32mINFO\u001b[39m  Results Limit 20\n",
      "\u001b[36m[apify.facebook-search-scraper runId:2trRWZyxvPssLJDAW]\u001b[0m -> 2025-06-20T18:07:24.419Z \u001b[32mINFO\u001b[39m \u001b[33m CheerioCrawler:\u001b[39m Using the old RequestQueue implementation without request locking.\n",
      "\u001b[36m[apify.facebook-search-scraper runId:2trRWZyxvPssLJDAW]\u001b[0m -> 2025-06-20T18:07:24.551Z \u001b[32mINFO\u001b[39m \u001b[33m CheerioCrawler:\u001b[39m Starting the crawler.\n",
      "\u001b[36m[apify.facebook-search-scraper runId:2trRWZyxvPssLJDAW]\u001b[0m -> 2025-06-20T18:07:24.625Z \u001b[32mINFO\u001b[39m \u001b[33m CheerioCrawler:\u001b[39m All requests from the queue have been processed, the crawler will shut down.\n",
      "\u001b[36m[apify.facebook-search-scraper runId:2trRWZyxvPssLJDAW]\u001b[0m -> 2025-06-20T18:07:24.760Z \u001b[32mINFO\u001b[39m \u001b[33m CheerioCrawler:\u001b[39m Final request statistics:\u001b[90m {\"requestsFinished\":0,\"requestsFailed\":0,\"retryHistogram\":[],\"requestAvgFailedDurationMillis\":null,\"requestAvgFinishedDurationMillis\":null,\"requestsFinishedPerMinute\":0,\"requestsFailedPerMinute\":0,\"requestTotalDurationMillis\":0,\"requestsTotal\":0,\"crawlerRuntimeMillis\":342}\u001b[39m\n",
      "\u001b[36m[apify.facebook-search-scraper runId:2trRWZyxvPssLJDAW]\u001b[0m -> 2025-06-20T18:07:24.762Z \u001b[32mINFO\u001b[39m \u001b[33m CheerioCrawler:\u001b[39m Finished! Total 0 requests: 0 succeeded, 0 failed.\u001b[90m {\"terminal\":true}\u001b[39m\n",
      "\u001b[36m[apify.facebook-search-scraper runId:2trRWZyxvPssLJDAW]\u001b[0m -> 2025-06-20T18:07:24.915Z \u001b[32mINFO\u001b[39m  *** DONE ***\n",
      "\u001b[36m[apify.facebook-search-scraper runId:2trRWZyxvPssLJDAW]\u001b[0m -> Status: SUCCEEDED, Message: Finished! Total 0 requests: 0 succeeded, 0 failed.\n"
     ]
    },
    {
     "name": "stdout",
     "output_type": "stream",
     "text": [
      "✅ Enriched 56 pages — saved to results/enriched_pages.csv\n"
     ]
    }
   ],
   "source": [
    "if __name__ == \"__main__\":\n",
    "    main()"
   ]
  },
  {
   "cell_type": "code",
   "execution_count": null,
   "id": "fc688898",
   "metadata": {},
   "outputs": [
    {
     "name": "stdout",
     "output_type": "stream",
     "text": [
      "🔍 Scraping: https://www.facebook.com/AllAboutCircuits\n",
      "❌ Failed to scrape https://www.facebook.com/AllAboutCircuits: Actor with this name was not found\n",
      "🔍 Scraping: https://www.facebook.com/StanlyCommunityCollegeSBC\n",
      "❌ Failed to scrape https://www.facebook.com/StanlyCommunityCollegeSBC: Actor with this name was not found\n",
      "🔍 Scraping: https://www.facebook.com/VisionarySolutionsInc.\n",
      "❌ Failed to scrape https://www.facebook.com/VisionarySolutionsInc.: Actor with this name was not found\n",
      "🔍 Scraping: https://www.facebook.com/SmithMarketingTeam\n",
      "❌ Failed to scrape https://www.facebook.com/SmithMarketingTeam: Actor with this name was not found\n",
      "🔍 Scraping: https://www.facebook.com/BethPowanda,P.A.,RealtoratRe/MaxMarketingSpecialists\n",
      "❌ Failed to scrape https://www.facebook.com/BethPowanda,P.A.,RealtoratRe/MaxMarketingSpecialists: Actor with this name was not found\n",
      "🔍 Scraping: https://www.facebook.com/TheBusinessRevolutionforPractitionerswithJoannaSapir\n",
      "❌ Failed to scrape https://www.facebook.com/TheBusinessRevolutionforPractitionerswithJoannaSapir: Actor with this name was not found\n",
      "🔍 Scraping: https://www.facebook.com/TheMarketingNinja\n",
      "❌ Failed to scrape https://www.facebook.com/TheMarketingNinja: Actor with this name was not found\n",
      "🔍 Scraping: https://www.facebook.com/UBDMarketing\n",
      "❌ Failed to scrape https://www.facebook.com/UBDMarketing: Actor with this name was not found\n",
      "🔍 Scraping: https://www.facebook.com/programareclame\n",
      "❌ Failed to scrape https://www.facebook.com/programareclame: Actor with this name was not found\n",
      "🔍 Scraping: https://www.facebook.com/Mailmarketer\n",
      "❌ Failed to scrape https://www.facebook.com/Mailmarketer: Actor with this name was not found\n",
      "🔍 Scraping: https://www.facebook.com/Formationenparapharmacie\n",
      "❌ Failed to scrape https://www.facebook.com/Formationenparapharmacie: Actor with this name was not found\n",
      "🔍 Scraping: https://www.facebook.com/PuduRobotics\n",
      "❌ Failed to scrape https://www.facebook.com/PuduRobotics: Actor with this name was not found\n",
      "🔍 Scraping: https://www.facebook.com/TheSalesmark\n",
      "❌ Failed to scrape https://www.facebook.com/TheSalesmark: Actor with this name was not found\n",
      "🔍 Scraping: https://www.facebook.com/ЭлеонораТюринаМаркетолог\n",
      "❌ Failed to scrape https://www.facebook.com/ЭлеонораТюринаМаркетолог: Actor with this name was not found\n",
      "🔍 Scraping: https://www.facebook.com/WHydrocolloids\n",
      "❌ Failed to scrape https://www.facebook.com/WHydrocolloids: Actor with this name was not found\n",
      "🔍 Scraping: https://www.facebook.com/JulianOtaloraMarketing\n",
      "❌ Failed to scrape https://www.facebook.com/JulianOtaloraMarketing: Actor with this name was not found\n",
      "🔍 Scraping: https://www.facebook.com/LimitlessLegal\n",
      "❌ Failed to scrape https://www.facebook.com/LimitlessLegal: Actor with this name was not found\n",
      "🔍 Scraping: https://www.facebook.com/MomntAgency-BienesRaíces\n",
      "❌ Failed to scrape https://www.facebook.com/MomntAgency-BienesRaíces: Actor with this name was not found\n",
      "🔍 Scraping: https://www.facebook.com/TintAcademy-windowtintcourses\n",
      "❌ Failed to scrape https://www.facebook.com/TintAcademy-windowtintcourses: Actor with this name was not found\n",
      "🔍 Scraping: https://www.facebook.com/PaulAndredeVera\n",
      "❌ Failed to scrape https://www.facebook.com/PaulAndredeVera: Actor with this name was not found\n",
      "🔍 Scraping: https://www.facebook.com/AntoinetteCalata-ToyotaTuguegarao\n",
      "❌ Failed to scrape https://www.facebook.com/AntoinetteCalata-ToyotaTuguegarao: Actor with this name was not found\n",
      "🔍 Scraping: https://www.facebook.com/GetLocal.vip\n",
      "❌ Failed to scrape https://www.facebook.com/GetLocal.vip: Actor with this name was not found\n",
      "🔍 Scraping: https://www.facebook.com/Ortto\n",
      "❌ Failed to scrape https://www.facebook.com/Ortto: Actor with this name was not found\n",
      "🔍 Scraping: https://www.facebook.com/HalsteadMediaGroup\n",
      "❌ Failed to scrape https://www.facebook.com/HalsteadMediaGroup: Actor with this name was not found\n",
      "🔍 Scraping: https://www.facebook.com/TheUncommonBusiness\n",
      "❌ Failed to scrape https://www.facebook.com/TheUncommonBusiness: Actor with this name was not found\n",
      "🔍 Scraping: https://www.facebook.com/ZamaMarketingUSA\n",
      "❌ Failed to scrape https://www.facebook.com/ZamaMarketingUSA: Actor with this name was not found\n",
      "🔍 Scraping: https://www.facebook.com/IMarketBusiness\n",
      "❌ Failed to scrape https://www.facebook.com/IMarketBusiness: Actor with this name was not found\n",
      "🔍 Scraping: https://www.facebook.com/MARKETINGCOMPANY\n",
      "❌ Failed to scrape https://www.facebook.com/MARKETINGCOMPANY: Actor with this name was not found\n",
      "🔍 Scraping: https://www.facebook.com/Lexilexi.ai\n",
      "❌ Failed to scrape https://www.facebook.com/Lexilexi.ai: Actor with this name was not found\n",
      "🔍 Scraping: https://www.facebook.com/PabloEspinozaMarketing\n",
      "❌ Failed to scrape https://www.facebook.com/PabloEspinozaMarketing: Actor with this name was not found\n",
      "🔍 Scraping: https://www.facebook.com/NewEraDigital\n",
      "❌ Failed to scrape https://www.facebook.com/NewEraDigital: Actor with this name was not found\n",
      "🔍 Scraping: https://www.facebook.com/TheRealGirlsGuidetoOver55\n",
      "❌ Failed to scrape https://www.facebook.com/TheRealGirlsGuidetoOver55: Actor with this name was not found\n",
      "🔍 Scraping: https://www.facebook.com/H&HPrintingLLC\n",
      "❌ Failed to scrape https://www.facebook.com/H&HPrintingLLC: Actor with this name was not found\n",
      "🔍 Scraping: https://www.facebook.com/TheRainmakerInstitute\n",
      "❌ Failed to scrape https://www.facebook.com/TheRainmakerInstitute: Actor with this name was not found\n",
      "🔍 Scraping: https://www.facebook.com/Veracollective\n",
      "❌ Failed to scrape https://www.facebook.com/Veracollective: Actor with this name was not found\n",
      "🔍 Scraping: https://www.facebook.com/NitinAustinRealtor\n",
      "❌ Failed to scrape https://www.facebook.com/NitinAustinRealtor: Actor with this name was not found\n",
      "🔍 Scraping: https://www.facebook.com/PainterMarketing\n",
      "❌ Failed to scrape https://www.facebook.com/PainterMarketing: Actor with this name was not found\n",
      "🔍 Scraping: https://www.facebook.com/KoreanSkincareReviews\n",
      "❌ Failed to scrape https://www.facebook.com/KoreanSkincareReviews: Actor with this name was not found\n",
      "🔍 Scraping: https://www.facebook.com/AtlaGrowth\n",
      "❌ Failed to scrape https://www.facebook.com/AtlaGrowth: Actor with this name was not found\n",
      "🔍 Scraping: https://www.facebook.com/IRents.Co:PartyRentalMarketingStrategies\n",
      "❌ Failed to scrape https://www.facebook.com/IRents.Co:PartyRentalMarketingStrategies: Actor with this name was not found\n",
      "🔍 Scraping: https://www.facebook.com/MarketingDigitalAndresMora\n",
      "❌ Failed to scrape https://www.facebook.com/MarketingDigitalAndresMora: Actor with this name was not found\n",
      "🔍 Scraping: https://www.facebook.com/LindsayNeary&KatPontzerTeam\n",
      "❌ Failed to scrape https://www.facebook.com/LindsayNeary&KatPontzerTeam: Actor with this name was not found\n",
      "🔍 Scraping: https://www.facebook.com/17HandsMarketing\n",
      "❌ Failed to scrape https://www.facebook.com/17HandsMarketing: Actor with this name was not found\n",
      "🔍 Scraping: https://www.facebook.com/RyanAquino-Marketing\n",
      "❌ Failed to scrape https://www.facebook.com/RyanAquino-Marketing: Actor with this name was not found\n",
      "🔍 Scraping: https://www.facebook.com/HBLStudio\n",
      "❌ Failed to scrape https://www.facebook.com/HBLStudio: Actor with this name was not found\n",
      "🔍 Scraping: https://www.facebook.com/BrandiDavis\n",
      "❌ Failed to scrape https://www.facebook.com/BrandiDavis: Actor with this name was not found\n",
      "🔍 Scraping: https://www.facebook.com/SageMarketingSolutions\n",
      "❌ Failed to scrape https://www.facebook.com/SageMarketingSolutions: Actor with this name was not found\n",
      "🔍 Scraping: https://www.facebook.com/LongLe,Realtor\n",
      "❌ Failed to scrape https://www.facebook.com/LongLe,Realtor: Actor with this name was not found\n",
      "🔍 Scraping: https://www.facebook.com/KarlLund\n",
      "❌ Failed to scrape https://www.facebook.com/KarlLund: Actor with this name was not found\n",
      "🔍 Scraping: https://www.facebook.com/SteveHarrison-Publishing,Marketing&PublicityTips\n",
      "❌ Failed to scrape https://www.facebook.com/SteveHarrison-Publishing,Marketing&PublicityTips: Actor with this name was not found\n",
      "🔍 Scraping: https://www.facebook.com/FRESH2SALT-Marine&PowersportsMarketing\n",
      "❌ Failed to scrape https://www.facebook.com/FRESH2SALT-Marine&PowersportsMarketing: Actor with this name was not found\n",
      "🔍 Scraping: https://www.facebook.com/TommyMello\n",
      "❌ Failed to scrape https://www.facebook.com/TommyMello: Actor with this name was not found\n",
      "🔍 Scraping: https://www.facebook.com/HomeServiceBusinessCoach\n",
      "❌ Failed to scrape https://www.facebook.com/HomeServiceBusinessCoach: Actor with this name was not found\n",
      "🔍 Scraping: https://www.facebook.com/BrandscopeMarketing\n",
      "❌ Failed to scrape https://www.facebook.com/BrandscopeMarketing: Actor with this name was not found\n",
      "🔍 Scraping: https://www.facebook.com/KidocinhoBom-DocinhosdeLeiteNinhoPersonalizados3D\n",
      "❌ Failed to scrape https://www.facebook.com/KidocinhoBom-DocinhosdeLeiteNinhoPersonalizados3D: Actor with this name was not found\n",
      "🔍 Scraping: https://www.facebook.com/AmandaCarvalhoSouza\n",
      "❌ Failed to scrape https://www.facebook.com/AmandaCarvalhoSouza: Actor with this name was not found\n"
     ]
    },
    {
     "ename": "PermissionError",
     "evalue": "[Errno 13] Permission denied: 'results/enriched_pages.csv'",
     "output_type": "error",
     "traceback": [
      "\u001b[1;31m---------------------------------------------------------------------------\u001b[0m",
      "\u001b[1;31mPermissionError\u001b[0m                           Traceback (most recent call last)",
      "Cell \u001b[1;32mIn[6], line 69\u001b[0m\n\u001b[0;32m     66\u001b[0m     \u001b[38;5;28mprint\u001b[39m(\u001b[38;5;124mf\u001b[39m\u001b[38;5;124m\"\u001b[39m\u001b[38;5;124m✅ Done — Enriched \u001b[39m\u001b[38;5;132;01m{\u001b[39;00m\u001b[38;5;28mlen\u001b[39m(out_df)\u001b[38;5;132;01m}\u001b[39;00m\u001b[38;5;124m pages and saved to \u001b[39m\u001b[38;5;132;01m{\u001b[39;00moutput_csv\u001b[38;5;132;01m}\u001b[39;00m\u001b[38;5;124m\"\u001b[39m)\n\u001b[0;32m     68\u001b[0m \u001b[38;5;28;01mif\u001b[39;00m \u001b[38;5;18m__name__\u001b[39m \u001b[38;5;241m==\u001b[39m \u001b[38;5;124m\"\u001b[39m\u001b[38;5;124m__main__\u001b[39m\u001b[38;5;124m\"\u001b[39m:\n\u001b[1;32m---> 69\u001b[0m     \u001b[43menrich_pages\u001b[49m\u001b[43m(\u001b[49m\u001b[43m)\u001b[49m\n",
      "Cell \u001b[1;32mIn[6], line 65\u001b[0m, in \u001b[0;36menrich_pages\u001b[1;34m(input_csv, output_csv)\u001b[0m\n\u001b[0;32m     63\u001b[0m out_df \u001b[38;5;241m=\u001b[39m pd\u001b[38;5;241m.\u001b[39mDataFrame(enriched)\n\u001b[0;32m     64\u001b[0m os\u001b[38;5;241m.\u001b[39mmakedirs(\u001b[38;5;124m\"\u001b[39m\u001b[38;5;124mresults\u001b[39m\u001b[38;5;124m\"\u001b[39m, exist_ok\u001b[38;5;241m=\u001b[39m\u001b[38;5;28;01mTrue\u001b[39;00m)\n\u001b[1;32m---> 65\u001b[0m \u001b[43mout_df\u001b[49m\u001b[38;5;241;43m.\u001b[39;49m\u001b[43mto_csv\u001b[49m\u001b[43m(\u001b[49m\u001b[43moutput_csv\u001b[49m\u001b[43m,\u001b[49m\u001b[43m \u001b[49m\u001b[43mindex\u001b[49m\u001b[38;5;241;43m=\u001b[39;49m\u001b[38;5;28;43;01mFalse\u001b[39;49;00m\u001b[43m,\u001b[49m\u001b[43m \u001b[49m\u001b[43mencoding\u001b[49m\u001b[38;5;241;43m=\u001b[39;49m\u001b[38;5;124;43m\"\u001b[39;49m\u001b[38;5;124;43mutf-8\u001b[39;49m\u001b[38;5;124;43m\"\u001b[39;49m\u001b[43m)\u001b[49m\n\u001b[0;32m     66\u001b[0m \u001b[38;5;28mprint\u001b[39m(\u001b[38;5;124mf\u001b[39m\u001b[38;5;124m\"\u001b[39m\u001b[38;5;124m✅ Done — Enriched \u001b[39m\u001b[38;5;132;01m{\u001b[39;00m\u001b[38;5;28mlen\u001b[39m(out_df)\u001b[38;5;132;01m}\u001b[39;00m\u001b[38;5;124m pages and saved to \u001b[39m\u001b[38;5;132;01m{\u001b[39;00moutput_csv\u001b[38;5;132;01m}\u001b[39;00m\u001b[38;5;124m\"\u001b[39m)\n",
      "File \u001b[1;32mc:\\Users\\Ahmad\\AppData\\Local\\Programs\\Python\\Python310\\lib\\site-packages\\pandas\\util\\_decorators.py:333\u001b[0m, in \u001b[0;36mdeprecate_nonkeyword_arguments.<locals>.decorate.<locals>.wrapper\u001b[1;34m(*args, **kwargs)\u001b[0m\n\u001b[0;32m    327\u001b[0m \u001b[38;5;28;01mif\u001b[39;00m \u001b[38;5;28mlen\u001b[39m(args) \u001b[38;5;241m>\u001b[39m num_allow_args:\n\u001b[0;32m    328\u001b[0m     warnings\u001b[38;5;241m.\u001b[39mwarn(\n\u001b[0;32m    329\u001b[0m         msg\u001b[38;5;241m.\u001b[39mformat(arguments\u001b[38;5;241m=\u001b[39m_format_argument_list(allow_args)),\n\u001b[0;32m    330\u001b[0m         \u001b[38;5;167;01mFutureWarning\u001b[39;00m,\n\u001b[0;32m    331\u001b[0m         stacklevel\u001b[38;5;241m=\u001b[39mfind_stack_level(),\n\u001b[0;32m    332\u001b[0m     )\n\u001b[1;32m--> 333\u001b[0m \u001b[38;5;28;01mreturn\u001b[39;00m func(\u001b[38;5;241m*\u001b[39margs, \u001b[38;5;241m*\u001b[39m\u001b[38;5;241m*\u001b[39mkwargs)\n",
      "File \u001b[1;32mc:\\Users\\Ahmad\\AppData\\Local\\Programs\\Python\\Python310\\lib\\site-packages\\pandas\\core\\generic.py:3967\u001b[0m, in \u001b[0;36mNDFrame.to_csv\u001b[1;34m(self, path_or_buf, sep, na_rep, float_format, columns, header, index, index_label, mode, encoding, compression, quoting, quotechar, lineterminator, chunksize, date_format, doublequote, escapechar, decimal, errors, storage_options)\u001b[0m\n\u001b[0;32m   3956\u001b[0m df \u001b[38;5;241m=\u001b[39m \u001b[38;5;28mself\u001b[39m \u001b[38;5;28;01mif\u001b[39;00m \u001b[38;5;28misinstance\u001b[39m(\u001b[38;5;28mself\u001b[39m, ABCDataFrame) \u001b[38;5;28;01melse\u001b[39;00m \u001b[38;5;28mself\u001b[39m\u001b[38;5;241m.\u001b[39mto_frame()\n\u001b[0;32m   3958\u001b[0m formatter \u001b[38;5;241m=\u001b[39m DataFrameFormatter(\n\u001b[0;32m   3959\u001b[0m     frame\u001b[38;5;241m=\u001b[39mdf,\n\u001b[0;32m   3960\u001b[0m     header\u001b[38;5;241m=\u001b[39mheader,\n\u001b[1;32m   (...)\u001b[0m\n\u001b[0;32m   3964\u001b[0m     decimal\u001b[38;5;241m=\u001b[39mdecimal,\n\u001b[0;32m   3965\u001b[0m )\n\u001b[1;32m-> 3967\u001b[0m \u001b[38;5;28;01mreturn\u001b[39;00m \u001b[43mDataFrameRenderer\u001b[49m\u001b[43m(\u001b[49m\u001b[43mformatter\u001b[49m\u001b[43m)\u001b[49m\u001b[38;5;241;43m.\u001b[39;49m\u001b[43mto_csv\u001b[49m\u001b[43m(\u001b[49m\n\u001b[0;32m   3968\u001b[0m \u001b[43m    \u001b[49m\u001b[43mpath_or_buf\u001b[49m\u001b[43m,\u001b[49m\n\u001b[0;32m   3969\u001b[0m \u001b[43m    \u001b[49m\u001b[43mlineterminator\u001b[49m\u001b[38;5;241;43m=\u001b[39;49m\u001b[43mlineterminator\u001b[49m\u001b[43m,\u001b[49m\n\u001b[0;32m   3970\u001b[0m \u001b[43m    \u001b[49m\u001b[43msep\u001b[49m\u001b[38;5;241;43m=\u001b[39;49m\u001b[43msep\u001b[49m\u001b[43m,\u001b[49m\n\u001b[0;32m   3971\u001b[0m \u001b[43m    \u001b[49m\u001b[43mencoding\u001b[49m\u001b[38;5;241;43m=\u001b[39;49m\u001b[43mencoding\u001b[49m\u001b[43m,\u001b[49m\n\u001b[0;32m   3972\u001b[0m \u001b[43m    \u001b[49m\u001b[43merrors\u001b[49m\u001b[38;5;241;43m=\u001b[39;49m\u001b[43merrors\u001b[49m\u001b[43m,\u001b[49m\n\u001b[0;32m   3973\u001b[0m \u001b[43m    \u001b[49m\u001b[43mcompression\u001b[49m\u001b[38;5;241;43m=\u001b[39;49m\u001b[43mcompression\u001b[49m\u001b[43m,\u001b[49m\n\u001b[0;32m   3974\u001b[0m \u001b[43m    \u001b[49m\u001b[43mquoting\u001b[49m\u001b[38;5;241;43m=\u001b[39;49m\u001b[43mquoting\u001b[49m\u001b[43m,\u001b[49m\n\u001b[0;32m   3975\u001b[0m \u001b[43m    \u001b[49m\u001b[43mcolumns\u001b[49m\u001b[38;5;241;43m=\u001b[39;49m\u001b[43mcolumns\u001b[49m\u001b[43m,\u001b[49m\n\u001b[0;32m   3976\u001b[0m \u001b[43m    \u001b[49m\u001b[43mindex_label\u001b[49m\u001b[38;5;241;43m=\u001b[39;49m\u001b[43mindex_label\u001b[49m\u001b[43m,\u001b[49m\n\u001b[0;32m   3977\u001b[0m \u001b[43m    \u001b[49m\u001b[43mmode\u001b[49m\u001b[38;5;241;43m=\u001b[39;49m\u001b[43mmode\u001b[49m\u001b[43m,\u001b[49m\n\u001b[0;32m   3978\u001b[0m \u001b[43m    \u001b[49m\u001b[43mchunksize\u001b[49m\u001b[38;5;241;43m=\u001b[39;49m\u001b[43mchunksize\u001b[49m\u001b[43m,\u001b[49m\n\u001b[0;32m   3979\u001b[0m \u001b[43m    \u001b[49m\u001b[43mquotechar\u001b[49m\u001b[38;5;241;43m=\u001b[39;49m\u001b[43mquotechar\u001b[49m\u001b[43m,\u001b[49m\n\u001b[0;32m   3980\u001b[0m \u001b[43m    \u001b[49m\u001b[43mdate_format\u001b[49m\u001b[38;5;241;43m=\u001b[39;49m\u001b[43mdate_format\u001b[49m\u001b[43m,\u001b[49m\n\u001b[0;32m   3981\u001b[0m \u001b[43m    \u001b[49m\u001b[43mdoublequote\u001b[49m\u001b[38;5;241;43m=\u001b[39;49m\u001b[43mdoublequote\u001b[49m\u001b[43m,\u001b[49m\n\u001b[0;32m   3982\u001b[0m \u001b[43m    \u001b[49m\u001b[43mescapechar\u001b[49m\u001b[38;5;241;43m=\u001b[39;49m\u001b[43mescapechar\u001b[49m\u001b[43m,\u001b[49m\n\u001b[0;32m   3983\u001b[0m \u001b[43m    \u001b[49m\u001b[43mstorage_options\u001b[49m\u001b[38;5;241;43m=\u001b[39;49m\u001b[43mstorage_options\u001b[49m\u001b[43m,\u001b[49m\n\u001b[0;32m   3984\u001b[0m \u001b[43m\u001b[49m\u001b[43m)\u001b[49m\n",
      "File \u001b[1;32mc:\\Users\\Ahmad\\AppData\\Local\\Programs\\Python\\Python310\\lib\\site-packages\\pandas\\io\\formats\\format.py:1014\u001b[0m, in \u001b[0;36mDataFrameRenderer.to_csv\u001b[1;34m(self, path_or_buf, encoding, sep, columns, index_label, mode, compression, quoting, quotechar, lineterminator, chunksize, date_format, doublequote, escapechar, errors, storage_options)\u001b[0m\n\u001b[0;32m    993\u001b[0m     created_buffer \u001b[38;5;241m=\u001b[39m \u001b[38;5;28;01mFalse\u001b[39;00m\n\u001b[0;32m    995\u001b[0m csv_formatter \u001b[38;5;241m=\u001b[39m CSVFormatter(\n\u001b[0;32m    996\u001b[0m     path_or_buf\u001b[38;5;241m=\u001b[39mpath_or_buf,\n\u001b[0;32m    997\u001b[0m     lineterminator\u001b[38;5;241m=\u001b[39mlineterminator,\n\u001b[1;32m   (...)\u001b[0m\n\u001b[0;32m   1012\u001b[0m     formatter\u001b[38;5;241m=\u001b[39m\u001b[38;5;28mself\u001b[39m\u001b[38;5;241m.\u001b[39mfmt,\n\u001b[0;32m   1013\u001b[0m )\n\u001b[1;32m-> 1014\u001b[0m \u001b[43mcsv_formatter\u001b[49m\u001b[38;5;241;43m.\u001b[39;49m\u001b[43msave\u001b[49m\u001b[43m(\u001b[49m\u001b[43m)\u001b[49m\n\u001b[0;32m   1016\u001b[0m \u001b[38;5;28;01mif\u001b[39;00m created_buffer:\n\u001b[0;32m   1017\u001b[0m     \u001b[38;5;28;01massert\u001b[39;00m \u001b[38;5;28misinstance\u001b[39m(path_or_buf, StringIO)\n",
      "File \u001b[1;32mc:\\Users\\Ahmad\\AppData\\Local\\Programs\\Python\\Python310\\lib\\site-packages\\pandas\\io\\formats\\csvs.py:251\u001b[0m, in \u001b[0;36mCSVFormatter.save\u001b[1;34m(self)\u001b[0m\n\u001b[0;32m    247\u001b[0m \u001b[38;5;250m\u001b[39m\u001b[38;5;124;03m\"\"\"\u001b[39;00m\n\u001b[0;32m    248\u001b[0m \u001b[38;5;124;03mCreate the writer & save.\u001b[39;00m\n\u001b[0;32m    249\u001b[0m \u001b[38;5;124;03m\"\"\"\u001b[39;00m\n\u001b[0;32m    250\u001b[0m \u001b[38;5;66;03m# apply compression and byte/text conversion\u001b[39;00m\n\u001b[1;32m--> 251\u001b[0m \u001b[38;5;28;01mwith\u001b[39;00m \u001b[43mget_handle\u001b[49m\u001b[43m(\u001b[49m\n\u001b[0;32m    252\u001b[0m \u001b[43m    \u001b[49m\u001b[38;5;28;43mself\u001b[39;49m\u001b[38;5;241;43m.\u001b[39;49m\u001b[43mfilepath_or_buffer\u001b[49m\u001b[43m,\u001b[49m\n\u001b[0;32m    253\u001b[0m \u001b[43m    \u001b[49m\u001b[38;5;28;43mself\u001b[39;49m\u001b[38;5;241;43m.\u001b[39;49m\u001b[43mmode\u001b[49m\u001b[43m,\u001b[49m\n\u001b[0;32m    254\u001b[0m \u001b[43m    \u001b[49m\u001b[43mencoding\u001b[49m\u001b[38;5;241;43m=\u001b[39;49m\u001b[38;5;28;43mself\u001b[39;49m\u001b[38;5;241;43m.\u001b[39;49m\u001b[43mencoding\u001b[49m\u001b[43m,\u001b[49m\n\u001b[0;32m    255\u001b[0m \u001b[43m    \u001b[49m\u001b[43merrors\u001b[49m\u001b[38;5;241;43m=\u001b[39;49m\u001b[38;5;28;43mself\u001b[39;49m\u001b[38;5;241;43m.\u001b[39;49m\u001b[43merrors\u001b[49m\u001b[43m,\u001b[49m\n\u001b[0;32m    256\u001b[0m \u001b[43m    \u001b[49m\u001b[43mcompression\u001b[49m\u001b[38;5;241;43m=\u001b[39;49m\u001b[38;5;28;43mself\u001b[39;49m\u001b[38;5;241;43m.\u001b[39;49m\u001b[43mcompression\u001b[49m\u001b[43m,\u001b[49m\n\u001b[0;32m    257\u001b[0m \u001b[43m    \u001b[49m\u001b[43mstorage_options\u001b[49m\u001b[38;5;241;43m=\u001b[39;49m\u001b[38;5;28;43mself\u001b[39;49m\u001b[38;5;241;43m.\u001b[39;49m\u001b[43mstorage_options\u001b[49m\u001b[43m,\u001b[49m\n\u001b[0;32m    258\u001b[0m \u001b[43m\u001b[49m\u001b[43m)\u001b[49m \u001b[38;5;28;01mas\u001b[39;00m handles:\n\u001b[0;32m    259\u001b[0m     \u001b[38;5;66;03m# Note: self.encoding is irrelevant here\u001b[39;00m\n\u001b[0;32m    260\u001b[0m     \u001b[38;5;28mself\u001b[39m\u001b[38;5;241m.\u001b[39mwriter \u001b[38;5;241m=\u001b[39m csvlib\u001b[38;5;241m.\u001b[39mwriter(\n\u001b[0;32m    261\u001b[0m         handles\u001b[38;5;241m.\u001b[39mhandle,\n\u001b[0;32m    262\u001b[0m         lineterminator\u001b[38;5;241m=\u001b[39m\u001b[38;5;28mself\u001b[39m\u001b[38;5;241m.\u001b[39mlineterminator,\n\u001b[1;32m   (...)\u001b[0m\n\u001b[0;32m    267\u001b[0m         quotechar\u001b[38;5;241m=\u001b[39m\u001b[38;5;28mself\u001b[39m\u001b[38;5;241m.\u001b[39mquotechar,\n\u001b[0;32m    268\u001b[0m     )\n\u001b[0;32m    270\u001b[0m     \u001b[38;5;28mself\u001b[39m\u001b[38;5;241m.\u001b[39m_save()\n",
      "File \u001b[1;32mc:\\Users\\Ahmad\\AppData\\Local\\Programs\\Python\\Python310\\lib\\site-packages\\pandas\\io\\common.py:873\u001b[0m, in \u001b[0;36mget_handle\u001b[1;34m(path_or_buf, mode, encoding, compression, memory_map, is_text, errors, storage_options)\u001b[0m\n\u001b[0;32m    868\u001b[0m \u001b[38;5;28;01melif\u001b[39;00m \u001b[38;5;28misinstance\u001b[39m(handle, \u001b[38;5;28mstr\u001b[39m):\n\u001b[0;32m    869\u001b[0m     \u001b[38;5;66;03m# Check whether the filename is to be opened in binary mode.\u001b[39;00m\n\u001b[0;32m    870\u001b[0m     \u001b[38;5;66;03m# Binary mode does not support 'encoding' and 'newline'.\u001b[39;00m\n\u001b[0;32m    871\u001b[0m     \u001b[38;5;28;01mif\u001b[39;00m ioargs\u001b[38;5;241m.\u001b[39mencoding \u001b[38;5;129;01mand\u001b[39;00m \u001b[38;5;124m\"\u001b[39m\u001b[38;5;124mb\u001b[39m\u001b[38;5;124m\"\u001b[39m \u001b[38;5;129;01mnot\u001b[39;00m \u001b[38;5;129;01min\u001b[39;00m ioargs\u001b[38;5;241m.\u001b[39mmode:\n\u001b[0;32m    872\u001b[0m         \u001b[38;5;66;03m# Encoding\u001b[39;00m\n\u001b[1;32m--> 873\u001b[0m         handle \u001b[38;5;241m=\u001b[39m \u001b[38;5;28;43mopen\u001b[39;49m\u001b[43m(\u001b[49m\n\u001b[0;32m    874\u001b[0m \u001b[43m            \u001b[49m\u001b[43mhandle\u001b[49m\u001b[43m,\u001b[49m\n\u001b[0;32m    875\u001b[0m \u001b[43m            \u001b[49m\u001b[43mioargs\u001b[49m\u001b[38;5;241;43m.\u001b[39;49m\u001b[43mmode\u001b[49m\u001b[43m,\u001b[49m\n\u001b[0;32m    876\u001b[0m \u001b[43m            \u001b[49m\u001b[43mencoding\u001b[49m\u001b[38;5;241;43m=\u001b[39;49m\u001b[43mioargs\u001b[49m\u001b[38;5;241;43m.\u001b[39;49m\u001b[43mencoding\u001b[49m\u001b[43m,\u001b[49m\n\u001b[0;32m    877\u001b[0m \u001b[43m            \u001b[49m\u001b[43merrors\u001b[49m\u001b[38;5;241;43m=\u001b[39;49m\u001b[43merrors\u001b[49m\u001b[43m,\u001b[49m\n\u001b[0;32m    878\u001b[0m \u001b[43m            \u001b[49m\u001b[43mnewline\u001b[49m\u001b[38;5;241;43m=\u001b[39;49m\u001b[38;5;124;43m\"\u001b[39;49m\u001b[38;5;124;43m\"\u001b[39;49m\u001b[43m,\u001b[49m\n\u001b[0;32m    879\u001b[0m \u001b[43m        \u001b[49m\u001b[43m)\u001b[49m\n\u001b[0;32m    880\u001b[0m     \u001b[38;5;28;01melse\u001b[39;00m:\n\u001b[0;32m    881\u001b[0m         \u001b[38;5;66;03m# Binary mode\u001b[39;00m\n\u001b[0;32m    882\u001b[0m         handle \u001b[38;5;241m=\u001b[39m \u001b[38;5;28mopen\u001b[39m(handle, ioargs\u001b[38;5;241m.\u001b[39mmode)\n",
      "\u001b[1;31mPermissionError\u001b[0m: [Errno 13] Permission denied: 'results/enriched_pages.csv'"
     ]
    }
   ],
   "source": [
    "import os\n",
    "import pandas as pd\n",
    "from apify_client import ApifyClient\n",
    "from dotenv import load_dotenv\n",
    "\n",
    "# Load your APIFY token\n",
    "load_dotenv()\n",
    "token = os.getenv(\"APIFY_API_TOKEN\")\n",
    "if not token:\n",
    "    raise RuntimeError(\"❌ Missing APIFY_API_TOKEN in .env\")\n",
    "\n",
    "client = ApifyClient(token)\n",
    "\n",
    "def scrape_fb_page(url):\n",
    "    try:\n",
    "        print(f\"🔍 Scraping: {url}\")\n",
    "        run = client.actor(\"apify/facebook-search-scraper\").call(\n",
    "            run_input={\n",
    "                \"startUrls\": [{\"url\": url}],\n",
    "                \"scrapeAbout\": True,\n",
    "                \"scrapeServices\": False,\n",
    "                \"scrapeReviews\": False,\n",
    "                \"scrapePosts\": False\n",
    "            }\n",
    "        )\n",
    "        dataset_id = run.get(\"defaultDatasetId\")\n",
    "        if not dataset_id:\n",
    "            return {}\n",
    "\n",
    "        items = list(client.dataset(dataset_id).iterate_items())\n",
    "        return items[0] if items else {}\n",
    "\n",
    "    except Exception as e:\n",
    "        print(f\"❌ Failed to scrape {url}: {e}\")\n",
    "        return {}\n",
    "\n",
    "def enrich_pages(input_csv=\"results/ads_cleaned.csv\", output_csv=\"results/enriched_pages.csv\"):\n",
    "    df = pd.read_csv(input_csv)\n",
    "    enriched = []\n",
    "    seen = set()\n",
    "\n",
    "    for _, row in df.iterrows():\n",
    "        page = row.get(\"page_name\", \"\").strip()\n",
    "        if not page or page in seen:\n",
    "            continue\n",
    "        seen.add(page)\n",
    "\n",
    "        url = f\"https://www.facebook.com/{page.replace(' ', '')}\"\n",
    "        data = scrape_fb_page(url)\n",
    "\n",
    "        if data:\n",
    "            enriched.append({\n",
    "                \"page_name\": page,\n",
    "                \"page_url\": url,\n",
    "                \"website\": data.get(\"website\", \"\"),\n",
    "                \"email\": data.get(\"email\", \"\"),\n",
    "                \"phone\": data.get(\"phone\", \"\"),\n",
    "                \"category\": data.get(\"category\", \"\"),\n",
    "                \"bio\": data.get(\"bio\", \"\"),\n",
    "                \"address\": data.get(\"address\", \"\")\n",
    "            })\n",
    "\n",
    "    out_df = pd.DataFrame(enriched)\n",
    "    os.makedirs(\"results\", exist_ok=True)\n",
    "    out_df.to_csv(output_csv, index=False, encoding=\"utf-8\")\n",
    "    print(f\"✅ Done — Enriched {len(out_df)} pages and saved to {output_csv}\")\n",
    "\n",
    "if __name__ == \"__main__\":\n",
    "    enrich_pages()\n"
   ]
  },
  {
   "cell_type": "code",
   "execution_count": null,
   "id": "de335351",
   "metadata": {},
   "outputs": [],
   "source": []
  }
 ],
 "metadata": {
  "kernelspec": {
   "display_name": "Python 3",
   "language": "python",
   "name": "python3"
  },
  "language_info": {
   "codemirror_mode": {
    "name": "ipython",
    "version": 3
   },
   "file_extension": ".py",
   "mimetype": "text/x-python",
   "name": "python",
   "nbconvert_exporter": "python",
   "pygments_lexer": "ipython3",
   "version": "3.10.11"
  }
 },
 "nbformat": 4,
 "nbformat_minor": 5
}
